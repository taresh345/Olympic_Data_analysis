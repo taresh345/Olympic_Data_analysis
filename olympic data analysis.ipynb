{
 "cells": [
  {
   "cell_type": "code",
   "execution_count": 129,
   "id": "35879d1e",
   "metadata": {},
   "outputs": [],
   "source": [
    "import pandas as pd\n",
    "import numpy as np\n",
    "import matplotlib.pyplot as plt\n",
    "import seaborn as sns\n"
   ]
  },
  {
   "cell_type": "code",
   "execution_count": 130,
   "id": "89dfad03",
   "metadata": {},
   "outputs": [],
   "source": [
    "df=pd.read_csv('D://ML ineuron//olympic DATA analysis//archive//athlete_events.csv')\n",
    "region_df=pd.read_csv(\"D://ML ineuron//olympic DATA analysis//archive//noc_regions.csv\")"
   ]
  },
  {
   "cell_type": "markdown",
   "id": "515406e9",
   "metadata": {},
   "source": [
    "# SUMMER OLYMPICS DATASET \n",
    "#### S_df = summer olympics data set \n",
    "#### W_df= winter olympics data set "
   ]
  },
  {
   "cell_type": "code",
   "execution_count": 145,
   "id": "c18400de",
   "metadata": {},
   "outputs": [
    {
     "data": {
      "text/plain": [
       "array(['Summer', 'Winter'], dtype=object)"
      ]
     },
     "execution_count": 145,
     "metadata": {},
     "output_type": "execute_result"
    }
   ],
   "source": [
    "df.Season.unique()   # unique values in Season column \n",
    "\n",
    "# 'Summer' AND 'Winter'"
   ]
  },
  {
   "cell_type": "code",
   "execution_count": 146,
   "id": "770214e1",
   "metadata": {},
   "outputs": [],
   "source": [
    "S_df=df[df['Season']==\"Summer\"]\n",
    "W_df=df[df['Season']==\"Winter\"]\n"
   ]
  },
  {
   "cell_type": "code",
   "execution_count": 147,
   "id": "3ce8c556",
   "metadata": {},
   "outputs": [],
   "source": [
    "# our analysis will be on summer olympics dataset since its more popular one among tropic and equatorial regions \n"
   ]
  },
  {
   "cell_type": "code",
   "execution_count": 148,
   "id": "5ad819ae",
   "metadata": {
    "scrolled": true
   },
   "outputs": [],
   "source": [
    "# NOC IS A COMMON COLUMN !WE WILL  JOIN TWO TABLES  REGION_DF AND DF WITH MATCHING THEM "
   ]
  },
  {
   "cell_type": "code",
   "execution_count": 149,
   "id": "9cdeeacb",
   "metadata": {
    "scrolled": false
   },
   "outputs": [],
   "source": [
    "S_df=S_df.merge(region_df,on='NOC',how='left')\n"
   ]
  },
  {
   "cell_type": "code",
   "execution_count": 150,
   "id": "ad3e3c3f",
   "metadata": {},
   "outputs": [
    {
     "data": {
      "text/plain": [
       "(206,)"
      ]
     },
     "execution_count": 150,
     "metadata": {},
     "output_type": "execute_result"
    }
   ],
   "source": [
    "S_df['region'].unique().shape   #  take care of historic issue ex=germany ,Russia "
   ]
  },
  {
   "cell_type": "code",
   "execution_count": 151,
   "id": "f4216a6a",
   "metadata": {},
   "outputs": [
    {
     "data": {
      "text/plain": [
       "1385"
      ]
     },
     "execution_count": 151,
     "metadata": {},
     "output_type": "execute_result"
    }
   ],
   "source": [
    "S_df.duplicated().sum()"
   ]
  },
  {
   "cell_type": "markdown",
   "id": "03b7fb34",
   "metadata": {},
   "source": [
    "# MEDAL TALLY "
   ]
  },
  {
   "cell_type": "code",
   "execution_count": 152,
   "id": "3c0520c2",
   "metadata": {},
   "outputs": [
    {
     "data": {
      "text/plain": [
       "Gold      11459\n",
       "Bronze    11409\n",
       "Silver    11220\n",
       "Name: Medal, dtype: int64"
      ]
     },
     "execution_count": 152,
     "metadata": {},
     "output_type": "execute_result"
    }
   ],
   "source": [
    "S_df['Medal'].value_counts()"
   ]
  },
  {
   "cell_type": "code",
   "execution_count": 153,
   "id": "eadedbcb",
   "metadata": {},
   "outputs": [],
   "source": [
    "S_df=pd.concat( [ S_df, pd.get_dummies(S_df['Medal']) ] ,axis=1 )   # adding one hot encoded df to orignal summer dataframe"
   ]
  },
  {
   "cell_type": "code",
   "execution_count": 154,
   "id": "d7817a5d",
   "metadata": {},
   "outputs": [],
   "source": [
    "# sorting nations by medal tally \n"
   ]
  },
  {
   "cell_type": "code",
   "execution_count": 155,
   "id": "7fc986c6",
   "metadata": {},
   "outputs": [
    {
     "data": {
      "text/html": [
       "<div>\n",
       "<style scoped>\n",
       "    .dataframe tbody tr th:only-of-type {\n",
       "        vertical-align: middle;\n",
       "    }\n",
       "\n",
       "    .dataframe tbody tr th {\n",
       "        vertical-align: top;\n",
       "    }\n",
       "\n",
       "    .dataframe thead th {\n",
       "        text-align: right;\n",
       "    }\n",
       "</style>\n",
       "<table border=\"1\" class=\"dataframe\">\n",
       "  <thead>\n",
       "    <tr style=\"text-align: right;\">\n",
       "      <th></th>\n",
       "      <th>NOC</th>\n",
       "      <th>Gold</th>\n",
       "      <th>Silver</th>\n",
       "      <th>Bronze</th>\n",
       "    </tr>\n",
       "  </thead>\n",
       "  <tbody>\n",
       "    <tr>\n",
       "      <th>0</th>\n",
       "      <td>USA</td>\n",
       "      <td>2472.0</td>\n",
       "      <td>1333.0</td>\n",
       "      <td>1197.0</td>\n",
       "    </tr>\n",
       "    <tr>\n",
       "      <th>1</th>\n",
       "      <td>URS</td>\n",
       "      <td>832.0</td>\n",
       "      <td>635.0</td>\n",
       "      <td>596.0</td>\n",
       "    </tr>\n",
       "    <tr>\n",
       "      <th>2</th>\n",
       "      <td>GBR</td>\n",
       "      <td>636.0</td>\n",
       "      <td>729.0</td>\n",
       "      <td>620.0</td>\n",
       "    </tr>\n",
       "    <tr>\n",
       "      <th>3</th>\n",
       "      <td>GER</td>\n",
       "      <td>592.0</td>\n",
       "      <td>538.0</td>\n",
       "      <td>649.0</td>\n",
       "    </tr>\n",
       "    <tr>\n",
       "      <th>4</th>\n",
       "      <td>ITA</td>\n",
       "      <td>518.0</td>\n",
       "      <td>474.0</td>\n",
       "      <td>454.0</td>\n",
       "    </tr>\n",
       "    <tr>\n",
       "      <th>...</th>\n",
       "      <td>...</td>\n",
       "      <td>...</td>\n",
       "      <td>...</td>\n",
       "      <td>...</td>\n",
       "    </tr>\n",
       "    <tr>\n",
       "      <th>225</th>\n",
       "      <td>AHO</td>\n",
       "      <td>0.0</td>\n",
       "      <td>1.0</td>\n",
       "      <td>0.0</td>\n",
       "    </tr>\n",
       "    <tr>\n",
       "      <th>226</th>\n",
       "      <td>LBR</td>\n",
       "      <td>0.0</td>\n",
       "      <td>0.0</td>\n",
       "      <td>0.0</td>\n",
       "    </tr>\n",
       "    <tr>\n",
       "      <th>227</th>\n",
       "      <td>LCA</td>\n",
       "      <td>0.0</td>\n",
       "      <td>0.0</td>\n",
       "      <td>0.0</td>\n",
       "    </tr>\n",
       "    <tr>\n",
       "      <th>228</th>\n",
       "      <td>LES</td>\n",
       "      <td>0.0</td>\n",
       "      <td>0.0</td>\n",
       "      <td>0.0</td>\n",
       "    </tr>\n",
       "    <tr>\n",
       "      <th>229</th>\n",
       "      <td>LBA</td>\n",
       "      <td>0.0</td>\n",
       "      <td>0.0</td>\n",
       "      <td>0.0</td>\n",
       "    </tr>\n",
       "  </tbody>\n",
       "</table>\n",
       "<p>230 rows × 4 columns</p>\n",
       "</div>"
      ],
      "text/plain": [
       "     NOC    Gold  Silver  Bronze\n",
       "0    USA  2472.0  1333.0  1197.0\n",
       "1    URS   832.0   635.0   596.0\n",
       "2    GBR   636.0   729.0   620.0\n",
       "3    GER   592.0   538.0   649.0\n",
       "4    ITA   518.0   474.0   454.0\n",
       "..   ...     ...     ...     ...\n",
       "225  AHO     0.0     1.0     0.0\n",
       "226  LBR     0.0     0.0     0.0\n",
       "227  LCA     0.0     0.0     0.0\n",
       "228  LES     0.0     0.0     0.0\n",
       "229  LBA     0.0     0.0     0.0\n",
       "\n",
       "[230 rows x 4 columns]"
      ]
     },
     "execution_count": 155,
     "metadata": {},
     "output_type": "execute_result"
    }
   ],
   "source": [
    "S_df.groupby('NOC').sum()[[\"Gold\",\"Silver\",\"Bronze\"]].sort_values('Gold',ascending=False).reset_index()\n",
    "\n",
    "# this medal tally is wrong because a win in team sports is counted as one medal ,\n",
    "# but here all medals are counted by every individual member"
   ]
  },
  {
   "cell_type": "code",
   "execution_count": 156,
   "id": "19629836",
   "metadata": {},
   "outputs": [],
   "source": [
    "#  to count team medals as only one \n",
    "# to remove duplicate rows of specific columns ,\n",
    "# we are only removing duplicate entries of the same team (hockey has 11 players +reserve)\n",
    "# medal table does not have all the player names , just number of medal per country \n",
    "medal_tally=S_df.drop_duplicates(subset=['Team',\"NOC\",\"Games\",\"Year\",\"City\",\"Sport\",\"Event\",\"Medal\"])"
   ]
  },
  {
   "cell_type": "code",
   "execution_count": 157,
   "id": "8fa5b0a0",
   "metadata": {
    "scrolled": false
   },
   "outputs": [
    {
     "data": {
      "text/plain": [
       "Bronze    5612\n",
       "Gold      5246\n",
       "Silver    5216\n",
       "Name: Medal, dtype: int64"
      ]
     },
     "execution_count": 157,
     "metadata": {},
     "output_type": "execute_result"
    }
   ],
   "source": [
    "medal_tally['Medal'].value_counts()"
   ]
  },
  {
   "cell_type": "code",
   "execution_count": 158,
   "id": "ce238f3e",
   "metadata": {},
   "outputs": [],
   "source": [
    "medal_tally=medal_tally.groupby('NOC').sum()[[\"Gold\",\"Silver\",\"Bronze\"]].sort_values('Gold',ascending=False).reset_index()\n",
    "medal_tally['Total Medals']=medal_tally['Gold']+medal_tally['Silver']+medal_tally['Bronze']\n",
    "#  now it is very close to medal tallly till 2016 olympics  \n",
    "# there are still discrepanices which can be awarded to updated countries / banned countres  etc ."
   ]
  },
  {
   "cell_type": "code",
   "execution_count": 159,
   "id": "30d1a8aa",
   "metadata": {},
   "outputs": [
    {
     "data": {
      "text/html": [
       "<div>\n",
       "<style scoped>\n",
       "    .dataframe tbody tr th:only-of-type {\n",
       "        vertical-align: middle;\n",
       "    }\n",
       "\n",
       "    .dataframe tbody tr th {\n",
       "        vertical-align: top;\n",
       "    }\n",
       "\n",
       "    .dataframe thead th {\n",
       "        text-align: right;\n",
       "    }\n",
       "</style>\n",
       "<table border=\"1\" class=\"dataframe\">\n",
       "  <thead>\n",
       "    <tr style=\"text-align: right;\">\n",
       "      <th></th>\n",
       "      <th>NOC</th>\n",
       "      <th>Gold</th>\n",
       "      <th>Silver</th>\n",
       "      <th>Bronze</th>\n",
       "      <th>Total Medals</th>\n",
       "    </tr>\n",
       "  </thead>\n",
       "  <tbody>\n",
       "    <tr>\n",
       "      <th>0</th>\n",
       "      <td>USA</td>\n",
       "      <td>1035.0</td>\n",
       "      <td>802.0</td>\n",
       "      <td>708.0</td>\n",
       "      <td>2545.0</td>\n",
       "    </tr>\n",
       "    <tr>\n",
       "      <th>1</th>\n",
       "      <td>URS</td>\n",
       "      <td>394.0</td>\n",
       "      <td>317.0</td>\n",
       "      <td>294.0</td>\n",
       "      <td>1005.0</td>\n",
       "    </tr>\n",
       "    <tr>\n",
       "      <th>2</th>\n",
       "      <td>GBR</td>\n",
       "      <td>278.0</td>\n",
       "      <td>317.0</td>\n",
       "      <td>300.0</td>\n",
       "      <td>895.0</td>\n",
       "    </tr>\n",
       "    <tr>\n",
       "      <th>3</th>\n",
       "      <td>GER</td>\n",
       "      <td>235.0</td>\n",
       "      <td>261.0</td>\n",
       "      <td>283.0</td>\n",
       "      <td>779.0</td>\n",
       "    </tr>\n",
       "    <tr>\n",
       "      <th>4</th>\n",
       "      <td>FRA</td>\n",
       "      <td>234.0</td>\n",
       "      <td>256.0</td>\n",
       "      <td>287.0</td>\n",
       "      <td>777.0</td>\n",
       "    </tr>\n",
       "    <tr>\n",
       "      <th>...</th>\n",
       "      <td>...</td>\n",
       "      <td>...</td>\n",
       "      <td>...</td>\n",
       "      <td>...</td>\n",
       "      <td>...</td>\n",
       "    </tr>\n",
       "    <tr>\n",
       "      <th>225</th>\n",
       "      <td>AHO</td>\n",
       "      <td>0.0</td>\n",
       "      <td>1.0</td>\n",
       "      <td>0.0</td>\n",
       "      <td>1.0</td>\n",
       "    </tr>\n",
       "    <tr>\n",
       "      <th>226</th>\n",
       "      <td>LBR</td>\n",
       "      <td>0.0</td>\n",
       "      <td>0.0</td>\n",
       "      <td>0.0</td>\n",
       "      <td>0.0</td>\n",
       "    </tr>\n",
       "    <tr>\n",
       "      <th>227</th>\n",
       "      <td>LCA</td>\n",
       "      <td>0.0</td>\n",
       "      <td>0.0</td>\n",
       "      <td>0.0</td>\n",
       "      <td>0.0</td>\n",
       "    </tr>\n",
       "    <tr>\n",
       "      <th>228</th>\n",
       "      <td>LES</td>\n",
       "      <td>0.0</td>\n",
       "      <td>0.0</td>\n",
       "      <td>0.0</td>\n",
       "      <td>0.0</td>\n",
       "    </tr>\n",
       "    <tr>\n",
       "      <th>229</th>\n",
       "      <td>LBA</td>\n",
       "      <td>0.0</td>\n",
       "      <td>0.0</td>\n",
       "      <td>0.0</td>\n",
       "      <td>0.0</td>\n",
       "    </tr>\n",
       "  </tbody>\n",
       "</table>\n",
       "<p>230 rows × 5 columns</p>\n",
       "</div>"
      ],
      "text/plain": [
       "     NOC    Gold  Silver  Bronze  Total Medals\n",
       "0    USA  1035.0   802.0   708.0        2545.0\n",
       "1    URS   394.0   317.0   294.0        1005.0\n",
       "2    GBR   278.0   317.0   300.0         895.0\n",
       "3    GER   235.0   261.0   283.0         779.0\n",
       "4    FRA   234.0   256.0   287.0         777.0\n",
       "..   ...     ...     ...     ...           ...\n",
       "225  AHO     0.0     1.0     0.0           1.0\n",
       "226  LBR     0.0     0.0     0.0           0.0\n",
       "227  LCA     0.0     0.0     0.0           0.0\n",
       "228  LES     0.0     0.0     0.0           0.0\n",
       "229  LBA     0.0     0.0     0.0           0.0\n",
       "\n",
       "[230 rows x 5 columns]"
      ]
     },
     "execution_count": 159,
     "metadata": {},
     "output_type": "execute_result"
    }
   ],
   "source": [
    "medal_tally"
   ]
  },
  {
   "cell_type": "markdown",
   "id": "30c67620",
   "metadata": {},
   "source": [
    "# Seperating table by years and coutry\n"
   ]
  },
  {
   "cell_type": "code",
   "execution_count": 160,
   "id": "0a21bdb3",
   "metadata": {},
   "outputs": [],
   "source": [
    "Years=S_df.Year.unique().tolist()\n",
    "Years.sort()\n",
    "Years.insert(0,'Overall')\n",
    "\n"
   ]
  },
  {
   "cell_type": "code",
   "execution_count": 161,
   "id": "8513d3ef",
   "metadata": {},
   "outputs": [
    {
     "data": {
      "text/plain": [
       "['Afghanistan',\n",
       " 'Albania',\n",
       " 'Algeria',\n",
       " 'American Samoa',\n",
       " 'Andorra',\n",
       " 'Angola',\n",
       " 'Antigua',\n",
       " 'Argentina',\n",
       " 'Armenia',\n",
       " 'Aruba',\n",
       " 'Australia',\n",
       " 'Austria',\n",
       " 'Azerbaijan',\n",
       " 'Bahamas',\n",
       " 'Bahrain',\n",
       " 'Bangladesh',\n",
       " 'Barbados',\n",
       " 'Belarus',\n",
       " 'Belgium',\n",
       " 'Belize',\n",
       " 'Benin',\n",
       " 'Bermuda',\n",
       " 'Bhutan',\n",
       " 'Boliva',\n",
       " 'Bosnia and Herzegovina',\n",
       " 'Botswana',\n",
       " 'Brazil',\n",
       " 'Brunei',\n",
       " 'Bulgaria',\n",
       " 'Burkina Faso',\n",
       " 'Burundi',\n",
       " 'Cambodia',\n",
       " 'Cameroon',\n",
       " 'Canada',\n",
       " 'Cape Verde',\n",
       " 'Cayman Islands',\n",
       " 'Central African Republic',\n",
       " 'Chad',\n",
       " 'Chile',\n",
       " 'China',\n",
       " 'Colombia',\n",
       " 'Comoros',\n",
       " 'Cook Islands',\n",
       " 'Costa Rica',\n",
       " 'Croatia',\n",
       " 'Cuba',\n",
       " 'Curacao',\n",
       " 'Cyprus',\n",
       " 'Czech Republic',\n",
       " 'Democratic Republic of the Congo',\n",
       " 'Denmark',\n",
       " 'Djibouti',\n",
       " 'Dominica',\n",
       " 'Dominican Republic',\n",
       " 'Ecuador',\n",
       " 'Egypt',\n",
       " 'El Salvador',\n",
       " 'Equatorial Guinea',\n",
       " 'Eritrea',\n",
       " 'Estonia',\n",
       " 'Ethiopia',\n",
       " 'Fiji',\n",
       " 'Finland',\n",
       " 'France',\n",
       " 'Gabon',\n",
       " 'Gambia',\n",
       " 'Georgia',\n",
       " 'Germany',\n",
       " 'Ghana',\n",
       " 'Greece',\n",
       " 'Grenada',\n",
       " 'Guam',\n",
       " 'Guatemala',\n",
       " 'Guinea',\n",
       " 'Guinea-Bissau',\n",
       " 'Guyana',\n",
       " 'Haiti',\n",
       " 'Honduras',\n",
       " 'Hungary',\n",
       " 'Iceland',\n",
       " 'India',\n",
       " 'Individual Olympic Athletes',\n",
       " 'Indonesia',\n",
       " 'Iran',\n",
       " 'Iraq',\n",
       " 'Ireland',\n",
       " 'Israel',\n",
       " 'Italy',\n",
       " 'Ivory Coast',\n",
       " 'Jamaica',\n",
       " 'Japan',\n",
       " 'Jordan',\n",
       " 'Kazakhstan',\n",
       " 'Kenya',\n",
       " 'Kiribati',\n",
       " 'Kosovo',\n",
       " 'Kuwait',\n",
       " 'Kyrgyzstan',\n",
       " 'Laos',\n",
       " 'Latvia',\n",
       " 'Lebanon',\n",
       " 'Lesotho',\n",
       " 'Liberia',\n",
       " 'Libya',\n",
       " 'Liechtenstein',\n",
       " 'Lithuania',\n",
       " 'Luxembourg',\n",
       " 'Macedonia',\n",
       " 'Madagascar',\n",
       " 'Malawi',\n",
       " 'Malaysia',\n",
       " 'Maldives',\n",
       " 'Mali',\n",
       " 'Malta',\n",
       " 'Marshall Islands',\n",
       " 'Mauritania',\n",
       " 'Mauritius',\n",
       " 'Mexico',\n",
       " 'Micronesia',\n",
       " 'Moldova',\n",
       " 'Monaco',\n",
       " 'Mongolia',\n",
       " 'Montenegro',\n",
       " 'Morocco',\n",
       " 'Mozambique',\n",
       " 'Myanmar',\n",
       " 'Namibia',\n",
       " 'Nauru',\n",
       " 'Nepal',\n",
       " 'Netherlands',\n",
       " 'New Zealand',\n",
       " 'Nicaragua',\n",
       " 'Niger',\n",
       " 'Nigeria',\n",
       " 'North Korea',\n",
       " 'Norway',\n",
       " 'Oman',\n",
       " 'Pakistan',\n",
       " 'Palau',\n",
       " 'Palestine',\n",
       " 'Panama',\n",
       " 'Papua New Guinea',\n",
       " 'Paraguay',\n",
       " 'Peru',\n",
       " 'Philippines',\n",
       " 'Poland',\n",
       " 'Portugal',\n",
       " 'Puerto Rico',\n",
       " 'Qatar',\n",
       " 'Republic of Congo',\n",
       " 'Romania',\n",
       " 'Russia',\n",
       " 'Rwanda',\n",
       " 'Saint Kitts',\n",
       " 'Saint Lucia',\n",
       " 'Saint Vincent',\n",
       " 'Samoa',\n",
       " 'San Marino',\n",
       " 'Sao Tome and Principe',\n",
       " 'Saudi Arabia',\n",
       " 'Senegal',\n",
       " 'Serbia',\n",
       " 'Seychelles',\n",
       " 'Sierra Leone',\n",
       " 'Slovakia',\n",
       " 'Slovenia',\n",
       " 'Solomon Islands',\n",
       " 'Somalia',\n",
       " 'South Africa',\n",
       " 'South Korea',\n",
       " 'South Sudan',\n",
       " 'Spain',\n",
       " 'Sri Lanka',\n",
       " 'Sudan',\n",
       " 'Suriname',\n",
       " 'Swaziland',\n",
       " 'Sweden',\n",
       " 'Switzerland',\n",
       " 'Syria',\n",
       " 'Taiwan',\n",
       " 'Tajikistan',\n",
       " 'Tanzania',\n",
       " 'Thailand',\n",
       " 'Timor-Leste',\n",
       " 'Togo',\n",
       " 'Tonga',\n",
       " 'Trinidad',\n",
       " 'Tunisia',\n",
       " 'Turkey',\n",
       " 'Turkmenistan',\n",
       " 'UK',\n",
       " 'USA',\n",
       " 'Uganda',\n",
       " 'Ukraine',\n",
       " 'United Arab Emirates',\n",
       " 'Uruguay',\n",
       " 'Uzbekistan',\n",
       " 'Vanuatu',\n",
       " 'Venezuela',\n",
       " 'Vietnam',\n",
       " 'Virgin Islands, British',\n",
       " 'Virgin Islands, US',\n",
       " 'Yemen',\n",
       " 'Zambia',\n",
       " 'Zimbabwe']"
      ]
     },
     "execution_count": 161,
     "metadata": {},
     "output_type": "execute_result"
    }
   ],
   "source": [
    "country=S_df['region'].dropna().unique().tolist()\n",
    "country.sort()\n",
    "country"
   ]
  },
  {
   "cell_type": "markdown",
   "id": "dce28e02",
   "metadata": {},
   "source": [
    "# Function for medal tally by year for all countries "
   ]
  },
  {
   "cell_type": "code",
   "execution_count": 162,
   "id": "ac6ffa7b",
   "metadata": {},
   "outputs": [],
   "source": [
    "def fetch_medaltally(year,country,S_df):\n",
    "    medal_df=S_df.drop_duplicates(subset=['Team',\"NOC\",\"Games\",\"Year\",\"City\",\"Sport\",\"Event\",\"Medal\"])\n",
    "    flag=0\n",
    "    if year==\"Overall\" and country==\"Overall\":\n",
    "        temp_df=medal_df\n",
    "        flag=0\n",
    "    if year==\"Overall\" and country != \"Overall\":\n",
    "        flag=1\n",
    "        temp_df=medal_df[medal_df['region']==country]\n",
    "        \n",
    "    if year !=\"Overall\" and country ==\"Overall\":\n",
    "        flag=0\n",
    "        temp_df=medal_df[medal_df['Year']==int(year)]\n",
    "        \n",
    "    if year!=\"Overall\" and country !=\"Overall\":\n",
    "        temp_df=medal_df[(medal_df['Year']==year) &(medal_df['region']==country)]\n",
    "        flag=0\n",
    "    \n",
    "        \n",
    "        \n",
    "    if flag==0:        \n",
    "        temp_df=temp_df.groupby('region').sum()[[\"Gold\",\"Silver\",\"Bronze\"]].sort_values(by=['Gold','Silver','Bronze'],ascending=[False,False,False]).reset_index()\n",
    "\n",
    "\n",
    "    elif flag==1:\n",
    "        temp_df=temp_df.groupby('Year').sum()[[\"Gold\",\"Silver\",\"Bronze\"]].sort_values(\"Year\",ascending=True).reset_index()\n",
    "        \n",
    "    temp_df[\"Total Medals\"]= temp_df['Gold']+ temp_df['Silver']+ temp_df['Bronze']\n",
    "    return temp_df\n",
    "        \n",
    "        \n",
    "\n",
    "\n",
    "        \n"
   ]
  },
  {
   "cell_type": "code",
   "execution_count": 163,
   "id": "22f8a0e0",
   "metadata": {},
   "outputs": [
    {
     "data": {
      "text/plain": [
       "0      2545.0\n",
       "1      1577.0\n",
       "2      1392.0\n",
       "3       895.0\n",
       "4       777.0\n",
       "        ...  \n",
       "200       0.0\n",
       "201       0.0\n",
       "202       0.0\n",
       "203       0.0\n",
       "204       0.0\n",
       "Name: Total Medals, Length: 205, dtype: float64"
      ]
     },
     "execution_count": 163,
     "metadata": {},
     "output_type": "execute_result"
    }
   ],
   "source": [
    "fetch_medaltally(\"Overall\",\"Overall\",S_df)['Total Medals']\n"
   ]
  },
  {
   "cell_type": "markdown",
   "id": "37a8a456",
   "metadata": {},
   "source": [
    "# OVERALL ANALYSIS \n",
    "\n",
    "\n",
    "\n",
    "\n"
   ]
  },
  {
   "cell_type": "raw",
   "id": "12453069",
   "metadata": {},
   "source": [
    "NO. OF EDITIONS \n",
    "NO. OF CITIES\n",
    "NO. OF EVENTS/SPORTS\n",
    "NO. OF EDITIONS\n",
    "NO. OF ATHLETES\n",
    "NO. OF EDITIONS\n",
    "PARTICIPATING NATIONS"
   ]
  },
  {
   "cell_type": "code",
   "execution_count": 164,
   "id": "5a2a599f",
   "metadata": {
    "scrolled": true
   },
   "outputs": [],
   "source": [
    "# finding out number of editions \n",
    "total_edition=S_df['Year'].nunique() # till 2016 28 editions were held  ,1906 was later expunged from the official records "
   ]
  },
  {
   "cell_type": "code",
   "execution_count": 165,
   "id": "dd4379be",
   "metadata": {},
   "outputs": [],
   "source": [
    "#NO. OF CITIES/hosts\n",
    "cities_list=S_df.groupby(['Year'])['City'].unique()\n",
    "total_citie=S_df['City'].nunique()\n"
   ]
  },
  {
   "cell_type": "code",
   "execution_count": 166,
   "id": "fcdc78dc",
   "metadata": {},
   "outputs": [],
   "source": [
    "# no of sports played by year\n",
    "sports_list=S_df.groupby(['Year'])['Sport'].nunique()\n",
    "total_sports=S_df['Sport'].nunique()\n"
   ]
  },
  {
   "cell_type": "code",
   "execution_count": 167,
   "id": "be2142ba",
   "metadata": {},
   "outputs": [
    {
     "data": {
      "text/html": [
       "<div>\n",
       "<style scoped>\n",
       "    .dataframe tbody tr th:only-of-type {\n",
       "        vertical-align: middle;\n",
       "    }\n",
       "\n",
       "    .dataframe tbody tr th {\n",
       "        vertical-align: top;\n",
       "    }\n",
       "\n",
       "    .dataframe thead th {\n",
       "        text-align: right;\n",
       "    }\n",
       "</style>\n",
       "<table border=\"1\" class=\"dataframe\">\n",
       "  <thead>\n",
       "    <tr style=\"text-align: right;\">\n",
       "      <th></th>\n",
       "      <th>Edition</th>\n",
       "      <th>Event</th>\n",
       "    </tr>\n",
       "  </thead>\n",
       "  <tbody>\n",
       "    <tr>\n",
       "      <th>0</th>\n",
       "      <td>1896</td>\n",
       "      <td>43</td>\n",
       "    </tr>\n",
       "    <tr>\n",
       "      <th>1</th>\n",
       "      <td>1900</td>\n",
       "      <td>90</td>\n",
       "    </tr>\n",
       "    <tr>\n",
       "      <th>2</th>\n",
       "      <td>1904</td>\n",
       "      <td>95</td>\n",
       "    </tr>\n",
       "    <tr>\n",
       "      <th>3</th>\n",
       "      <td>1906</td>\n",
       "      <td>74</td>\n",
       "    </tr>\n",
       "    <tr>\n",
       "      <th>4</th>\n",
       "      <td>1908</td>\n",
       "      <td>109</td>\n",
       "    </tr>\n",
       "    <tr>\n",
       "      <th>5</th>\n",
       "      <td>1912</td>\n",
       "      <td>107</td>\n",
       "    </tr>\n",
       "    <tr>\n",
       "      <th>6</th>\n",
       "      <td>1920</td>\n",
       "      <td>158</td>\n",
       "    </tr>\n",
       "    <tr>\n",
       "      <th>7</th>\n",
       "      <td>1924</td>\n",
       "      <td>131</td>\n",
       "    </tr>\n",
       "    <tr>\n",
       "      <th>8</th>\n",
       "      <td>1928</td>\n",
       "      <td>122</td>\n",
       "    </tr>\n",
       "    <tr>\n",
       "      <th>9</th>\n",
       "      <td>1932</td>\n",
       "      <td>131</td>\n",
       "    </tr>\n",
       "    <tr>\n",
       "      <th>10</th>\n",
       "      <td>1936</td>\n",
       "      <td>150</td>\n",
       "    </tr>\n",
       "    <tr>\n",
       "      <th>11</th>\n",
       "      <td>1948</td>\n",
       "      <td>153</td>\n",
       "    </tr>\n",
       "    <tr>\n",
       "      <th>12</th>\n",
       "      <td>1952</td>\n",
       "      <td>149</td>\n",
       "    </tr>\n",
       "    <tr>\n",
       "      <th>13</th>\n",
       "      <td>1956</td>\n",
       "      <td>151</td>\n",
       "    </tr>\n",
       "    <tr>\n",
       "      <th>14</th>\n",
       "      <td>1960</td>\n",
       "      <td>150</td>\n",
       "    </tr>\n",
       "    <tr>\n",
       "      <th>15</th>\n",
       "      <td>1964</td>\n",
       "      <td>163</td>\n",
       "    </tr>\n",
       "    <tr>\n",
       "      <th>16</th>\n",
       "      <td>1968</td>\n",
       "      <td>172</td>\n",
       "    </tr>\n",
       "    <tr>\n",
       "      <th>17</th>\n",
       "      <td>1972</td>\n",
       "      <td>193</td>\n",
       "    </tr>\n",
       "    <tr>\n",
       "      <th>18</th>\n",
       "      <td>1976</td>\n",
       "      <td>198</td>\n",
       "    </tr>\n",
       "    <tr>\n",
       "      <th>19</th>\n",
       "      <td>1980</td>\n",
       "      <td>203</td>\n",
       "    </tr>\n",
       "    <tr>\n",
       "      <th>20</th>\n",
       "      <td>1984</td>\n",
       "      <td>221</td>\n",
       "    </tr>\n",
       "    <tr>\n",
       "      <th>21</th>\n",
       "      <td>1988</td>\n",
       "      <td>237</td>\n",
       "    </tr>\n",
       "    <tr>\n",
       "      <th>22</th>\n",
       "      <td>1992</td>\n",
       "      <td>257</td>\n",
       "    </tr>\n",
       "    <tr>\n",
       "      <th>23</th>\n",
       "      <td>1996</td>\n",
       "      <td>271</td>\n",
       "    </tr>\n",
       "    <tr>\n",
       "      <th>24</th>\n",
       "      <td>2000</td>\n",
       "      <td>300</td>\n",
       "    </tr>\n",
       "    <tr>\n",
       "      <th>25</th>\n",
       "      <td>2004</td>\n",
       "      <td>301</td>\n",
       "    </tr>\n",
       "    <tr>\n",
       "      <th>26</th>\n",
       "      <td>2008</td>\n",
       "      <td>302</td>\n",
       "    </tr>\n",
       "    <tr>\n",
       "      <th>27</th>\n",
       "      <td>2012</td>\n",
       "      <td>302</td>\n",
       "    </tr>\n",
       "    <tr>\n",
       "      <th>28</th>\n",
       "      <td>2016</td>\n",
       "      <td>306</td>\n",
       "    </tr>\n",
       "  </tbody>\n",
       "</table>\n",
       "</div>"
      ],
      "text/plain": [
       "    Edition  Event\n",
       "0      1896     43\n",
       "1      1900     90\n",
       "2      1904     95\n",
       "3      1906     74\n",
       "4      1908    109\n",
       "5      1912    107\n",
       "6      1920    158\n",
       "7      1924    131\n",
       "8      1928    122\n",
       "9      1932    131\n",
       "10     1936    150\n",
       "11     1948    153\n",
       "12     1952    149\n",
       "13     1956    151\n",
       "14     1960    150\n",
       "15     1964    163\n",
       "16     1968    172\n",
       "17     1972    193\n",
       "18     1976    198\n",
       "19     1980    203\n",
       "20     1984    221\n",
       "21     1988    237\n",
       "22     1992    257\n",
       "23     1996    271\n",
       "24     2000    300\n",
       "25     2004    301\n",
       "26     2008    302\n",
       "27     2012    302\n",
       "28     2016    306"
      ]
     },
     "execution_count": 167,
     "metadata": {},
     "output_type": "execute_result"
    }
   ],
   "source": [
    "# no of events played by year\n",
    "total_event=S_df['Event'].nunique()\n",
    "\n",
    "# ___________________________________Year vs number of Events_____________________________________\n",
    "event_list=S_df.groupby(['Year'])['Event'].nunique()\n",
    "event_list=event_list.to_frame().reset_index()\n",
    "event_list.rename(columns={\"Year\":\"Edition\"},inplace=True)\n",
    "event_list"
   ]
  },
  {
   "cell_type": "code",
   "execution_count": 168,
   "id": "a167f5a7",
   "metadata": {},
   "outputs": [],
   "source": [
    "total_athlete=S_df['Name'].nunique()\n",
    "\n",
    "athlete_list=S_df.groupby(['Year'])['Name'].nunique()\n",
    "athlete_list=athlete_list.to_frame().reset_index()\n",
    "athlete_list.rename(columns={\"Year\":\"Edition\"},inplace=True)\n",
    "athlete_list.rename(columns={\"Name\":\"No.of Athletes\"},inplace=True)\n",
    "\n",
    "\n",
    "# Change name to number of athletes"
   ]
  },
  {
   "cell_type": "code",
   "execution_count": 169,
   "id": "3aed0e56",
   "metadata": {},
   "outputs": [
    {
     "data": {
      "text/html": [
       "<div>\n",
       "<style scoped>\n",
       "    .dataframe tbody tr th:only-of-type {\n",
       "        vertical-align: middle;\n",
       "    }\n",
       "\n",
       "    .dataframe tbody tr th {\n",
       "        vertical-align: top;\n",
       "    }\n",
       "\n",
       "    .dataframe thead th {\n",
       "        text-align: right;\n",
       "    }\n",
       "</style>\n",
       "<table border=\"1\" class=\"dataframe\">\n",
       "  <thead>\n",
       "    <tr style=\"text-align: right;\">\n",
       "      <th></th>\n",
       "      <th>Edition</th>\n",
       "      <th>No. of participating nations</th>\n",
       "    </tr>\n",
       "  </thead>\n",
       "  <tbody>\n",
       "    <tr>\n",
       "      <th>0</th>\n",
       "      <td>1896</td>\n",
       "      <td>12</td>\n",
       "    </tr>\n",
       "    <tr>\n",
       "      <th>1</th>\n",
       "      <td>1900</td>\n",
       "      <td>31</td>\n",
       "    </tr>\n",
       "    <tr>\n",
       "      <th>2</th>\n",
       "      <td>1904</td>\n",
       "      <td>14</td>\n",
       "    </tr>\n",
       "    <tr>\n",
       "      <th>3</th>\n",
       "      <td>1906</td>\n",
       "      <td>20</td>\n",
       "    </tr>\n",
       "    <tr>\n",
       "      <th>4</th>\n",
       "      <td>1908</td>\n",
       "      <td>22</td>\n",
       "    </tr>\n",
       "    <tr>\n",
       "      <th>5</th>\n",
       "      <td>1912</td>\n",
       "      <td>28</td>\n",
       "    </tr>\n",
       "    <tr>\n",
       "      <th>6</th>\n",
       "      <td>1920</td>\n",
       "      <td>29</td>\n",
       "    </tr>\n",
       "    <tr>\n",
       "      <th>7</th>\n",
       "      <td>1924</td>\n",
       "      <td>45</td>\n",
       "    </tr>\n",
       "    <tr>\n",
       "      <th>8</th>\n",
       "      <td>1928</td>\n",
       "      <td>46</td>\n",
       "    </tr>\n",
       "    <tr>\n",
       "      <th>9</th>\n",
       "      <td>1932</td>\n",
       "      <td>47</td>\n",
       "    </tr>\n",
       "    <tr>\n",
       "      <th>10</th>\n",
       "      <td>1936</td>\n",
       "      <td>49</td>\n",
       "    </tr>\n",
       "    <tr>\n",
       "      <th>11</th>\n",
       "      <td>1948</td>\n",
       "      <td>58</td>\n",
       "    </tr>\n",
       "    <tr>\n",
       "      <th>12</th>\n",
       "      <td>1952</td>\n",
       "      <td>66</td>\n",
       "    </tr>\n",
       "    <tr>\n",
       "      <th>13</th>\n",
       "      <td>1956</td>\n",
       "      <td>70</td>\n",
       "    </tr>\n",
       "    <tr>\n",
       "      <th>14</th>\n",
       "      <td>1960</td>\n",
       "      <td>82</td>\n",
       "    </tr>\n",
       "    <tr>\n",
       "      <th>15</th>\n",
       "      <td>1964</td>\n",
       "      <td>93</td>\n",
       "    </tr>\n",
       "    <tr>\n",
       "      <th>16</th>\n",
       "      <td>1968</td>\n",
       "      <td>110</td>\n",
       "    </tr>\n",
       "    <tr>\n",
       "      <th>17</th>\n",
       "      <td>1972</td>\n",
       "      <td>119</td>\n",
       "    </tr>\n",
       "    <tr>\n",
       "      <th>18</th>\n",
       "      <td>1976</td>\n",
       "      <td>90</td>\n",
       "    </tr>\n",
       "    <tr>\n",
       "      <th>19</th>\n",
       "      <td>1980</td>\n",
       "      <td>80</td>\n",
       "    </tr>\n",
       "    <tr>\n",
       "      <th>20</th>\n",
       "      <td>1984</td>\n",
       "      <td>138</td>\n",
       "    </tr>\n",
       "    <tr>\n",
       "      <th>21</th>\n",
       "      <td>1988</td>\n",
       "      <td>155</td>\n",
       "    </tr>\n",
       "    <tr>\n",
       "      <th>22</th>\n",
       "      <td>1992</td>\n",
       "      <td>167</td>\n",
       "    </tr>\n",
       "    <tr>\n",
       "      <th>23</th>\n",
       "      <td>1996</td>\n",
       "      <td>195</td>\n",
       "    </tr>\n",
       "    <tr>\n",
       "      <th>24</th>\n",
       "      <td>2000</td>\n",
       "      <td>198</td>\n",
       "    </tr>\n",
       "    <tr>\n",
       "      <th>25</th>\n",
       "      <td>2004</td>\n",
       "      <td>199</td>\n",
       "    </tr>\n",
       "    <tr>\n",
       "      <th>26</th>\n",
       "      <td>2008</td>\n",
       "      <td>201</td>\n",
       "    </tr>\n",
       "    <tr>\n",
       "      <th>27</th>\n",
       "      <td>2012</td>\n",
       "      <td>202</td>\n",
       "    </tr>\n",
       "    <tr>\n",
       "      <th>28</th>\n",
       "      <td>2016</td>\n",
       "      <td>203</td>\n",
       "    </tr>\n",
       "  </tbody>\n",
       "</table>\n",
       "</div>"
      ],
      "text/plain": [
       "    Edition  No. of participating nations\n",
       "0      1896                            12\n",
       "1      1900                            31\n",
       "2      1904                            14\n",
       "3      1906                            20\n",
       "4      1908                            22\n",
       "5      1912                            28\n",
       "6      1920                            29\n",
       "7      1924                            45\n",
       "8      1928                            46\n",
       "9      1932                            47\n",
       "10     1936                            49\n",
       "11     1948                            58\n",
       "12     1952                            66\n",
       "13     1956                            70\n",
       "14     1960                            82\n",
       "15     1964                            93\n",
       "16     1968                           110\n",
       "17     1972                           119\n",
       "18     1976                            90\n",
       "19     1980                            80\n",
       "20     1984                           138\n",
       "21     1988                           155\n",
       "22     1992                           167\n",
       "23     1996                           195\n",
       "24     2000                           198\n",
       "25     2004                           199\n",
       "26     2008                           201\n",
       "27     2012                           202\n",
       "28     2016                           203"
      ]
     },
     "execution_count": 169,
     "metadata": {},
     "output_type": "execute_result"
    }
   ],
   "source": [
    "total_country=S_df['region'].nunique()\n",
    "country_list=S_df.groupby(['Year'])['region'].nunique()\n",
    "country_list=country_list.to_frame().reset_index()\n",
    "# country_list.rename(columns=['region':'n'])\n",
    "country_list.rename(columns={\"region\": \"No. of participating nations\",\"Year\":\"Edition\"},inplace=True)\n",
    "country_list"
   ]
  },
  {
   "cell_type": "code",
   "execution_count": 170,
   "id": "c2dfb76c",
   "metadata": {},
   "outputs": [
    {
     "data": {
      "application/vnd.plotly.v1+json": {
       "config": {
        "plotlyServerURL": "https://plot.ly"
       },
       "data": [
        {
         "hovertemplate": "Edition=%{x}<br>No. of participating nations=%{y}<extra></extra>",
         "legendgroup": "",
         "line": {
          "color": "#636efa",
          "dash": "solid"
         },
         "marker": {
          "symbol": "circle"
         },
         "mode": "lines",
         "name": "",
         "orientation": "v",
         "showlegend": false,
         "type": "scatter",
         "x": [
          1896,
          1900,
          1904,
          1906,
          1908,
          1912,
          1920,
          1924,
          1928,
          1932,
          1936,
          1948,
          1952,
          1956,
          1960,
          1964,
          1968,
          1972,
          1976,
          1980,
          1984,
          1988,
          1992,
          1996,
          2000,
          2004,
          2008,
          2012,
          2016
         ],
         "xaxis": "x",
         "y": [
          12,
          31,
          14,
          20,
          22,
          28,
          29,
          45,
          46,
          47,
          49,
          58,
          66,
          70,
          82,
          93,
          110,
          119,
          90,
          80,
          138,
          155,
          167,
          195,
          198,
          199,
          201,
          202,
          203
         ],
         "yaxis": "y"
        }
       ],
       "layout": {
        "legend": {
         "tracegroupgap": 0
        },
        "template": {
         "data": {
          "bar": [
           {
            "error_x": {
             "color": "#2a3f5f"
            },
            "error_y": {
             "color": "#2a3f5f"
            },
            "marker": {
             "line": {
              "color": "#E5ECF6",
              "width": 0.5
             },
             "pattern": {
              "fillmode": "overlay",
              "size": 10,
              "solidity": 0.2
             }
            },
            "type": "bar"
           }
          ],
          "barpolar": [
           {
            "marker": {
             "line": {
              "color": "#E5ECF6",
              "width": 0.5
             },
             "pattern": {
              "fillmode": "overlay",
              "size": 10,
              "solidity": 0.2
             }
            },
            "type": "barpolar"
           }
          ],
          "carpet": [
           {
            "aaxis": {
             "endlinecolor": "#2a3f5f",
             "gridcolor": "white",
             "linecolor": "white",
             "minorgridcolor": "white",
             "startlinecolor": "#2a3f5f"
            },
            "baxis": {
             "endlinecolor": "#2a3f5f",
             "gridcolor": "white",
             "linecolor": "white",
             "minorgridcolor": "white",
             "startlinecolor": "#2a3f5f"
            },
            "type": "carpet"
           }
          ],
          "choropleth": [
           {
            "colorbar": {
             "outlinewidth": 0,
             "ticks": ""
            },
            "type": "choropleth"
           }
          ],
          "contour": [
           {
            "colorbar": {
             "outlinewidth": 0,
             "ticks": ""
            },
            "colorscale": [
             [
              0,
              "#0d0887"
             ],
             [
              0.1111111111111111,
              "#46039f"
             ],
             [
              0.2222222222222222,
              "#7201a8"
             ],
             [
              0.3333333333333333,
              "#9c179e"
             ],
             [
              0.4444444444444444,
              "#bd3786"
             ],
             [
              0.5555555555555556,
              "#d8576b"
             ],
             [
              0.6666666666666666,
              "#ed7953"
             ],
             [
              0.7777777777777778,
              "#fb9f3a"
             ],
             [
              0.8888888888888888,
              "#fdca26"
             ],
             [
              1,
              "#f0f921"
             ]
            ],
            "type": "contour"
           }
          ],
          "contourcarpet": [
           {
            "colorbar": {
             "outlinewidth": 0,
             "ticks": ""
            },
            "type": "contourcarpet"
           }
          ],
          "heatmap": [
           {
            "colorbar": {
             "outlinewidth": 0,
             "ticks": ""
            },
            "colorscale": [
             [
              0,
              "#0d0887"
             ],
             [
              0.1111111111111111,
              "#46039f"
             ],
             [
              0.2222222222222222,
              "#7201a8"
             ],
             [
              0.3333333333333333,
              "#9c179e"
             ],
             [
              0.4444444444444444,
              "#bd3786"
             ],
             [
              0.5555555555555556,
              "#d8576b"
             ],
             [
              0.6666666666666666,
              "#ed7953"
             ],
             [
              0.7777777777777778,
              "#fb9f3a"
             ],
             [
              0.8888888888888888,
              "#fdca26"
             ],
             [
              1,
              "#f0f921"
             ]
            ],
            "type": "heatmap"
           }
          ],
          "heatmapgl": [
           {
            "colorbar": {
             "outlinewidth": 0,
             "ticks": ""
            },
            "colorscale": [
             [
              0,
              "#0d0887"
             ],
             [
              0.1111111111111111,
              "#46039f"
             ],
             [
              0.2222222222222222,
              "#7201a8"
             ],
             [
              0.3333333333333333,
              "#9c179e"
             ],
             [
              0.4444444444444444,
              "#bd3786"
             ],
             [
              0.5555555555555556,
              "#d8576b"
             ],
             [
              0.6666666666666666,
              "#ed7953"
             ],
             [
              0.7777777777777778,
              "#fb9f3a"
             ],
             [
              0.8888888888888888,
              "#fdca26"
             ],
             [
              1,
              "#f0f921"
             ]
            ],
            "type": "heatmapgl"
           }
          ],
          "histogram": [
           {
            "marker": {
             "pattern": {
              "fillmode": "overlay",
              "size": 10,
              "solidity": 0.2
             }
            },
            "type": "histogram"
           }
          ],
          "histogram2d": [
           {
            "colorbar": {
             "outlinewidth": 0,
             "ticks": ""
            },
            "colorscale": [
             [
              0,
              "#0d0887"
             ],
             [
              0.1111111111111111,
              "#46039f"
             ],
             [
              0.2222222222222222,
              "#7201a8"
             ],
             [
              0.3333333333333333,
              "#9c179e"
             ],
             [
              0.4444444444444444,
              "#bd3786"
             ],
             [
              0.5555555555555556,
              "#d8576b"
             ],
             [
              0.6666666666666666,
              "#ed7953"
             ],
             [
              0.7777777777777778,
              "#fb9f3a"
             ],
             [
              0.8888888888888888,
              "#fdca26"
             ],
             [
              1,
              "#f0f921"
             ]
            ],
            "type": "histogram2d"
           }
          ],
          "histogram2dcontour": [
           {
            "colorbar": {
             "outlinewidth": 0,
             "ticks": ""
            },
            "colorscale": [
             [
              0,
              "#0d0887"
             ],
             [
              0.1111111111111111,
              "#46039f"
             ],
             [
              0.2222222222222222,
              "#7201a8"
             ],
             [
              0.3333333333333333,
              "#9c179e"
             ],
             [
              0.4444444444444444,
              "#bd3786"
             ],
             [
              0.5555555555555556,
              "#d8576b"
             ],
             [
              0.6666666666666666,
              "#ed7953"
             ],
             [
              0.7777777777777778,
              "#fb9f3a"
             ],
             [
              0.8888888888888888,
              "#fdca26"
             ],
             [
              1,
              "#f0f921"
             ]
            ],
            "type": "histogram2dcontour"
           }
          ],
          "mesh3d": [
           {
            "colorbar": {
             "outlinewidth": 0,
             "ticks": ""
            },
            "type": "mesh3d"
           }
          ],
          "parcoords": [
           {
            "line": {
             "colorbar": {
              "outlinewidth": 0,
              "ticks": ""
             }
            },
            "type": "parcoords"
           }
          ],
          "pie": [
           {
            "automargin": true,
            "type": "pie"
           }
          ],
          "scatter": [
           {
            "fillpattern": {
             "fillmode": "overlay",
             "size": 10,
             "solidity": 0.2
            },
            "type": "scatter"
           }
          ],
          "scatter3d": [
           {
            "line": {
             "colorbar": {
              "outlinewidth": 0,
              "ticks": ""
             }
            },
            "marker": {
             "colorbar": {
              "outlinewidth": 0,
              "ticks": ""
             }
            },
            "type": "scatter3d"
           }
          ],
          "scattercarpet": [
           {
            "marker": {
             "colorbar": {
              "outlinewidth": 0,
              "ticks": ""
             }
            },
            "type": "scattercarpet"
           }
          ],
          "scattergeo": [
           {
            "marker": {
             "colorbar": {
              "outlinewidth": 0,
              "ticks": ""
             }
            },
            "type": "scattergeo"
           }
          ],
          "scattergl": [
           {
            "marker": {
             "colorbar": {
              "outlinewidth": 0,
              "ticks": ""
             }
            },
            "type": "scattergl"
           }
          ],
          "scattermapbox": [
           {
            "marker": {
             "colorbar": {
              "outlinewidth": 0,
              "ticks": ""
             }
            },
            "type": "scattermapbox"
           }
          ],
          "scatterpolar": [
           {
            "marker": {
             "colorbar": {
              "outlinewidth": 0,
              "ticks": ""
             }
            },
            "type": "scatterpolar"
           }
          ],
          "scatterpolargl": [
           {
            "marker": {
             "colorbar": {
              "outlinewidth": 0,
              "ticks": ""
             }
            },
            "type": "scatterpolargl"
           }
          ],
          "scatterternary": [
           {
            "marker": {
             "colorbar": {
              "outlinewidth": 0,
              "ticks": ""
             }
            },
            "type": "scatterternary"
           }
          ],
          "surface": [
           {
            "colorbar": {
             "outlinewidth": 0,
             "ticks": ""
            },
            "colorscale": [
             [
              0,
              "#0d0887"
             ],
             [
              0.1111111111111111,
              "#46039f"
             ],
             [
              0.2222222222222222,
              "#7201a8"
             ],
             [
              0.3333333333333333,
              "#9c179e"
             ],
             [
              0.4444444444444444,
              "#bd3786"
             ],
             [
              0.5555555555555556,
              "#d8576b"
             ],
             [
              0.6666666666666666,
              "#ed7953"
             ],
             [
              0.7777777777777778,
              "#fb9f3a"
             ],
             [
              0.8888888888888888,
              "#fdca26"
             ],
             [
              1,
              "#f0f921"
             ]
            ],
            "type": "surface"
           }
          ],
          "table": [
           {
            "cells": {
             "fill": {
              "color": "#EBF0F8"
             },
             "line": {
              "color": "white"
             }
            },
            "header": {
             "fill": {
              "color": "#C8D4E3"
             },
             "line": {
              "color": "white"
             }
            },
            "type": "table"
           }
          ]
         },
         "layout": {
          "annotationdefaults": {
           "arrowcolor": "#2a3f5f",
           "arrowhead": 0,
           "arrowwidth": 1
          },
          "autotypenumbers": "strict",
          "coloraxis": {
           "colorbar": {
            "outlinewidth": 0,
            "ticks": ""
           }
          },
          "colorscale": {
           "diverging": [
            [
             0,
             "#8e0152"
            ],
            [
             0.1,
             "#c51b7d"
            ],
            [
             0.2,
             "#de77ae"
            ],
            [
             0.3,
             "#f1b6da"
            ],
            [
             0.4,
             "#fde0ef"
            ],
            [
             0.5,
             "#f7f7f7"
            ],
            [
             0.6,
             "#e6f5d0"
            ],
            [
             0.7,
             "#b8e186"
            ],
            [
             0.8,
             "#7fbc41"
            ],
            [
             0.9,
             "#4d9221"
            ],
            [
             1,
             "#276419"
            ]
           ],
           "sequential": [
            [
             0,
             "#0d0887"
            ],
            [
             0.1111111111111111,
             "#46039f"
            ],
            [
             0.2222222222222222,
             "#7201a8"
            ],
            [
             0.3333333333333333,
             "#9c179e"
            ],
            [
             0.4444444444444444,
             "#bd3786"
            ],
            [
             0.5555555555555556,
             "#d8576b"
            ],
            [
             0.6666666666666666,
             "#ed7953"
            ],
            [
             0.7777777777777778,
             "#fb9f3a"
            ],
            [
             0.8888888888888888,
             "#fdca26"
            ],
            [
             1,
             "#f0f921"
            ]
           ],
           "sequentialminus": [
            [
             0,
             "#0d0887"
            ],
            [
             0.1111111111111111,
             "#46039f"
            ],
            [
             0.2222222222222222,
             "#7201a8"
            ],
            [
             0.3333333333333333,
             "#9c179e"
            ],
            [
             0.4444444444444444,
             "#bd3786"
            ],
            [
             0.5555555555555556,
             "#d8576b"
            ],
            [
             0.6666666666666666,
             "#ed7953"
            ],
            [
             0.7777777777777778,
             "#fb9f3a"
            ],
            [
             0.8888888888888888,
             "#fdca26"
            ],
            [
             1,
             "#f0f921"
            ]
           ]
          },
          "colorway": [
           "#636efa",
           "#EF553B",
           "#00cc96",
           "#ab63fa",
           "#FFA15A",
           "#19d3f3",
           "#FF6692",
           "#B6E880",
           "#FF97FF",
           "#FECB52"
          ],
          "font": {
           "color": "#2a3f5f"
          },
          "geo": {
           "bgcolor": "white",
           "lakecolor": "white",
           "landcolor": "#E5ECF6",
           "showlakes": true,
           "showland": true,
           "subunitcolor": "white"
          },
          "hoverlabel": {
           "align": "left"
          },
          "hovermode": "closest",
          "mapbox": {
           "style": "light"
          },
          "paper_bgcolor": "white",
          "plot_bgcolor": "#E5ECF6",
          "polar": {
           "angularaxis": {
            "gridcolor": "white",
            "linecolor": "white",
            "ticks": ""
           },
           "bgcolor": "#E5ECF6",
           "radialaxis": {
            "gridcolor": "white",
            "linecolor": "white",
            "ticks": ""
           }
          },
          "scene": {
           "xaxis": {
            "backgroundcolor": "#E5ECF6",
            "gridcolor": "white",
            "gridwidth": 2,
            "linecolor": "white",
            "showbackground": true,
            "ticks": "",
            "zerolinecolor": "white"
           },
           "yaxis": {
            "backgroundcolor": "#E5ECF6",
            "gridcolor": "white",
            "gridwidth": 2,
            "linecolor": "white",
            "showbackground": true,
            "ticks": "",
            "zerolinecolor": "white"
           },
           "zaxis": {
            "backgroundcolor": "#E5ECF6",
            "gridcolor": "white",
            "gridwidth": 2,
            "linecolor": "white",
            "showbackground": true,
            "ticks": "",
            "zerolinecolor": "white"
           }
          },
          "shapedefaults": {
           "line": {
            "color": "#2a3f5f"
           }
          },
          "ternary": {
           "aaxis": {
            "gridcolor": "white",
            "linecolor": "white",
            "ticks": ""
           },
           "baxis": {
            "gridcolor": "white",
            "linecolor": "white",
            "ticks": ""
           },
           "bgcolor": "#E5ECF6",
           "caxis": {
            "gridcolor": "white",
            "linecolor": "white",
            "ticks": ""
           }
          },
          "title": {
           "x": 0.05
          },
          "xaxis": {
           "automargin": true,
           "gridcolor": "white",
           "linecolor": "white",
           "ticks": "",
           "title": {
            "standoff": 15
           },
           "zerolinecolor": "white",
           "zerolinewidth": 2
          },
          "yaxis": {
           "automargin": true,
           "gridcolor": "white",
           "linecolor": "white",
           "ticks": "",
           "title": {
            "standoff": 15
           },
           "zerolinecolor": "white",
           "zerolinewidth": 2
          }
         }
        },
        "title": {
         "text": "Years vs Participation nation"
        },
        "xaxis": {
         "anchor": "y",
         "domain": [
          0,
          1
         ],
         "title": {
          "text": "Edition"
         }
        },
        "yaxis": {
         "anchor": "x",
         "domain": [
          0,
          1
         ],
         "title": {
          "text": "No. of participating nations"
         }
        }
       }
      },
      "text/html": [
       "<div>                            <div id=\"66ce0d9b-96e2-4baa-810c-1d6f098029ca\" class=\"plotly-graph-div\" style=\"height:525px; width:100%;\"></div>            <script type=\"text/javascript\">                require([\"plotly\"], function(Plotly) {                    window.PLOTLYENV=window.PLOTLYENV || {};                                    if (document.getElementById(\"66ce0d9b-96e2-4baa-810c-1d6f098029ca\")) {                    Plotly.newPlot(                        \"66ce0d9b-96e2-4baa-810c-1d6f098029ca\",                        [{\"hovertemplate\":\"Edition=%{x}<br>No. of participating nations=%{y}<extra></extra>\",\"legendgroup\":\"\",\"line\":{\"color\":\"#636efa\",\"dash\":\"solid\"},\"marker\":{\"symbol\":\"circle\"},\"mode\":\"lines\",\"name\":\"\",\"orientation\":\"v\",\"showlegend\":false,\"x\":[1896,1900,1904,1906,1908,1912,1920,1924,1928,1932,1936,1948,1952,1956,1960,1964,1968,1972,1976,1980,1984,1988,1992,1996,2000,2004,2008,2012,2016],\"xaxis\":\"x\",\"y\":[12,31,14,20,22,28,29,45,46,47,49,58,66,70,82,93,110,119,90,80,138,155,167,195,198,199,201,202,203],\"yaxis\":\"y\",\"type\":\"scatter\"}],                        {\"template\":{\"data\":{\"histogram2dcontour\":[{\"type\":\"histogram2dcontour\",\"colorbar\":{\"outlinewidth\":0,\"ticks\":\"\"},\"colorscale\":[[0.0,\"#0d0887\"],[0.1111111111111111,\"#46039f\"],[0.2222222222222222,\"#7201a8\"],[0.3333333333333333,\"#9c179e\"],[0.4444444444444444,\"#bd3786\"],[0.5555555555555556,\"#d8576b\"],[0.6666666666666666,\"#ed7953\"],[0.7777777777777778,\"#fb9f3a\"],[0.8888888888888888,\"#fdca26\"],[1.0,\"#f0f921\"]]}],\"choropleth\":[{\"type\":\"choropleth\",\"colorbar\":{\"outlinewidth\":0,\"ticks\":\"\"}}],\"histogram2d\":[{\"type\":\"histogram2d\",\"colorbar\":{\"outlinewidth\":0,\"ticks\":\"\"},\"colorscale\":[[0.0,\"#0d0887\"],[0.1111111111111111,\"#46039f\"],[0.2222222222222222,\"#7201a8\"],[0.3333333333333333,\"#9c179e\"],[0.4444444444444444,\"#bd3786\"],[0.5555555555555556,\"#d8576b\"],[0.6666666666666666,\"#ed7953\"],[0.7777777777777778,\"#fb9f3a\"],[0.8888888888888888,\"#fdca26\"],[1.0,\"#f0f921\"]]}],\"heatmap\":[{\"type\":\"heatmap\",\"colorbar\":{\"outlinewidth\":0,\"ticks\":\"\"},\"colorscale\":[[0.0,\"#0d0887\"],[0.1111111111111111,\"#46039f\"],[0.2222222222222222,\"#7201a8\"],[0.3333333333333333,\"#9c179e\"],[0.4444444444444444,\"#bd3786\"],[0.5555555555555556,\"#d8576b\"],[0.6666666666666666,\"#ed7953\"],[0.7777777777777778,\"#fb9f3a\"],[0.8888888888888888,\"#fdca26\"],[1.0,\"#f0f921\"]]}],\"heatmapgl\":[{\"type\":\"heatmapgl\",\"colorbar\":{\"outlinewidth\":0,\"ticks\":\"\"},\"colorscale\":[[0.0,\"#0d0887\"],[0.1111111111111111,\"#46039f\"],[0.2222222222222222,\"#7201a8\"],[0.3333333333333333,\"#9c179e\"],[0.4444444444444444,\"#bd3786\"],[0.5555555555555556,\"#d8576b\"],[0.6666666666666666,\"#ed7953\"],[0.7777777777777778,\"#fb9f3a\"],[0.8888888888888888,\"#fdca26\"],[1.0,\"#f0f921\"]]}],\"contourcarpet\":[{\"type\":\"contourcarpet\",\"colorbar\":{\"outlinewidth\":0,\"ticks\":\"\"}}],\"contour\":[{\"type\":\"contour\",\"colorbar\":{\"outlinewidth\":0,\"ticks\":\"\"},\"colorscale\":[[0.0,\"#0d0887\"],[0.1111111111111111,\"#46039f\"],[0.2222222222222222,\"#7201a8\"],[0.3333333333333333,\"#9c179e\"],[0.4444444444444444,\"#bd3786\"],[0.5555555555555556,\"#d8576b\"],[0.6666666666666666,\"#ed7953\"],[0.7777777777777778,\"#fb9f3a\"],[0.8888888888888888,\"#fdca26\"],[1.0,\"#f0f921\"]]}],\"surface\":[{\"type\":\"surface\",\"colorbar\":{\"outlinewidth\":0,\"ticks\":\"\"},\"colorscale\":[[0.0,\"#0d0887\"],[0.1111111111111111,\"#46039f\"],[0.2222222222222222,\"#7201a8\"],[0.3333333333333333,\"#9c179e\"],[0.4444444444444444,\"#bd3786\"],[0.5555555555555556,\"#d8576b\"],[0.6666666666666666,\"#ed7953\"],[0.7777777777777778,\"#fb9f3a\"],[0.8888888888888888,\"#fdca26\"],[1.0,\"#f0f921\"]]}],\"mesh3d\":[{\"type\":\"mesh3d\",\"colorbar\":{\"outlinewidth\":0,\"ticks\":\"\"}}],\"scatter\":[{\"fillpattern\":{\"fillmode\":\"overlay\",\"size\":10,\"solidity\":0.2},\"type\":\"scatter\"}],\"parcoords\":[{\"type\":\"parcoords\",\"line\":{\"colorbar\":{\"outlinewidth\":0,\"ticks\":\"\"}}}],\"scatterpolargl\":[{\"type\":\"scatterpolargl\",\"marker\":{\"colorbar\":{\"outlinewidth\":0,\"ticks\":\"\"}}}],\"bar\":[{\"error_x\":{\"color\":\"#2a3f5f\"},\"error_y\":{\"color\":\"#2a3f5f\"},\"marker\":{\"line\":{\"color\":\"#E5ECF6\",\"width\":0.5},\"pattern\":{\"fillmode\":\"overlay\",\"size\":10,\"solidity\":0.2}},\"type\":\"bar\"}],\"scattergeo\":[{\"type\":\"scattergeo\",\"marker\":{\"colorbar\":{\"outlinewidth\":0,\"ticks\":\"\"}}}],\"scatterpolar\":[{\"type\":\"scatterpolar\",\"marker\":{\"colorbar\":{\"outlinewidth\":0,\"ticks\":\"\"}}}],\"histogram\":[{\"marker\":{\"pattern\":{\"fillmode\":\"overlay\",\"size\":10,\"solidity\":0.2}},\"type\":\"histogram\"}],\"scattergl\":[{\"type\":\"scattergl\",\"marker\":{\"colorbar\":{\"outlinewidth\":0,\"ticks\":\"\"}}}],\"scatter3d\":[{\"type\":\"scatter3d\",\"line\":{\"colorbar\":{\"outlinewidth\":0,\"ticks\":\"\"}},\"marker\":{\"colorbar\":{\"outlinewidth\":0,\"ticks\":\"\"}}}],\"scattermapbox\":[{\"type\":\"scattermapbox\",\"marker\":{\"colorbar\":{\"outlinewidth\":0,\"ticks\":\"\"}}}],\"scatterternary\":[{\"type\":\"scatterternary\",\"marker\":{\"colorbar\":{\"outlinewidth\":0,\"ticks\":\"\"}}}],\"scattercarpet\":[{\"type\":\"scattercarpet\",\"marker\":{\"colorbar\":{\"outlinewidth\":0,\"ticks\":\"\"}}}],\"carpet\":[{\"aaxis\":{\"endlinecolor\":\"#2a3f5f\",\"gridcolor\":\"white\",\"linecolor\":\"white\",\"minorgridcolor\":\"white\",\"startlinecolor\":\"#2a3f5f\"},\"baxis\":{\"endlinecolor\":\"#2a3f5f\",\"gridcolor\":\"white\",\"linecolor\":\"white\",\"minorgridcolor\":\"white\",\"startlinecolor\":\"#2a3f5f\"},\"type\":\"carpet\"}],\"table\":[{\"cells\":{\"fill\":{\"color\":\"#EBF0F8\"},\"line\":{\"color\":\"white\"}},\"header\":{\"fill\":{\"color\":\"#C8D4E3\"},\"line\":{\"color\":\"white\"}},\"type\":\"table\"}],\"barpolar\":[{\"marker\":{\"line\":{\"color\":\"#E5ECF6\",\"width\":0.5},\"pattern\":{\"fillmode\":\"overlay\",\"size\":10,\"solidity\":0.2}},\"type\":\"barpolar\"}],\"pie\":[{\"automargin\":true,\"type\":\"pie\"}]},\"layout\":{\"autotypenumbers\":\"strict\",\"colorway\":[\"#636efa\",\"#EF553B\",\"#00cc96\",\"#ab63fa\",\"#FFA15A\",\"#19d3f3\",\"#FF6692\",\"#B6E880\",\"#FF97FF\",\"#FECB52\"],\"font\":{\"color\":\"#2a3f5f\"},\"hovermode\":\"closest\",\"hoverlabel\":{\"align\":\"left\"},\"paper_bgcolor\":\"white\",\"plot_bgcolor\":\"#E5ECF6\",\"polar\":{\"bgcolor\":\"#E5ECF6\",\"angularaxis\":{\"gridcolor\":\"white\",\"linecolor\":\"white\",\"ticks\":\"\"},\"radialaxis\":{\"gridcolor\":\"white\",\"linecolor\":\"white\",\"ticks\":\"\"}},\"ternary\":{\"bgcolor\":\"#E5ECF6\",\"aaxis\":{\"gridcolor\":\"white\",\"linecolor\":\"white\",\"ticks\":\"\"},\"baxis\":{\"gridcolor\":\"white\",\"linecolor\":\"white\",\"ticks\":\"\"},\"caxis\":{\"gridcolor\":\"white\",\"linecolor\":\"white\",\"ticks\":\"\"}},\"coloraxis\":{\"colorbar\":{\"outlinewidth\":0,\"ticks\":\"\"}},\"colorscale\":{\"sequential\":[[0.0,\"#0d0887\"],[0.1111111111111111,\"#46039f\"],[0.2222222222222222,\"#7201a8\"],[0.3333333333333333,\"#9c179e\"],[0.4444444444444444,\"#bd3786\"],[0.5555555555555556,\"#d8576b\"],[0.6666666666666666,\"#ed7953\"],[0.7777777777777778,\"#fb9f3a\"],[0.8888888888888888,\"#fdca26\"],[1.0,\"#f0f921\"]],\"sequentialminus\":[[0.0,\"#0d0887\"],[0.1111111111111111,\"#46039f\"],[0.2222222222222222,\"#7201a8\"],[0.3333333333333333,\"#9c179e\"],[0.4444444444444444,\"#bd3786\"],[0.5555555555555556,\"#d8576b\"],[0.6666666666666666,\"#ed7953\"],[0.7777777777777778,\"#fb9f3a\"],[0.8888888888888888,\"#fdca26\"],[1.0,\"#f0f921\"]],\"diverging\":[[0,\"#8e0152\"],[0.1,\"#c51b7d\"],[0.2,\"#de77ae\"],[0.3,\"#f1b6da\"],[0.4,\"#fde0ef\"],[0.5,\"#f7f7f7\"],[0.6,\"#e6f5d0\"],[0.7,\"#b8e186\"],[0.8,\"#7fbc41\"],[0.9,\"#4d9221\"],[1,\"#276419\"]]},\"xaxis\":{\"gridcolor\":\"white\",\"linecolor\":\"white\",\"ticks\":\"\",\"title\":{\"standoff\":15},\"zerolinecolor\":\"white\",\"automargin\":true,\"zerolinewidth\":2},\"yaxis\":{\"gridcolor\":\"white\",\"linecolor\":\"white\",\"ticks\":\"\",\"title\":{\"standoff\":15},\"zerolinecolor\":\"white\",\"automargin\":true,\"zerolinewidth\":2},\"scene\":{\"xaxis\":{\"backgroundcolor\":\"#E5ECF6\",\"gridcolor\":\"white\",\"linecolor\":\"white\",\"showbackground\":true,\"ticks\":\"\",\"zerolinecolor\":\"white\",\"gridwidth\":2},\"yaxis\":{\"backgroundcolor\":\"#E5ECF6\",\"gridcolor\":\"white\",\"linecolor\":\"white\",\"showbackground\":true,\"ticks\":\"\",\"zerolinecolor\":\"white\",\"gridwidth\":2},\"zaxis\":{\"backgroundcolor\":\"#E5ECF6\",\"gridcolor\":\"white\",\"linecolor\":\"white\",\"showbackground\":true,\"ticks\":\"\",\"zerolinecolor\":\"white\",\"gridwidth\":2}},\"shapedefaults\":{\"line\":{\"color\":\"#2a3f5f\"}},\"annotationdefaults\":{\"arrowcolor\":\"#2a3f5f\",\"arrowhead\":0,\"arrowwidth\":1},\"geo\":{\"bgcolor\":\"white\",\"landcolor\":\"#E5ECF6\",\"subunitcolor\":\"white\",\"showland\":true,\"showlakes\":true,\"lakecolor\":\"white\"},\"title\":{\"x\":0.05},\"mapbox\":{\"style\":\"light\"}}},\"xaxis\":{\"anchor\":\"y\",\"domain\":[0.0,1.0],\"title\":{\"text\":\"Edition\"}},\"yaxis\":{\"anchor\":\"x\",\"domain\":[0.0,1.0],\"title\":{\"text\":\"No. of participating nations\"}},\"legend\":{\"tracegroupgap\":0},\"title\":{\"text\":\"Years vs Participation nation\"}},                        {\"responsive\": true}                    ).then(function(){\n",
       "                            \n",
       "var gd = document.getElementById('66ce0d9b-96e2-4baa-810c-1d6f098029ca');\n",
       "var x = new MutationObserver(function (mutations, observer) {{\n",
       "        var display = window.getComputedStyle(gd).display;\n",
       "        if (!display || display === 'none') {{\n",
       "            console.log([gd, 'removed!']);\n",
       "            Plotly.purge(gd);\n",
       "            observer.disconnect();\n",
       "        }}\n",
       "}});\n",
       "\n",
       "// Listen for the removal of the full notebook cells\n",
       "var notebookContainer = gd.closest('#notebook-container');\n",
       "if (notebookContainer) {{\n",
       "    x.observe(notebookContainer, {childList: true});\n",
       "}}\n",
       "\n",
       "// Listen for the clearing of the current output cell\n",
       "var outputEl = gd.closest('.output');\n",
       "if (outputEl) {{\n",
       "    x.observe(outputEl, {childList: true});\n",
       "}}\n",
       "\n",
       "                        })                };                });            </script>        </div>"
      ]
     },
     "metadata": {},
     "output_type": "display_data"
    }
   ],
   "source": [
    "# graph for years vs participation nation\n",
    "\n",
    "import plotly.express as px\n",
    "fig = px.line(country_list, x=\"Edition\",y='No. of participating nations', title='Years vs Participation nation')\n",
    "fig.show()\n"
   ]
  },
  {
   "cell_type": "code",
   "execution_count": 171,
   "id": "95c00fff",
   "metadata": {},
   "outputs": [
    {
     "data": {
      "application/vnd.plotly.v1+json": {
       "config": {
        "plotlyServerURL": "https://plot.ly"
       },
       "data": [
        {
         "hovertemplate": "Edition=%{x}<br>Event=%{y}<extra></extra>",
         "legendgroup": "",
         "line": {
          "color": "#636efa",
          "dash": "solid"
         },
         "marker": {
          "symbol": "circle"
         },
         "mode": "lines",
         "name": "",
         "orientation": "v",
         "showlegend": false,
         "type": "scatter",
         "x": [
          1896,
          1900,
          1904,
          1906,
          1908,
          1912,
          1920,
          1924,
          1928,
          1932,
          1936,
          1948,
          1952,
          1956,
          1960,
          1964,
          1968,
          1972,
          1976,
          1980,
          1984,
          1988,
          1992,
          1996,
          2000,
          2004,
          2008,
          2012,
          2016
         ],
         "xaxis": "x",
         "y": [
          43,
          90,
          95,
          74,
          109,
          107,
          158,
          131,
          122,
          131,
          150,
          153,
          149,
          151,
          150,
          163,
          172,
          193,
          198,
          203,
          221,
          237,
          257,
          271,
          300,
          301,
          302,
          302,
          306
         ],
         "yaxis": "y"
        }
       ],
       "layout": {
        "legend": {
         "tracegroupgap": 0
        },
        "template": {
         "data": {
          "bar": [
           {
            "error_x": {
             "color": "#2a3f5f"
            },
            "error_y": {
             "color": "#2a3f5f"
            },
            "marker": {
             "line": {
              "color": "#E5ECF6",
              "width": 0.5
             },
             "pattern": {
              "fillmode": "overlay",
              "size": 10,
              "solidity": 0.2
             }
            },
            "type": "bar"
           }
          ],
          "barpolar": [
           {
            "marker": {
             "line": {
              "color": "#E5ECF6",
              "width": 0.5
             },
             "pattern": {
              "fillmode": "overlay",
              "size": 10,
              "solidity": 0.2
             }
            },
            "type": "barpolar"
           }
          ],
          "carpet": [
           {
            "aaxis": {
             "endlinecolor": "#2a3f5f",
             "gridcolor": "white",
             "linecolor": "white",
             "minorgridcolor": "white",
             "startlinecolor": "#2a3f5f"
            },
            "baxis": {
             "endlinecolor": "#2a3f5f",
             "gridcolor": "white",
             "linecolor": "white",
             "minorgridcolor": "white",
             "startlinecolor": "#2a3f5f"
            },
            "type": "carpet"
           }
          ],
          "choropleth": [
           {
            "colorbar": {
             "outlinewidth": 0,
             "ticks": ""
            },
            "type": "choropleth"
           }
          ],
          "contour": [
           {
            "colorbar": {
             "outlinewidth": 0,
             "ticks": ""
            },
            "colorscale": [
             [
              0,
              "#0d0887"
             ],
             [
              0.1111111111111111,
              "#46039f"
             ],
             [
              0.2222222222222222,
              "#7201a8"
             ],
             [
              0.3333333333333333,
              "#9c179e"
             ],
             [
              0.4444444444444444,
              "#bd3786"
             ],
             [
              0.5555555555555556,
              "#d8576b"
             ],
             [
              0.6666666666666666,
              "#ed7953"
             ],
             [
              0.7777777777777778,
              "#fb9f3a"
             ],
             [
              0.8888888888888888,
              "#fdca26"
             ],
             [
              1,
              "#f0f921"
             ]
            ],
            "type": "contour"
           }
          ],
          "contourcarpet": [
           {
            "colorbar": {
             "outlinewidth": 0,
             "ticks": ""
            },
            "type": "contourcarpet"
           }
          ],
          "heatmap": [
           {
            "colorbar": {
             "outlinewidth": 0,
             "ticks": ""
            },
            "colorscale": [
             [
              0,
              "#0d0887"
             ],
             [
              0.1111111111111111,
              "#46039f"
             ],
             [
              0.2222222222222222,
              "#7201a8"
             ],
             [
              0.3333333333333333,
              "#9c179e"
             ],
             [
              0.4444444444444444,
              "#bd3786"
             ],
             [
              0.5555555555555556,
              "#d8576b"
             ],
             [
              0.6666666666666666,
              "#ed7953"
             ],
             [
              0.7777777777777778,
              "#fb9f3a"
             ],
             [
              0.8888888888888888,
              "#fdca26"
             ],
             [
              1,
              "#f0f921"
             ]
            ],
            "type": "heatmap"
           }
          ],
          "heatmapgl": [
           {
            "colorbar": {
             "outlinewidth": 0,
             "ticks": ""
            },
            "colorscale": [
             [
              0,
              "#0d0887"
             ],
             [
              0.1111111111111111,
              "#46039f"
             ],
             [
              0.2222222222222222,
              "#7201a8"
             ],
             [
              0.3333333333333333,
              "#9c179e"
             ],
             [
              0.4444444444444444,
              "#bd3786"
             ],
             [
              0.5555555555555556,
              "#d8576b"
             ],
             [
              0.6666666666666666,
              "#ed7953"
             ],
             [
              0.7777777777777778,
              "#fb9f3a"
             ],
             [
              0.8888888888888888,
              "#fdca26"
             ],
             [
              1,
              "#f0f921"
             ]
            ],
            "type": "heatmapgl"
           }
          ],
          "histogram": [
           {
            "marker": {
             "pattern": {
              "fillmode": "overlay",
              "size": 10,
              "solidity": 0.2
             }
            },
            "type": "histogram"
           }
          ],
          "histogram2d": [
           {
            "colorbar": {
             "outlinewidth": 0,
             "ticks": ""
            },
            "colorscale": [
             [
              0,
              "#0d0887"
             ],
             [
              0.1111111111111111,
              "#46039f"
             ],
             [
              0.2222222222222222,
              "#7201a8"
             ],
             [
              0.3333333333333333,
              "#9c179e"
             ],
             [
              0.4444444444444444,
              "#bd3786"
             ],
             [
              0.5555555555555556,
              "#d8576b"
             ],
             [
              0.6666666666666666,
              "#ed7953"
             ],
             [
              0.7777777777777778,
              "#fb9f3a"
             ],
             [
              0.8888888888888888,
              "#fdca26"
             ],
             [
              1,
              "#f0f921"
             ]
            ],
            "type": "histogram2d"
           }
          ],
          "histogram2dcontour": [
           {
            "colorbar": {
             "outlinewidth": 0,
             "ticks": ""
            },
            "colorscale": [
             [
              0,
              "#0d0887"
             ],
             [
              0.1111111111111111,
              "#46039f"
             ],
             [
              0.2222222222222222,
              "#7201a8"
             ],
             [
              0.3333333333333333,
              "#9c179e"
             ],
             [
              0.4444444444444444,
              "#bd3786"
             ],
             [
              0.5555555555555556,
              "#d8576b"
             ],
             [
              0.6666666666666666,
              "#ed7953"
             ],
             [
              0.7777777777777778,
              "#fb9f3a"
             ],
             [
              0.8888888888888888,
              "#fdca26"
             ],
             [
              1,
              "#f0f921"
             ]
            ],
            "type": "histogram2dcontour"
           }
          ],
          "mesh3d": [
           {
            "colorbar": {
             "outlinewidth": 0,
             "ticks": ""
            },
            "type": "mesh3d"
           }
          ],
          "parcoords": [
           {
            "line": {
             "colorbar": {
              "outlinewidth": 0,
              "ticks": ""
             }
            },
            "type": "parcoords"
           }
          ],
          "pie": [
           {
            "automargin": true,
            "type": "pie"
           }
          ],
          "scatter": [
           {
            "fillpattern": {
             "fillmode": "overlay",
             "size": 10,
             "solidity": 0.2
            },
            "type": "scatter"
           }
          ],
          "scatter3d": [
           {
            "line": {
             "colorbar": {
              "outlinewidth": 0,
              "ticks": ""
             }
            },
            "marker": {
             "colorbar": {
              "outlinewidth": 0,
              "ticks": ""
             }
            },
            "type": "scatter3d"
           }
          ],
          "scattercarpet": [
           {
            "marker": {
             "colorbar": {
              "outlinewidth": 0,
              "ticks": ""
             }
            },
            "type": "scattercarpet"
           }
          ],
          "scattergeo": [
           {
            "marker": {
             "colorbar": {
              "outlinewidth": 0,
              "ticks": ""
             }
            },
            "type": "scattergeo"
           }
          ],
          "scattergl": [
           {
            "marker": {
             "colorbar": {
              "outlinewidth": 0,
              "ticks": ""
             }
            },
            "type": "scattergl"
           }
          ],
          "scattermapbox": [
           {
            "marker": {
             "colorbar": {
              "outlinewidth": 0,
              "ticks": ""
             }
            },
            "type": "scattermapbox"
           }
          ],
          "scatterpolar": [
           {
            "marker": {
             "colorbar": {
              "outlinewidth": 0,
              "ticks": ""
             }
            },
            "type": "scatterpolar"
           }
          ],
          "scatterpolargl": [
           {
            "marker": {
             "colorbar": {
              "outlinewidth": 0,
              "ticks": ""
             }
            },
            "type": "scatterpolargl"
           }
          ],
          "scatterternary": [
           {
            "marker": {
             "colorbar": {
              "outlinewidth": 0,
              "ticks": ""
             }
            },
            "type": "scatterternary"
           }
          ],
          "surface": [
           {
            "colorbar": {
             "outlinewidth": 0,
             "ticks": ""
            },
            "colorscale": [
             [
              0,
              "#0d0887"
             ],
             [
              0.1111111111111111,
              "#46039f"
             ],
             [
              0.2222222222222222,
              "#7201a8"
             ],
             [
              0.3333333333333333,
              "#9c179e"
             ],
             [
              0.4444444444444444,
              "#bd3786"
             ],
             [
              0.5555555555555556,
              "#d8576b"
             ],
             [
              0.6666666666666666,
              "#ed7953"
             ],
             [
              0.7777777777777778,
              "#fb9f3a"
             ],
             [
              0.8888888888888888,
              "#fdca26"
             ],
             [
              1,
              "#f0f921"
             ]
            ],
            "type": "surface"
           }
          ],
          "table": [
           {
            "cells": {
             "fill": {
              "color": "#EBF0F8"
             },
             "line": {
              "color": "white"
             }
            },
            "header": {
             "fill": {
              "color": "#C8D4E3"
             },
             "line": {
              "color": "white"
             }
            },
            "type": "table"
           }
          ]
         },
         "layout": {
          "annotationdefaults": {
           "arrowcolor": "#2a3f5f",
           "arrowhead": 0,
           "arrowwidth": 1
          },
          "autotypenumbers": "strict",
          "coloraxis": {
           "colorbar": {
            "outlinewidth": 0,
            "ticks": ""
           }
          },
          "colorscale": {
           "diverging": [
            [
             0,
             "#8e0152"
            ],
            [
             0.1,
             "#c51b7d"
            ],
            [
             0.2,
             "#de77ae"
            ],
            [
             0.3,
             "#f1b6da"
            ],
            [
             0.4,
             "#fde0ef"
            ],
            [
             0.5,
             "#f7f7f7"
            ],
            [
             0.6,
             "#e6f5d0"
            ],
            [
             0.7,
             "#b8e186"
            ],
            [
             0.8,
             "#7fbc41"
            ],
            [
             0.9,
             "#4d9221"
            ],
            [
             1,
             "#276419"
            ]
           ],
           "sequential": [
            [
             0,
             "#0d0887"
            ],
            [
             0.1111111111111111,
             "#46039f"
            ],
            [
             0.2222222222222222,
             "#7201a8"
            ],
            [
             0.3333333333333333,
             "#9c179e"
            ],
            [
             0.4444444444444444,
             "#bd3786"
            ],
            [
             0.5555555555555556,
             "#d8576b"
            ],
            [
             0.6666666666666666,
             "#ed7953"
            ],
            [
             0.7777777777777778,
             "#fb9f3a"
            ],
            [
             0.8888888888888888,
             "#fdca26"
            ],
            [
             1,
             "#f0f921"
            ]
           ],
           "sequentialminus": [
            [
             0,
             "#0d0887"
            ],
            [
             0.1111111111111111,
             "#46039f"
            ],
            [
             0.2222222222222222,
             "#7201a8"
            ],
            [
             0.3333333333333333,
             "#9c179e"
            ],
            [
             0.4444444444444444,
             "#bd3786"
            ],
            [
             0.5555555555555556,
             "#d8576b"
            ],
            [
             0.6666666666666666,
             "#ed7953"
            ],
            [
             0.7777777777777778,
             "#fb9f3a"
            ],
            [
             0.8888888888888888,
             "#fdca26"
            ],
            [
             1,
             "#f0f921"
            ]
           ]
          },
          "colorway": [
           "#636efa",
           "#EF553B",
           "#00cc96",
           "#ab63fa",
           "#FFA15A",
           "#19d3f3",
           "#FF6692",
           "#B6E880",
           "#FF97FF",
           "#FECB52"
          ],
          "font": {
           "color": "#2a3f5f"
          },
          "geo": {
           "bgcolor": "white",
           "lakecolor": "white",
           "landcolor": "#E5ECF6",
           "showlakes": true,
           "showland": true,
           "subunitcolor": "white"
          },
          "hoverlabel": {
           "align": "left"
          },
          "hovermode": "closest",
          "mapbox": {
           "style": "light"
          },
          "paper_bgcolor": "white",
          "plot_bgcolor": "#E5ECF6",
          "polar": {
           "angularaxis": {
            "gridcolor": "white",
            "linecolor": "white",
            "ticks": ""
           },
           "bgcolor": "#E5ECF6",
           "radialaxis": {
            "gridcolor": "white",
            "linecolor": "white",
            "ticks": ""
           }
          },
          "scene": {
           "xaxis": {
            "backgroundcolor": "#E5ECF6",
            "gridcolor": "white",
            "gridwidth": 2,
            "linecolor": "white",
            "showbackground": true,
            "ticks": "",
            "zerolinecolor": "white"
           },
           "yaxis": {
            "backgroundcolor": "#E5ECF6",
            "gridcolor": "white",
            "gridwidth": 2,
            "linecolor": "white",
            "showbackground": true,
            "ticks": "",
            "zerolinecolor": "white"
           },
           "zaxis": {
            "backgroundcolor": "#E5ECF6",
            "gridcolor": "white",
            "gridwidth": 2,
            "linecolor": "white",
            "showbackground": true,
            "ticks": "",
            "zerolinecolor": "white"
           }
          },
          "shapedefaults": {
           "line": {
            "color": "#2a3f5f"
           }
          },
          "ternary": {
           "aaxis": {
            "gridcolor": "white",
            "linecolor": "white",
            "ticks": ""
           },
           "baxis": {
            "gridcolor": "white",
            "linecolor": "white",
            "ticks": ""
           },
           "bgcolor": "#E5ECF6",
           "caxis": {
            "gridcolor": "white",
            "linecolor": "white",
            "ticks": ""
           }
          },
          "title": {
           "x": 0.05
          },
          "xaxis": {
           "automargin": true,
           "gridcolor": "white",
           "linecolor": "white",
           "ticks": "",
           "title": {
            "standoff": 15
           },
           "zerolinecolor": "white",
           "zerolinewidth": 2
          },
          "yaxis": {
           "automargin": true,
           "gridcolor": "white",
           "linecolor": "white",
           "ticks": "",
           "title": {
            "standoff": 15
           },
           "zerolinecolor": "white",
           "zerolinewidth": 2
          }
         }
        },
        "title": {
         "text": "Edition vs Events"
        },
        "xaxis": {
         "anchor": "y",
         "domain": [
          0,
          1
         ],
         "title": {
          "text": "Edition"
         }
        },
        "yaxis": {
         "anchor": "x",
         "domain": [
          0,
          1
         ],
         "title": {
          "text": "Event"
         }
        }
       }
      },
      "text/html": [
       "<div>                            <div id=\"979077e9-e909-4301-8256-9a5c6319f6f5\" class=\"plotly-graph-div\" style=\"height:525px; width:100%;\"></div>            <script type=\"text/javascript\">                require([\"plotly\"], function(Plotly) {                    window.PLOTLYENV=window.PLOTLYENV || {};                                    if (document.getElementById(\"979077e9-e909-4301-8256-9a5c6319f6f5\")) {                    Plotly.newPlot(                        \"979077e9-e909-4301-8256-9a5c6319f6f5\",                        [{\"hovertemplate\":\"Edition=%{x}<br>Event=%{y}<extra></extra>\",\"legendgroup\":\"\",\"line\":{\"color\":\"#636efa\",\"dash\":\"solid\"},\"marker\":{\"symbol\":\"circle\"},\"mode\":\"lines\",\"name\":\"\",\"orientation\":\"v\",\"showlegend\":false,\"x\":[1896,1900,1904,1906,1908,1912,1920,1924,1928,1932,1936,1948,1952,1956,1960,1964,1968,1972,1976,1980,1984,1988,1992,1996,2000,2004,2008,2012,2016],\"xaxis\":\"x\",\"y\":[43,90,95,74,109,107,158,131,122,131,150,153,149,151,150,163,172,193,198,203,221,237,257,271,300,301,302,302,306],\"yaxis\":\"y\",\"type\":\"scatter\"}],                        {\"template\":{\"data\":{\"histogram2dcontour\":[{\"type\":\"histogram2dcontour\",\"colorbar\":{\"outlinewidth\":0,\"ticks\":\"\"},\"colorscale\":[[0.0,\"#0d0887\"],[0.1111111111111111,\"#46039f\"],[0.2222222222222222,\"#7201a8\"],[0.3333333333333333,\"#9c179e\"],[0.4444444444444444,\"#bd3786\"],[0.5555555555555556,\"#d8576b\"],[0.6666666666666666,\"#ed7953\"],[0.7777777777777778,\"#fb9f3a\"],[0.8888888888888888,\"#fdca26\"],[1.0,\"#f0f921\"]]}],\"choropleth\":[{\"type\":\"choropleth\",\"colorbar\":{\"outlinewidth\":0,\"ticks\":\"\"}}],\"histogram2d\":[{\"type\":\"histogram2d\",\"colorbar\":{\"outlinewidth\":0,\"ticks\":\"\"},\"colorscale\":[[0.0,\"#0d0887\"],[0.1111111111111111,\"#46039f\"],[0.2222222222222222,\"#7201a8\"],[0.3333333333333333,\"#9c179e\"],[0.4444444444444444,\"#bd3786\"],[0.5555555555555556,\"#d8576b\"],[0.6666666666666666,\"#ed7953\"],[0.7777777777777778,\"#fb9f3a\"],[0.8888888888888888,\"#fdca26\"],[1.0,\"#f0f921\"]]}],\"heatmap\":[{\"type\":\"heatmap\",\"colorbar\":{\"outlinewidth\":0,\"ticks\":\"\"},\"colorscale\":[[0.0,\"#0d0887\"],[0.1111111111111111,\"#46039f\"],[0.2222222222222222,\"#7201a8\"],[0.3333333333333333,\"#9c179e\"],[0.4444444444444444,\"#bd3786\"],[0.5555555555555556,\"#d8576b\"],[0.6666666666666666,\"#ed7953\"],[0.7777777777777778,\"#fb9f3a\"],[0.8888888888888888,\"#fdca26\"],[1.0,\"#f0f921\"]]}],\"heatmapgl\":[{\"type\":\"heatmapgl\",\"colorbar\":{\"outlinewidth\":0,\"ticks\":\"\"},\"colorscale\":[[0.0,\"#0d0887\"],[0.1111111111111111,\"#46039f\"],[0.2222222222222222,\"#7201a8\"],[0.3333333333333333,\"#9c179e\"],[0.4444444444444444,\"#bd3786\"],[0.5555555555555556,\"#d8576b\"],[0.6666666666666666,\"#ed7953\"],[0.7777777777777778,\"#fb9f3a\"],[0.8888888888888888,\"#fdca26\"],[1.0,\"#f0f921\"]]}],\"contourcarpet\":[{\"type\":\"contourcarpet\",\"colorbar\":{\"outlinewidth\":0,\"ticks\":\"\"}}],\"contour\":[{\"type\":\"contour\",\"colorbar\":{\"outlinewidth\":0,\"ticks\":\"\"},\"colorscale\":[[0.0,\"#0d0887\"],[0.1111111111111111,\"#46039f\"],[0.2222222222222222,\"#7201a8\"],[0.3333333333333333,\"#9c179e\"],[0.4444444444444444,\"#bd3786\"],[0.5555555555555556,\"#d8576b\"],[0.6666666666666666,\"#ed7953\"],[0.7777777777777778,\"#fb9f3a\"],[0.8888888888888888,\"#fdca26\"],[1.0,\"#f0f921\"]]}],\"surface\":[{\"type\":\"surface\",\"colorbar\":{\"outlinewidth\":0,\"ticks\":\"\"},\"colorscale\":[[0.0,\"#0d0887\"],[0.1111111111111111,\"#46039f\"],[0.2222222222222222,\"#7201a8\"],[0.3333333333333333,\"#9c179e\"],[0.4444444444444444,\"#bd3786\"],[0.5555555555555556,\"#d8576b\"],[0.6666666666666666,\"#ed7953\"],[0.7777777777777778,\"#fb9f3a\"],[0.8888888888888888,\"#fdca26\"],[1.0,\"#f0f921\"]]}],\"mesh3d\":[{\"type\":\"mesh3d\",\"colorbar\":{\"outlinewidth\":0,\"ticks\":\"\"}}],\"scatter\":[{\"fillpattern\":{\"fillmode\":\"overlay\",\"size\":10,\"solidity\":0.2},\"type\":\"scatter\"}],\"parcoords\":[{\"type\":\"parcoords\",\"line\":{\"colorbar\":{\"outlinewidth\":0,\"ticks\":\"\"}}}],\"scatterpolargl\":[{\"type\":\"scatterpolargl\",\"marker\":{\"colorbar\":{\"outlinewidth\":0,\"ticks\":\"\"}}}],\"bar\":[{\"error_x\":{\"color\":\"#2a3f5f\"},\"error_y\":{\"color\":\"#2a3f5f\"},\"marker\":{\"line\":{\"color\":\"#E5ECF6\",\"width\":0.5},\"pattern\":{\"fillmode\":\"overlay\",\"size\":10,\"solidity\":0.2}},\"type\":\"bar\"}],\"scattergeo\":[{\"type\":\"scattergeo\",\"marker\":{\"colorbar\":{\"outlinewidth\":0,\"ticks\":\"\"}}}],\"scatterpolar\":[{\"type\":\"scatterpolar\",\"marker\":{\"colorbar\":{\"outlinewidth\":0,\"ticks\":\"\"}}}],\"histogram\":[{\"marker\":{\"pattern\":{\"fillmode\":\"overlay\",\"size\":10,\"solidity\":0.2}},\"type\":\"histogram\"}],\"scattergl\":[{\"type\":\"scattergl\",\"marker\":{\"colorbar\":{\"outlinewidth\":0,\"ticks\":\"\"}}}],\"scatter3d\":[{\"type\":\"scatter3d\",\"line\":{\"colorbar\":{\"outlinewidth\":0,\"ticks\":\"\"}},\"marker\":{\"colorbar\":{\"outlinewidth\":0,\"ticks\":\"\"}}}],\"scattermapbox\":[{\"type\":\"scattermapbox\",\"marker\":{\"colorbar\":{\"outlinewidth\":0,\"ticks\":\"\"}}}],\"scatterternary\":[{\"type\":\"scatterternary\",\"marker\":{\"colorbar\":{\"outlinewidth\":0,\"ticks\":\"\"}}}],\"scattercarpet\":[{\"type\":\"scattercarpet\",\"marker\":{\"colorbar\":{\"outlinewidth\":0,\"ticks\":\"\"}}}],\"carpet\":[{\"aaxis\":{\"endlinecolor\":\"#2a3f5f\",\"gridcolor\":\"white\",\"linecolor\":\"white\",\"minorgridcolor\":\"white\",\"startlinecolor\":\"#2a3f5f\"},\"baxis\":{\"endlinecolor\":\"#2a3f5f\",\"gridcolor\":\"white\",\"linecolor\":\"white\",\"minorgridcolor\":\"white\",\"startlinecolor\":\"#2a3f5f\"},\"type\":\"carpet\"}],\"table\":[{\"cells\":{\"fill\":{\"color\":\"#EBF0F8\"},\"line\":{\"color\":\"white\"}},\"header\":{\"fill\":{\"color\":\"#C8D4E3\"},\"line\":{\"color\":\"white\"}},\"type\":\"table\"}],\"barpolar\":[{\"marker\":{\"line\":{\"color\":\"#E5ECF6\",\"width\":0.5},\"pattern\":{\"fillmode\":\"overlay\",\"size\":10,\"solidity\":0.2}},\"type\":\"barpolar\"}],\"pie\":[{\"automargin\":true,\"type\":\"pie\"}]},\"layout\":{\"autotypenumbers\":\"strict\",\"colorway\":[\"#636efa\",\"#EF553B\",\"#00cc96\",\"#ab63fa\",\"#FFA15A\",\"#19d3f3\",\"#FF6692\",\"#B6E880\",\"#FF97FF\",\"#FECB52\"],\"font\":{\"color\":\"#2a3f5f\"},\"hovermode\":\"closest\",\"hoverlabel\":{\"align\":\"left\"},\"paper_bgcolor\":\"white\",\"plot_bgcolor\":\"#E5ECF6\",\"polar\":{\"bgcolor\":\"#E5ECF6\",\"angularaxis\":{\"gridcolor\":\"white\",\"linecolor\":\"white\",\"ticks\":\"\"},\"radialaxis\":{\"gridcolor\":\"white\",\"linecolor\":\"white\",\"ticks\":\"\"}},\"ternary\":{\"bgcolor\":\"#E5ECF6\",\"aaxis\":{\"gridcolor\":\"white\",\"linecolor\":\"white\",\"ticks\":\"\"},\"baxis\":{\"gridcolor\":\"white\",\"linecolor\":\"white\",\"ticks\":\"\"},\"caxis\":{\"gridcolor\":\"white\",\"linecolor\":\"white\",\"ticks\":\"\"}},\"coloraxis\":{\"colorbar\":{\"outlinewidth\":0,\"ticks\":\"\"}},\"colorscale\":{\"sequential\":[[0.0,\"#0d0887\"],[0.1111111111111111,\"#46039f\"],[0.2222222222222222,\"#7201a8\"],[0.3333333333333333,\"#9c179e\"],[0.4444444444444444,\"#bd3786\"],[0.5555555555555556,\"#d8576b\"],[0.6666666666666666,\"#ed7953\"],[0.7777777777777778,\"#fb9f3a\"],[0.8888888888888888,\"#fdca26\"],[1.0,\"#f0f921\"]],\"sequentialminus\":[[0.0,\"#0d0887\"],[0.1111111111111111,\"#46039f\"],[0.2222222222222222,\"#7201a8\"],[0.3333333333333333,\"#9c179e\"],[0.4444444444444444,\"#bd3786\"],[0.5555555555555556,\"#d8576b\"],[0.6666666666666666,\"#ed7953\"],[0.7777777777777778,\"#fb9f3a\"],[0.8888888888888888,\"#fdca26\"],[1.0,\"#f0f921\"]],\"diverging\":[[0,\"#8e0152\"],[0.1,\"#c51b7d\"],[0.2,\"#de77ae\"],[0.3,\"#f1b6da\"],[0.4,\"#fde0ef\"],[0.5,\"#f7f7f7\"],[0.6,\"#e6f5d0\"],[0.7,\"#b8e186\"],[0.8,\"#7fbc41\"],[0.9,\"#4d9221\"],[1,\"#276419\"]]},\"xaxis\":{\"gridcolor\":\"white\",\"linecolor\":\"white\",\"ticks\":\"\",\"title\":{\"standoff\":15},\"zerolinecolor\":\"white\",\"automargin\":true,\"zerolinewidth\":2},\"yaxis\":{\"gridcolor\":\"white\",\"linecolor\":\"white\",\"ticks\":\"\",\"title\":{\"standoff\":15},\"zerolinecolor\":\"white\",\"automargin\":true,\"zerolinewidth\":2},\"scene\":{\"xaxis\":{\"backgroundcolor\":\"#E5ECF6\",\"gridcolor\":\"white\",\"linecolor\":\"white\",\"showbackground\":true,\"ticks\":\"\",\"zerolinecolor\":\"white\",\"gridwidth\":2},\"yaxis\":{\"backgroundcolor\":\"#E5ECF6\",\"gridcolor\":\"white\",\"linecolor\":\"white\",\"showbackground\":true,\"ticks\":\"\",\"zerolinecolor\":\"white\",\"gridwidth\":2},\"zaxis\":{\"backgroundcolor\":\"#E5ECF6\",\"gridcolor\":\"white\",\"linecolor\":\"white\",\"showbackground\":true,\"ticks\":\"\",\"zerolinecolor\":\"white\",\"gridwidth\":2}},\"shapedefaults\":{\"line\":{\"color\":\"#2a3f5f\"}},\"annotationdefaults\":{\"arrowcolor\":\"#2a3f5f\",\"arrowhead\":0,\"arrowwidth\":1},\"geo\":{\"bgcolor\":\"white\",\"landcolor\":\"#E5ECF6\",\"subunitcolor\":\"white\",\"showland\":true,\"showlakes\":true,\"lakecolor\":\"white\"},\"title\":{\"x\":0.05},\"mapbox\":{\"style\":\"light\"}}},\"xaxis\":{\"anchor\":\"y\",\"domain\":[0.0,1.0],\"title\":{\"text\":\"Edition\"}},\"yaxis\":{\"anchor\":\"x\",\"domain\":[0.0,1.0],\"title\":{\"text\":\"Event\"}},\"legend\":{\"tracegroupgap\":0},\"title\":{\"text\":\"Edition vs Events\"}},                        {\"responsive\": true}                    ).then(function(){\n",
       "                            \n",
       "var gd = document.getElementById('979077e9-e909-4301-8256-9a5c6319f6f5');\n",
       "var x = new MutationObserver(function (mutations, observer) {{\n",
       "        var display = window.getComputedStyle(gd).display;\n",
       "        if (!display || display === 'none') {{\n",
       "            console.log([gd, 'removed!']);\n",
       "            Plotly.purge(gd);\n",
       "            observer.disconnect();\n",
       "        }}\n",
       "}});\n",
       "\n",
       "// Listen for the removal of the full notebook cells\n",
       "var notebookContainer = gd.closest('#notebook-container');\n",
       "if (notebookContainer) {{\n",
       "    x.observe(notebookContainer, {childList: true});\n",
       "}}\n",
       "\n",
       "// Listen for the clearing of the current output cell\n",
       "var outputEl = gd.closest('.output');\n",
       "if (outputEl) {{\n",
       "    x.observe(outputEl, {childList: true});\n",
       "}}\n",
       "\n",
       "                        })                };                });            </script>        </div>"
      ]
     },
     "metadata": {},
     "output_type": "display_data"
    }
   ],
   "source": [
    "# graph for Year vs number of Events\n",
    "fig = px.line(event_list, x=\"Edition\",y='Event', title='Edition vs Events')\n",
    "fig.show()\n"
   ]
  },
  {
   "cell_type": "code",
   "execution_count": 172,
   "id": "1f33b147",
   "metadata": {},
   "outputs": [
    {
     "data": {
      "text/plain": [
       "<AxesSubplot:xlabel='Year', ylabel='Sport'>"
      ]
     },
     "execution_count": 172,
     "metadata": {},
     "output_type": "execute_result"
    },
    {
     "data": {
      "image/png": "[encoded data removed]",
      "text/plain": [
       "<Figure size 1440x1440 with 2 Axes>"
      ]
     },
     "metadata": {
      "needs_background": "light"
     },
     "output_type": "display_data"
    }
   ],
   "source": [
    "#Heatmap for no of events by sports\n",
    "x=S_df.drop_duplicates(subset=['Year','Sport',\"Event\"])\n",
    "plt.figure(figsize=(20,20))\n",
    "sns.heatmap(x.pivot_table(index='Sport',columns='Year',values='Event',aggfunc='count').fillna(0).astype(int),annot=True)"
   ]
  },
  {
   "cell_type": "code",
   "execution_count": 173,
   "id": "0c9ec9ad",
   "metadata": {},
   "outputs": [],
   "source": [
    "# functon which filters the data by sports and tell which athlete won the most number no of medals\n",
    "def most_succesful(S_df,sport):\n",
    "    if sport==\"Overall\":\n",
    "        a=S_df.dropna(subset=['Medal']).groupby(['Name','Sport','region']).sum()[['Gold','Silver','Bronze']]\n",
    "\n",
    "    if sport!=\"Overall\":\n",
    "        a=S_df[S_df['Sport']==sport].dropna(subset=['Medal']).groupby(['Name','Sport','region']).sum()[['Gold','Silver','Bronze']]\n",
    "\n",
    "    a['Total']=a['Gold']+a['Silver']+a['Bronze']\n",
    "    a=a.drop(columns=['Gold','Silver','Bronze'])\n",
    "\n",
    "    a=a.sort_values(by=['Total'],ascending=False).reset_index()\n",
    "    a.rename(columns={'region':'Country','Total':'Medals'},inplace=True)\n",
    "\n",
    "    return a\n",
    "    \n",
    "        \n",
    "    \n",
    "\n",
    "\n"
   ]
  },
  {
   "cell_type": "markdown",
   "id": "0d47199d",
   "metadata": {},
   "source": [
    "# Country wise analysis\n",
    "###### country wise medal tally per year ( line plot)\n",
    "###### what sports countries are most good at\n",
    "######  most succesfu athletes of that country\n",
    "\n"
   ]
  },
  {
   "cell_type": "code",
   "execution_count": 174,
   "id": "554c8499",
   "metadata": {},
   "outputs": [],
   "source": [
    "# 1 number of medals per country in every year   \n",
    "def country_medal_tally(country,S_df):\n",
    "    temp=S_df.drop_duplicates(subset=['Team',\"NOC\",\"Games\",\"Year\",\"City\",\"Sport\",\"Event\",\"Medal\"])\n",
    "    temp=temp.groupby(['region','Year']).count()[['Medal']].sort_values(by=['Year',],ascending=[False]).reset_index()\n",
    "    return temp[temp['region']==country]\n",
    "\n"
   ]
  },
  {
   "cell_type": "code",
   "execution_count": 175,
   "id": "10311da6",
   "metadata": {},
   "outputs": [
    {
     "data": {
      "application/vnd.plotly.v1+json": {
       "config": {
        "plotlyServerURL": "https://plot.ly"
       },
       "data": [
        {
         "hovertemplate": "Year=%{x}<br>Medal=%{y}<extra></extra>",
         "legendgroup": "",
         "line": {
          "color": "#636efa",
          "dash": "solid"
         },
         "marker": {
          "symbol": "circle"
         },
         "mode": "lines",
         "name": "",
         "orientation": "v",
         "showlegend": false,
         "type": "scatter",
         "x": [
          2016,
          2012,
          2008,
          2004,
          2000,
          1996,
          1992,
          1988,
          1984,
          1980,
          1976,
          1972,
          1968,
          1964,
          1960,
          1956,
          1952,
          1948,
          1936,
          1932,
          1928,
          1924,
          1920,
          1900
         ],
         "xaxis": "x",
         "y": [
          2,
          6,
          3,
          1,
          1,
          1,
          0,
          0,
          0,
          1,
          0,
          1,
          1,
          1,
          1,
          1,
          2,
          1,
          1,
          1,
          1,
          0,
          0,
          2
         ],
         "yaxis": "y"
        }
       ],
       "layout": {
        "legend": {
         "tracegroupgap": 0
        },
        "template": {
         "data": {
          "bar": [
           {
            "error_x": {
             "color": "#2a3f5f"
            },
            "error_y": {
             "color": "#2a3f5f"
            },
            "marker": {
             "line": {
              "color": "#E5ECF6",
              "width": 0.5
             },
             "pattern": {
              "fillmode": "overlay",
              "size": 10,
              "solidity": 0.2
             }
            },
            "type": "bar"
           }
          ],
          "barpolar": [
           {
            "marker": {
             "line": {
              "color": "#E5ECF6",
              "width": 0.5
             },
             "pattern": {
              "fillmode": "overlay",
              "size": 10,
              "solidity": 0.2
             }
            },
            "type": "barpolar"
           }
          ],
          "carpet": [
           {
            "aaxis": {
             "endlinecolor": "#2a3f5f",
             "gridcolor": "white",
             "linecolor": "white",
             "minorgridcolor": "white",
             "startlinecolor": "#2a3f5f"
            },
            "baxis": {
             "endlinecolor": "#2a3f5f",
             "gridcolor": "white",
             "linecolor": "white",
             "minorgridcolor": "white",
             "startlinecolor": "#2a3f5f"
            },
            "type": "carpet"
           }
          ],
          "choropleth": [
           {
            "colorbar": {
             "outlinewidth": 0,
             "ticks": ""
            },
            "type": "choropleth"
           }
          ],
          "contour": [
           {
            "colorbar": {
             "outlinewidth": 0,
             "ticks": ""
            },
            "colorscale": [
             [
              0,
              "#0d0887"
             ],
             [
              0.1111111111111111,
              "#46039f"
             ],
             [
              0.2222222222222222,
              "#7201a8"
             ],
             [
              0.3333333333333333,
              "#9c179e"
             ],
             [
              0.4444444444444444,
              "#bd3786"
             ],
             [
              0.5555555555555556,
              "#d8576b"
             ],
             [
              0.6666666666666666,
              "#ed7953"
             ],
             [
              0.7777777777777778,
              "#fb9f3a"
             ],
             [
              0.8888888888888888,
              "#fdca26"
             ],
             [
              1,
              "#f0f921"
             ]
            ],
            "type": "contour"
           }
          ],
          "contourcarpet": [
           {
            "colorbar": {
             "outlinewidth": 0,
             "ticks": ""
            },
            "type": "contourcarpet"
           }
          ],
          "heatmap": [
           {
            "colorbar": {
             "outlinewidth": 0,
             "ticks": ""
            },
            "colorscale": [
             [
              0,
              "#0d0887"
             ],
             [
              0.1111111111111111,
              "#46039f"
             ],
             [
              0.2222222222222222,
              "#7201a8"
             ],
             [
              0.3333333333333333,
              "#9c179e"
             ],
             [
              0.4444444444444444,
              "#bd3786"
             ],
             [
              0.5555555555555556,
              "#d8576b"
             ],
             [
              0.6666666666666666,
              "#ed7953"
             ],
             [
              0.7777777777777778,
              "#fb9f3a"
             ],
             [
              0.8888888888888888,
              "#fdca26"
             ],
             [
              1,
              "#f0f921"
             ]
            ],
            "type": "heatmap"
           }
          ],
          "heatmapgl": [
           {
            "colorbar": {
             "outlinewidth": 0,
             "ticks": ""
            },
            "colorscale": [
             [
              0,
              "#0d0887"
             ],
             [
              0.1111111111111111,
              "#46039f"
             ],
             [
              0.2222222222222222,
              "#7201a8"
             ],
             [
              0.3333333333333333,
              "#9c179e"
             ],
             [
              0.4444444444444444,
              "#bd3786"
             ],
             [
              0.5555555555555556,
              "#d8576b"
             ],
             [
              0.6666666666666666,
              "#ed7953"
             ],
             [
              0.7777777777777778,
              "#fb9f3a"
             ],
             [
              0.8888888888888888,
              "#fdca26"
             ],
             [
              1,
              "#f0f921"
             ]
            ],
            "type": "heatmapgl"
           }
          ],
          "histogram": [
           {
            "marker": {
             "pattern": {
              "fillmode": "overlay",
              "size": 10,
              "solidity": 0.2
             }
            },
            "type": "histogram"
           }
          ],
          "histogram2d": [
           {
            "colorbar": {
             "outlinewidth": 0,
             "ticks": ""
            },
            "colorscale": [
             [
              0,
              "#0d0887"
             ],
             [
              0.1111111111111111,
              "#46039f"
             ],
             [
              0.2222222222222222,
              "#7201a8"
             ],
             [
              0.3333333333333333,
              "#9c179e"
             ],
             [
              0.4444444444444444,
              "#bd3786"
             ],
             [
              0.5555555555555556,
              "#d8576b"
             ],
             [
              0.6666666666666666,
              "#ed7953"
             ],
             [
              0.7777777777777778,
              "#fb9f3a"
             ],
             [
              0.8888888888888888,
              "#fdca26"
             ],
             [
              1,
              "#f0f921"
             ]
            ],
            "type": "histogram2d"
           }
          ],
          "histogram2dcontour": [
           {
            "colorbar": {
             "outlinewidth": 0,
             "ticks": ""
            },
            "colorscale": [
             [
              0,
              "#0d0887"
             ],
             [
              0.1111111111111111,
              "#46039f"
             ],
             [
              0.2222222222222222,
              "#7201a8"
             ],
             [
              0.3333333333333333,
              "#9c179e"
             ],
             [
              0.4444444444444444,
              "#bd3786"
             ],
             [
              0.5555555555555556,
              "#d8576b"
             ],
             [
              0.6666666666666666,
              "#ed7953"
             ],
             [
              0.7777777777777778,
              "#fb9f3a"
             ],
             [
              0.8888888888888888,
              "#fdca26"
             ],
             [
              1,
              "#f0f921"
             ]
            ],
            "type": "histogram2dcontour"
           }
          ],
          "mesh3d": [
           {
            "colorbar": {
             "outlinewidth": 0,
             "ticks": ""
            },
            "type": "mesh3d"
           }
          ],
          "parcoords": [
           {
            "line": {
             "colorbar": {
              "outlinewidth": 0,
              "ticks": ""
             }
            },
            "type": "parcoords"
           }
          ],
          "pie": [
           {
            "automargin": true,
            "type": "pie"
           }
          ],
          "scatter": [
           {
            "fillpattern": {
             "fillmode": "overlay",
             "size": 10,
             "solidity": 0.2
            },
            "type": "scatter"
           }
          ],
          "scatter3d": [
           {
            "line": {
             "colorbar": {
              "outlinewidth": 0,
              "ticks": ""
             }
            },
            "marker": {
             "colorbar": {
              "outlinewidth": 0,
              "ticks": ""
             }
            },
            "type": "scatter3d"
           }
          ],
          "scattercarpet": [
           {
            "marker": {
             "colorbar": {
              "outlinewidth": 0,
              "ticks": ""
             }
            },
            "type": "scattercarpet"
           }
          ],
          "scattergeo": [
           {
            "marker": {
             "colorbar": {
              "outlinewidth": 0,
              "ticks": ""
             }
            },
            "type": "scattergeo"
           }
          ],
          "scattergl": [
           {
            "marker": {
             "colorbar": {
              "outlinewidth": 0,
              "ticks": ""
             }
            },
            "type": "scattergl"
           }
          ],
          "scattermapbox": [
           {
            "marker": {
             "colorbar": {
              "outlinewidth": 0,
              "ticks": ""
             }
            },
            "type": "scattermapbox"
           }
          ],
          "scatterpolar": [
           {
            "marker": {
             "colorbar": {
              "outlinewidth": 0,
              "ticks": ""
             }
            },
            "type": "scatterpolar"
           }
          ],
          "scatterpolargl": [
           {
            "marker": {
             "colorbar": {
              "outlinewidth": 0,
              "ticks": ""
             }
            },
            "type": "scatterpolargl"
           }
          ],
          "scatterternary": [
           {
            "marker": {
             "colorbar": {
              "outlinewidth": 0,
              "ticks": ""
             }
            },
            "type": "scatterternary"
           }
          ],
          "surface": [
           {
            "colorbar": {
             "outlinewidth": 0,
             "ticks": ""
            },
            "colorscale": [
             [
              0,
              "#0d0887"
             ],
             [
              0.1111111111111111,
              "#46039f"
             ],
             [
              0.2222222222222222,
              "#7201a8"
             ],
             [
              0.3333333333333333,
              "#9c179e"
             ],
             [
              0.4444444444444444,
              "#bd3786"
             ],
             [
              0.5555555555555556,
              "#d8576b"
             ],
             [
              0.6666666666666666,
              "#ed7953"
             ],
             [
              0.7777777777777778,
              "#fb9f3a"
             ],
             [
              0.8888888888888888,
              "#fdca26"
             ],
             [
              1,
              "#f0f921"
             ]
            ],
            "type": "surface"
           }
          ],
          "table": [
           {
            "cells": {
             "fill": {
              "color": "#EBF0F8"
             },
             "line": {
              "color": "white"
             }
            },
            "header": {
             "fill": {
              "color": "#C8D4E3"
             },
             "line": {
              "color": "white"
             }
            },
            "type": "table"
           }
          ]
         },
         "layout": {
          "annotationdefaults": {
           "arrowcolor": "#2a3f5f",
           "arrowhead": 0,
           "arrowwidth": 1
          },
          "autotypenumbers": "strict",
          "coloraxis": {
           "colorbar": {
            "outlinewidth": 0,
            "ticks": ""
           }
          },
          "colorscale": {
           "diverging": [
            [
             0,
             "#8e0152"
            ],
            [
             0.1,
             "#c51b7d"
            ],
            [
             0.2,
             "#de77ae"
            ],
            [
             0.3,
             "#f1b6da"
            ],
            [
             0.4,
             "#fde0ef"
            ],
            [
             0.5,
             "#f7f7f7"
            ],
            [
             0.6,
             "#e6f5d0"
            ],
            [
             0.7,
             "#b8e186"
            ],
            [
             0.8,
             "#7fbc41"
            ],
            [
             0.9,
             "#4d9221"
            ],
            [
             1,
             "#276419"
            ]
           ],
           "sequential": [
            [
             0,
             "#0d0887"
            ],
            [
             0.1111111111111111,
             "#46039f"
            ],
            [
             0.2222222222222222,
             "#7201a8"
            ],
            [
             0.3333333333333333,
             "#9c179e"
            ],
            [
             0.4444444444444444,
             "#bd3786"
            ],
            [
             0.5555555555555556,
             "#d8576b"
            ],
            [
             0.6666666666666666,
             "#ed7953"
            ],
            [
             0.7777777777777778,
             "#fb9f3a"
            ],
            [
             0.8888888888888888,
             "#fdca26"
            ],
            [
             1,
             "#f0f921"
            ]
           ],
           "sequentialminus": [
            [
             0,
             "#0d0887"
            ],
            [
             0.1111111111111111,
             "#46039f"
            ],
            [
             0.2222222222222222,
             "#7201a8"
            ],
            [
             0.3333333333333333,
             "#9c179e"
            ],
            [
             0.4444444444444444,
             "#bd3786"
            ],
            [
             0.5555555555555556,
             "#d8576b"
            ],
            [
             0.6666666666666666,
             "#ed7953"
            ],
            [
             0.7777777777777778,
             "#fb9f3a"
            ],
            [
             0.8888888888888888,
             "#fdca26"
            ],
            [
             1,
             "#f0f921"
            ]
           ]
          },
          "colorway": [
           "#636efa",
           "#EF553B",
           "#00cc96",
           "#ab63fa",
           "#FFA15A",
           "#19d3f3",
           "#FF6692",
           "#B6E880",
           "#FF97FF",
           "#FECB52"
          ],
          "font": {
           "color": "#2a3f5f"
          },
          "geo": {
           "bgcolor": "white",
           "lakecolor": "white",
           "landcolor": "#E5ECF6",
           "showlakes": true,
           "showland": true,
           "subunitcolor": "white"
          },
          "hoverlabel": {
           "align": "left"
          },
          "hovermode": "closest",
          "mapbox": {
           "style": "light"
          },
          "paper_bgcolor": "white",
          "plot_bgcolor": "#E5ECF6",
          "polar": {
           "angularaxis": {
            "gridcolor": "white",
            "linecolor": "white",
            "ticks": ""
           },
           "bgcolor": "#E5ECF6",
           "radialaxis": {
            "gridcolor": "white",
            "linecolor": "white",
            "ticks": ""
           }
          },
          "scene": {
           "xaxis": {
            "backgroundcolor": "#E5ECF6",
            "gridcolor": "white",
            "gridwidth": 2,
            "linecolor": "white",
            "showbackground": true,
            "ticks": "",
            "zerolinecolor": "white"
           },
           "yaxis": {
            "backgroundcolor": "#E5ECF6",
            "gridcolor": "white",
            "gridwidth": 2,
            "linecolor": "white",
            "showbackground": true,
            "ticks": "",
            "zerolinecolor": "white"
           },
           "zaxis": {
            "backgroundcolor": "#E5ECF6",
            "gridcolor": "white",
            "gridwidth": 2,
            "linecolor": "white",
            "showbackground": true,
            "ticks": "",
            "zerolinecolor": "white"
           }
          },
          "shapedefaults": {
           "line": {
            "color": "#2a3f5f"
           }
          },
          "ternary": {
           "aaxis": {
            "gridcolor": "white",
            "linecolor": "white",
            "ticks": ""
           },
           "baxis": {
            "gridcolor": "white",
            "linecolor": "white",
            "ticks": ""
           },
           "bgcolor": "#E5ECF6",
           "caxis": {
            "gridcolor": "white",
            "linecolor": "white",
            "ticks": ""
           }
          },
          "title": {
           "x": 0.05
          },
          "xaxis": {
           "automargin": true,
           "gridcolor": "white",
           "linecolor": "white",
           "ticks": "",
           "title": {
            "standoff": 15
           },
           "zerolinecolor": "white",
           "zerolinewidth": 2
          },
          "yaxis": {
           "automargin": true,
           "gridcolor": "white",
           "linecolor": "white",
           "ticks": "",
           "title": {
            "standoff": 15
           },
           "zerolinecolor": "white",
           "zerolinewidth": 2
          }
         }
        },
        "title": {
         "text": "Year vs number of medals won"
        },
        "xaxis": {
         "anchor": "y",
         "domain": [
          0,
          1
         ],
         "title": {
          "text": "Year"
         }
        },
        "yaxis": {
         "anchor": "x",
         "domain": [
          0,
          1
         ],
         "title": {
          "text": "Medal"
         }
        }
       }
      },
      "text/html": [
       "<div>                            <div id=\"066067e5-b9ff-41a0-b632-bd9ba90b36fa\" class=\"plotly-graph-div\" style=\"height:525px; width:100%;\"></div>            <script type=\"text/javascript\">                require([\"plotly\"], function(Plotly) {                    window.PLOTLYENV=window.PLOTLYENV || {};                                    if (document.getElementById(\"066067e5-b9ff-41a0-b632-bd9ba90b36fa\")) {                    Plotly.newPlot(                        \"066067e5-b9ff-41a0-b632-bd9ba90b36fa\",                        [{\"hovertemplate\":\"Year=%{x}<br>Medal=%{y}<extra></extra>\",\"legendgroup\":\"\",\"line\":{\"color\":\"#636efa\",\"dash\":\"solid\"},\"marker\":{\"symbol\":\"circle\"},\"mode\":\"lines\",\"name\":\"\",\"orientation\":\"v\",\"showlegend\":false,\"x\":[2016,2012,2008,2004,2000,1996,1992,1988,1984,1980,1976,1972,1968,1964,1960,1956,1952,1948,1936,1932,1928,1924,1920,1900],\"xaxis\":\"x\",\"y\":[2,6,3,1,1,1,0,0,0,1,0,1,1,1,1,1,2,1,1,1,1,0,0,2],\"yaxis\":\"y\",\"type\":\"scatter\"}],                        {\"template\":{\"data\":{\"histogram2dcontour\":[{\"type\":\"histogram2dcontour\",\"colorbar\":{\"outlinewidth\":0,\"ticks\":\"\"},\"colorscale\":[[0.0,\"#0d0887\"],[0.1111111111111111,\"#46039f\"],[0.2222222222222222,\"#7201a8\"],[0.3333333333333333,\"#9c179e\"],[0.4444444444444444,\"#bd3786\"],[0.5555555555555556,\"#d8576b\"],[0.6666666666666666,\"#ed7953\"],[0.7777777777777778,\"#fb9f3a\"],[0.8888888888888888,\"#fdca26\"],[1.0,\"#f0f921\"]]}],\"choropleth\":[{\"type\":\"choropleth\",\"colorbar\":{\"outlinewidth\":0,\"ticks\":\"\"}}],\"histogram2d\":[{\"type\":\"histogram2d\",\"colorbar\":{\"outlinewidth\":0,\"ticks\":\"\"},\"colorscale\":[[0.0,\"#0d0887\"],[0.1111111111111111,\"#46039f\"],[0.2222222222222222,\"#7201a8\"],[0.3333333333333333,\"#9c179e\"],[0.4444444444444444,\"#bd3786\"],[0.5555555555555556,\"#d8576b\"],[0.6666666666666666,\"#ed7953\"],[0.7777777777777778,\"#fb9f3a\"],[0.8888888888888888,\"#fdca26\"],[1.0,\"#f0f921\"]]}],\"heatmap\":[{\"type\":\"heatmap\",\"colorbar\":{\"outlinewidth\":0,\"ticks\":\"\"},\"colorscale\":[[0.0,\"#0d0887\"],[0.1111111111111111,\"#46039f\"],[0.2222222222222222,\"#7201a8\"],[0.3333333333333333,\"#9c179e\"],[0.4444444444444444,\"#bd3786\"],[0.5555555555555556,\"#d8576b\"],[0.6666666666666666,\"#ed7953\"],[0.7777777777777778,\"#fb9f3a\"],[0.8888888888888888,\"#fdca26\"],[1.0,\"#f0f921\"]]}],\"heatmapgl\":[{\"type\":\"heatmapgl\",\"colorbar\":{\"outlinewidth\":0,\"ticks\":\"\"},\"colorscale\":[[0.0,\"#0d0887\"],[0.1111111111111111,\"#46039f\"],[0.2222222222222222,\"#7201a8\"],[0.3333333333333333,\"#9c179e\"],[0.4444444444444444,\"#bd3786\"],[0.5555555555555556,\"#d8576b\"],[0.6666666666666666,\"#ed7953\"],[0.7777777777777778,\"#fb9f3a\"],[0.8888888888888888,\"#fdca26\"],[1.0,\"#f0f921\"]]}],\"contourcarpet\":[{\"type\":\"contourcarpet\",\"colorbar\":{\"outlinewidth\":0,\"ticks\":\"\"}}],\"contour\":[{\"type\":\"contour\",\"colorbar\":{\"outlinewidth\":0,\"ticks\":\"\"},\"colorscale\":[[0.0,\"#0d0887\"],[0.1111111111111111,\"#46039f\"],[0.2222222222222222,\"#7201a8\"],[0.3333333333333333,\"#9c179e\"],[0.4444444444444444,\"#bd3786\"],[0.5555555555555556,\"#d8576b\"],[0.6666666666666666,\"#ed7953\"],[0.7777777777777778,\"#fb9f3a\"],[0.8888888888888888,\"#fdca26\"],[1.0,\"#f0f921\"]]}],\"surface\":[{\"type\":\"surface\",\"colorbar\":{\"outlinewidth\":0,\"ticks\":\"\"},\"colorscale\":[[0.0,\"#0d0887\"],[0.1111111111111111,\"#46039f\"],[0.2222222222222222,\"#7201a8\"],[0.3333333333333333,\"#9c179e\"],[0.4444444444444444,\"#bd3786\"],[0.5555555555555556,\"#d8576b\"],[0.6666666666666666,\"#ed7953\"],[0.7777777777777778,\"#fb9f3a\"],[0.8888888888888888,\"#fdca26\"],[1.0,\"#f0f921\"]]}],\"mesh3d\":[{\"type\":\"mesh3d\",\"colorbar\":{\"outlinewidth\":0,\"ticks\":\"\"}}],\"scatter\":[{\"fillpattern\":{\"fillmode\":\"overlay\",\"size\":10,\"solidity\":0.2},\"type\":\"scatter\"}],\"parcoords\":[{\"type\":\"parcoords\",\"line\":{\"colorbar\":{\"outlinewidth\":0,\"ticks\":\"\"}}}],\"scatterpolargl\":[{\"type\":\"scatterpolargl\",\"marker\":{\"colorbar\":{\"outlinewidth\":0,\"ticks\":\"\"}}}],\"bar\":[{\"error_x\":{\"color\":\"#2a3f5f\"},\"error_y\":{\"color\":\"#2a3f5f\"},\"marker\":{\"line\":{\"color\":\"#E5ECF6\",\"width\":0.5},\"pattern\":{\"fillmode\":\"overlay\",\"size\":10,\"solidity\":0.2}},\"type\":\"bar\"}],\"scattergeo\":[{\"type\":\"scattergeo\",\"marker\":{\"colorbar\":{\"outlinewidth\":0,\"ticks\":\"\"}}}],\"scatterpolar\":[{\"type\":\"scatterpolar\",\"marker\":{\"colorbar\":{\"outlinewidth\":0,\"ticks\":\"\"}}}],\"histogram\":[{\"marker\":{\"pattern\":{\"fillmode\":\"overlay\",\"size\":10,\"solidity\":0.2}},\"type\":\"histogram\"}],\"scattergl\":[{\"type\":\"scattergl\",\"marker\":{\"colorbar\":{\"outlinewidth\":0,\"ticks\":\"\"}}}],\"scatter3d\":[{\"type\":\"scatter3d\",\"line\":{\"colorbar\":{\"outlinewidth\":0,\"ticks\":\"\"}},\"marker\":{\"colorbar\":{\"outlinewidth\":0,\"ticks\":\"\"}}}],\"scattermapbox\":[{\"type\":\"scattermapbox\",\"marker\":{\"colorbar\":{\"outlinewidth\":0,\"ticks\":\"\"}}}],\"scatterternary\":[{\"type\":\"scatterternary\",\"marker\":{\"colorbar\":{\"outlinewidth\":0,\"ticks\":\"\"}}}],\"scattercarpet\":[{\"type\":\"scattercarpet\",\"marker\":{\"colorbar\":{\"outlinewidth\":0,\"ticks\":\"\"}}}],\"carpet\":[{\"aaxis\":{\"endlinecolor\":\"#2a3f5f\",\"gridcolor\":\"white\",\"linecolor\":\"white\",\"minorgridcolor\":\"white\",\"startlinecolor\":\"#2a3f5f\"},\"baxis\":{\"endlinecolor\":\"#2a3f5f\",\"gridcolor\":\"white\",\"linecolor\":\"white\",\"minorgridcolor\":\"white\",\"startlinecolor\":\"#2a3f5f\"},\"type\":\"carpet\"}],\"table\":[{\"cells\":{\"fill\":{\"color\":\"#EBF0F8\"},\"line\":{\"color\":\"white\"}},\"header\":{\"fill\":{\"color\":\"#C8D4E3\"},\"line\":{\"color\":\"white\"}},\"type\":\"table\"}],\"barpolar\":[{\"marker\":{\"line\":{\"color\":\"#E5ECF6\",\"width\":0.5},\"pattern\":{\"fillmode\":\"overlay\",\"size\":10,\"solidity\":0.2}},\"type\":\"barpolar\"}],\"pie\":[{\"automargin\":true,\"type\":\"pie\"}]},\"layout\":{\"autotypenumbers\":\"strict\",\"colorway\":[\"#636efa\",\"#EF553B\",\"#00cc96\",\"#ab63fa\",\"#FFA15A\",\"#19d3f3\",\"#FF6692\",\"#B6E880\",\"#FF97FF\",\"#FECB52\"],\"font\":{\"color\":\"#2a3f5f\"},\"hovermode\":\"closest\",\"hoverlabel\":{\"align\":\"left\"},\"paper_bgcolor\":\"white\",\"plot_bgcolor\":\"#E5ECF6\",\"polar\":{\"bgcolor\":\"#E5ECF6\",\"angularaxis\":{\"gridcolor\":\"white\",\"linecolor\":\"white\",\"ticks\":\"\"},\"radialaxis\":{\"gridcolor\":\"white\",\"linecolor\":\"white\",\"ticks\":\"\"}},\"ternary\":{\"bgcolor\":\"#E5ECF6\",\"aaxis\":{\"gridcolor\":\"white\",\"linecolor\":\"white\",\"ticks\":\"\"},\"baxis\":{\"gridcolor\":\"white\",\"linecolor\":\"white\",\"ticks\":\"\"},\"caxis\":{\"gridcolor\":\"white\",\"linecolor\":\"white\",\"ticks\":\"\"}},\"coloraxis\":{\"colorbar\":{\"outlinewidth\":0,\"ticks\":\"\"}},\"colorscale\":{\"sequential\":[[0.0,\"#0d0887\"],[0.1111111111111111,\"#46039f\"],[0.2222222222222222,\"#7201a8\"],[0.3333333333333333,\"#9c179e\"],[0.4444444444444444,\"#bd3786\"],[0.5555555555555556,\"#d8576b\"],[0.6666666666666666,\"#ed7953\"],[0.7777777777777778,\"#fb9f3a\"],[0.8888888888888888,\"#fdca26\"],[1.0,\"#f0f921\"]],\"sequentialminus\":[[0.0,\"#0d0887\"],[0.1111111111111111,\"#46039f\"],[0.2222222222222222,\"#7201a8\"],[0.3333333333333333,\"#9c179e\"],[0.4444444444444444,\"#bd3786\"],[0.5555555555555556,\"#d8576b\"],[0.6666666666666666,\"#ed7953\"],[0.7777777777777778,\"#fb9f3a\"],[0.8888888888888888,\"#fdca26\"],[1.0,\"#f0f921\"]],\"diverging\":[[0,\"#8e0152\"],[0.1,\"#c51b7d\"],[0.2,\"#de77ae\"],[0.3,\"#f1b6da\"],[0.4,\"#fde0ef\"],[0.5,\"#f7f7f7\"],[0.6,\"#e6f5d0\"],[0.7,\"#b8e186\"],[0.8,\"#7fbc41\"],[0.9,\"#4d9221\"],[1,\"#276419\"]]},\"xaxis\":{\"gridcolor\":\"white\",\"linecolor\":\"white\",\"ticks\":\"\",\"title\":{\"standoff\":15},\"zerolinecolor\":\"white\",\"automargin\":true,\"zerolinewidth\":2},\"yaxis\":{\"gridcolor\":\"white\",\"linecolor\":\"white\",\"ticks\":\"\",\"title\":{\"standoff\":15},\"zerolinecolor\":\"white\",\"automargin\":true,\"zerolinewidth\":2},\"scene\":{\"xaxis\":{\"backgroundcolor\":\"#E5ECF6\",\"gridcolor\":\"white\",\"linecolor\":\"white\",\"showbackground\":true,\"ticks\":\"\",\"zerolinecolor\":\"white\",\"gridwidth\":2},\"yaxis\":{\"backgroundcolor\":\"#E5ECF6\",\"gridcolor\":\"white\",\"linecolor\":\"white\",\"showbackground\":true,\"ticks\":\"\",\"zerolinecolor\":\"white\",\"gridwidth\":2},\"zaxis\":{\"backgroundcolor\":\"#E5ECF6\",\"gridcolor\":\"white\",\"linecolor\":\"white\",\"showbackground\":true,\"ticks\":\"\",\"zerolinecolor\":\"white\",\"gridwidth\":2}},\"shapedefaults\":{\"line\":{\"color\":\"#2a3f5f\"}},\"annotationdefaults\":{\"arrowcolor\":\"#2a3f5f\",\"arrowhead\":0,\"arrowwidth\":1},\"geo\":{\"bgcolor\":\"white\",\"landcolor\":\"#E5ECF6\",\"subunitcolor\":\"white\",\"showland\":true,\"showlakes\":true,\"lakecolor\":\"white\"},\"title\":{\"x\":0.05},\"mapbox\":{\"style\":\"light\"}}},\"xaxis\":{\"anchor\":\"y\",\"domain\":[0.0,1.0],\"title\":{\"text\":\"Year\"}},\"yaxis\":{\"anchor\":\"x\",\"domain\":[0.0,1.0],\"title\":{\"text\":\"Medal\"}},\"legend\":{\"tracegroupgap\":0},\"title\":{\"text\":\"Year vs number of medals won\"}},                        {\"responsive\": true}                    ).then(function(){\n",
       "                            \n",
       "var gd = document.getElementById('066067e5-b9ff-41a0-b632-bd9ba90b36fa');\n",
       "var x = new MutationObserver(function (mutations, observer) {{\n",
       "        var display = window.getComputedStyle(gd).display;\n",
       "        if (!display || display === 'none') {{\n",
       "            console.log([gd, 'removed!']);\n",
       "            Plotly.purge(gd);\n",
       "            observer.disconnect();\n",
       "        }}\n",
       "}});\n",
       "\n",
       "// Listen for the removal of the full notebook cells\n",
       "var notebookContainer = gd.closest('#notebook-container');\n",
       "if (notebookContainer) {{\n",
       "    x.observe(notebookContainer, {childList: true});\n",
       "}}\n",
       "\n",
       "// Listen for the clearing of the current output cell\n",
       "var outputEl = gd.closest('.output');\n",
       "if (outputEl) {{\n",
       "    x.observe(outputEl, {childList: true});\n",
       "}}\n",
       "\n",
       "                        })                };                });            </script>        </div>"
      ]
     },
     "metadata": {},
     "output_type": "display_data"
    }
   ],
   "source": [
    "fig = px.line(country_medal_tally('India',S_df), x=\"Year\",y='Medal', title='Year vs number of medals won')\n",
    "fig.show()"
   ]
  },
  {
   "cell_type": "code",
   "execution_count": 176,
   "id": "a6fc2c1a",
   "metadata": {},
   "outputs": [],
   "source": [
    "# 2  table of  number of medals won by each country in every sport (with heatmap )"
   ]
  },
  {
   "cell_type": "code",
   "execution_count": 181,
   "id": "614d3d4a",
   "metadata": {},
   "outputs": [],
   "source": [
    "def country_event_heatmap(country,S_df):\n",
    "    a=S_df[S_df['region']==country].drop_duplicates(subset=['Team',\"NOC\",\"Games\",\"Year\",\"City\",\"Sport\",\"Event\",\"Medal\"]).dropna(subset=['Medal'])\n",
    "    a=a.groupby(['Year','Sport']).count()['Medal'].reset_index()\n",
    "    plt.figure(figsize=(20,20))\n",
    "    a.pivot_table(index='Sport',columns='Year',values='Medal').fillna(0).astype(int)\n",
    "    sns.heatmap(a.pivot_table(index='Sport',columns='Year',values='Medal').fillna(0).astype(int),annot=True)\n"
   ]
  },
  {
   "cell_type": "code",
   "execution_count": 182,
   "id": "898bf57f",
   "metadata": {},
   "outputs": [],
   "source": [
    "# 3 most succesfu athletes of that country(overall)\n",
    "#country as input\n"
   ]
  },
  {
   "cell_type": "code",
   "execution_count": 183,
   "id": "aea7be14",
   "metadata": {},
   "outputs": [],
   "source": [
    "# functon which filters the data by sports and tell which athlete won the most number no of medals\n",
    "def succesful_athletes_bycountry(S_df,country):\n",
    "\n",
    "    a=S_df[S_df['region']==country].dropna(subset=['Medal']).groupby(['Name','Sport']).count()[['Medal']].sort_values(by=['Medal'],ascending=False).reset_index().head(20)\n",
    "\n",
    "    a.rename(columns={'region':'Country'},inplace=True)\n",
    "\n",
    "    return a\n",
    "    \n",
    "        "
   ]
  },
  {
   "cell_type": "code",
   "execution_count": 184,
   "id": "51c0c1bf",
   "metadata": {},
   "outputs": [
    {
     "data": {
      "text/html": [
       "<div>\n",
       "<style scoped>\n",
       "    .dataframe tbody tr th:only-of-type {\n",
       "        vertical-align: middle;\n",
       "    }\n",
       "\n",
       "    .dataframe tbody tr th {\n",
       "        vertical-align: top;\n",
       "    }\n",
       "\n",
       "    .dataframe thead th {\n",
       "        text-align: right;\n",
       "    }\n",
       "</style>\n",
       "<table border=\"1\" class=\"dataframe\">\n",
       "  <thead>\n",
       "    <tr style=\"text-align: right;\">\n",
       "      <th></th>\n",
       "      <th>Name</th>\n",
       "      <th>Sport</th>\n",
       "      <th>Medal</th>\n",
       "    </tr>\n",
       "  </thead>\n",
       "  <tbody>\n",
       "    <tr>\n",
       "      <th>0</th>\n",
       "      <td>Leslie Walter Claudius</td>\n",
       "      <td>Hockey</td>\n",
       "      <td>4</td>\n",
       "    </tr>\n",
       "    <tr>\n",
       "      <th>1</th>\n",
       "      <td>Udham Singh Kular</td>\n",
       "      <td>Hockey</td>\n",
       "      <td>4</td>\n",
       "    </tr>\n",
       "    <tr>\n",
       "      <th>2</th>\n",
       "      <td>Victor John \"V. J.\" Peter</td>\n",
       "      <td>Hockey</td>\n",
       "      <td>3</td>\n",
       "    </tr>\n",
       "    <tr>\n",
       "      <th>3</th>\n",
       "      <td>Shankar Pillay Laxman</td>\n",
       "      <td>Hockey</td>\n",
       "      <td>3</td>\n",
       "    </tr>\n",
       "    <tr>\n",
       "      <th>4</th>\n",
       "      <td>Richard James Allen</td>\n",
       "      <td>Hockey</td>\n",
       "      <td>3</td>\n",
       "    </tr>\n",
       "    <tr>\n",
       "      <th>5</th>\n",
       "      <td>Ranganathan Francis</td>\n",
       "      <td>Hockey</td>\n",
       "      <td>3</td>\n",
       "    </tr>\n",
       "    <tr>\n",
       "      <th>6</th>\n",
       "      <td>Randhir Singh Gentle</td>\n",
       "      <td>Hockey</td>\n",
       "      <td>3</td>\n",
       "    </tr>\n",
       "    <tr>\n",
       "      <th>7</th>\n",
       "      <td>Harbinder Singh Chimni</td>\n",
       "      <td>Hockey</td>\n",
       "      <td>3</td>\n",
       "    </tr>\n",
       "    <tr>\n",
       "      <th>8</th>\n",
       "      <td>Balbir Singh Dosanjh, Sr.</td>\n",
       "      <td>Hockey</td>\n",
       "      <td>3</td>\n",
       "    </tr>\n",
       "    <tr>\n",
       "      <th>9</th>\n",
       "      <td>Balbir Singh</td>\n",
       "      <td>Hockey</td>\n",
       "      <td>3</td>\n",
       "    </tr>\n",
       "    <tr>\n",
       "      <th>10</th>\n",
       "      <td>Prithipal Singh</td>\n",
       "      <td>Hockey</td>\n",
       "      <td>3</td>\n",
       "    </tr>\n",
       "    <tr>\n",
       "      <th>11</th>\n",
       "      <td>Dhyan Chand Bais</td>\n",
       "      <td>Hockey</td>\n",
       "      <td>3</td>\n",
       "    </tr>\n",
       "    <tr>\n",
       "      <th>12</th>\n",
       "      <td>Hari Pal Kaushik</td>\n",
       "      <td>Hockey</td>\n",
       "      <td>2</td>\n",
       "    </tr>\n",
       "    <tr>\n",
       "      <th>13</th>\n",
       "      <td>Jagjit Singh Kular</td>\n",
       "      <td>Hockey</td>\n",
       "      <td>2</td>\n",
       "    </tr>\n",
       "    <tr>\n",
       "      <th>14</th>\n",
       "      <td>Sayed Muhammad Jaffar</td>\n",
       "      <td>Hockey</td>\n",
       "      <td>2</td>\n",
       "    </tr>\n",
       "    <tr>\n",
       "      <th>15</th>\n",
       "      <td>Norman Gilbert Pritchard (-Trevor)</td>\n",
       "      <td>Athletics</td>\n",
       "      <td>2</td>\n",
       "    </tr>\n",
       "    <tr>\n",
       "      <th>16</th>\n",
       "      <td>Raghbir Lal Sharma</td>\n",
       "      <td>Hockey</td>\n",
       "      <td>2</td>\n",
       "    </tr>\n",
       "    <tr>\n",
       "      <th>17</th>\n",
       "      <td>Joginder \"Gindi\" Singh</td>\n",
       "      <td>Hockey</td>\n",
       "      <td>2</td>\n",
       "    </tr>\n",
       "    <tr>\n",
       "      <th>18</th>\n",
       "      <td>Raghbir Singh Bhola</td>\n",
       "      <td>Hockey</td>\n",
       "      <td>2</td>\n",
       "    </tr>\n",
       "    <tr>\n",
       "      <th>19</th>\n",
       "      <td>Harmik Singh</td>\n",
       "      <td>Hockey</td>\n",
       "      <td>2</td>\n",
       "    </tr>\n",
       "  </tbody>\n",
       "</table>\n",
       "</div>"
      ],
      "text/plain": [
       "                                  Name      Sport  Medal\n",
       "0               Leslie Walter Claudius     Hockey      4\n",
       "1                    Udham Singh Kular     Hockey      4\n",
       "2            Victor John \"V. J.\" Peter     Hockey      3\n",
       "3                Shankar Pillay Laxman     Hockey      3\n",
       "4                  Richard James Allen     Hockey      3\n",
       "5                  Ranganathan Francis     Hockey      3\n",
       "6                 Randhir Singh Gentle     Hockey      3\n",
       "7               Harbinder Singh Chimni     Hockey      3\n",
       "8            Balbir Singh Dosanjh, Sr.     Hockey      3\n",
       "9                         Balbir Singh     Hockey      3\n",
       "10                     Prithipal Singh     Hockey      3\n",
       "11                    Dhyan Chand Bais     Hockey      3\n",
       "12                    Hari Pal Kaushik     Hockey      2\n",
       "13                  Jagjit Singh Kular     Hockey      2\n",
       "14               Sayed Muhammad Jaffar     Hockey      2\n",
       "15  Norman Gilbert Pritchard (-Trevor)  Athletics      2\n",
       "16                  Raghbir Lal Sharma     Hockey      2\n",
       "17              Joginder \"Gindi\" Singh     Hockey      2\n",
       "18                 Raghbir Singh Bhola     Hockey      2\n",
       "19                        Harmik Singh     Hockey      2"
      ]
     },
     "execution_count": 184,
     "metadata": {},
     "output_type": "execute_result"
    }
   ],
   "source": [
    "succesful_athletes_bycountry(S_df,\"India\")"
   ]
  },
  {
   "cell_type": "markdown",
   "id": "483fbb70",
   "metadata": {},
   "source": [
    "# ATHLETE WISE INFORMATION \n",
    "#### by sex,age ,height ,weight"
   ]
  },
  {
   "cell_type": "code",
   "execution_count": 185,
   "id": "f4af2222",
   "metadata": {},
   "outputs": [],
   "source": [
    "import plotly.figure_factory as ff\n"
   ]
  },
  {
   "cell_type": "code",
   "execution_count": 245,
   "id": "9de4e43c",
   "metadata": {
    "collapsed": true
   },
   "outputs": [
    {
     "data": {
      "application/vnd.plotly.v1+json": {
       "config": {
        "plotlyServerURL": "https://plot.ly"
       },
       "data": [
        {
         "legendgroup": "Age Distribution",
         "marker": {
          "color": "rgb(31, 119, 180)"
         },
         "mode": "lines",
         "name": "Age Distribution",
         "showlegend": true,
         "type": "scatter",
         "x": [
          10,
          10.174,
          10.348,
          10.522,
          10.696,
          10.87,
          11.044,
          11.218,
          11.392,
          11.566,
          11.74,
          11.914,
          12.088000000000001,
          12.262,
          12.436,
          12.61,
          12.783999999999999,
          12.958,
          13.132,
          13.306000000000001,
          13.48,
          13.654,
          13.828,
          14.001999999999999,
          14.176,
          14.35,
          14.524000000000001,
          14.698,
          14.872,
          15.046,
          15.219999999999999,
          15.394,
          15.568,
          15.742,
          15.916,
          16.09,
          16.264,
          16.438,
          16.612000000000002,
          16.786,
          16.96,
          17.134,
          17.308,
          17.482,
          17.656,
          17.83,
          18.003999999999998,
          18.178,
          18.352,
          18.526,
          18.7,
          18.874000000000002,
          19.048000000000002,
          19.222,
          19.396,
          19.57,
          19.744,
          19.918,
          20.092,
          20.266,
          20.439999999999998,
          20.614,
          20.788,
          20.962,
          21.136,
          21.310000000000002,
          21.484,
          21.658,
          21.832,
          22.006,
          22.18,
          22.354,
          22.528,
          22.701999999999998,
          22.875999999999998,
          23.05,
          23.224,
          23.398,
          23.572,
          23.746000000000002,
          23.92,
          24.094,
          24.268,
          24.442,
          24.616,
          24.79,
          24.964,
          25.137999999999998,
          25.311999999999998,
          25.486,
          25.66,
          25.834,
          26.008,
          26.182,
          26.356,
          26.53,
          26.704,
          26.878,
          27.052,
          27.226,
          27.4,
          27.574,
          27.748,
          27.922,
          28.096,
          28.27,
          28.444,
          28.618,
          28.792,
          28.966,
          29.14,
          29.314,
          29.488,
          29.662,
          29.836,
          30.01,
          30.184,
          30.358,
          30.532,
          30.706,
          30.88,
          31.054,
          31.228,
          31.402,
          31.576,
          31.75,
          31.924,
          32.098,
          32.272,
          32.446,
          32.620000000000005,
          32.794,
          32.968,
          33.141999999999996,
          33.316,
          33.489999999999995,
          33.664,
          33.838,
          34.012,
          34.186,
          34.36,
          34.534,
          34.708,
          34.882000000000005,
          35.056,
          35.230000000000004,
          35.403999999999996,
          35.578,
          35.751999999999995,
          35.926,
          36.1,
          36.274,
          36.448,
          36.622,
          36.796,
          36.97,
          37.144,
          37.318,
          37.492000000000004,
          37.666,
          37.84,
          38.013999999999996,
          38.188,
          38.361999999999995,
          38.536,
          38.71,
          38.884,
          39.058,
          39.232,
          39.406,
          39.58,
          39.754000000000005,
          39.928,
          40.102000000000004,
          40.275999999999996,
          40.45,
          40.623999999999995,
          40.798,
          40.972,
          41.146,
          41.32,
          41.494,
          41.668,
          41.842,
          42.016,
          42.19,
          42.364,
          42.538,
          42.712,
          42.886,
          43.06,
          43.234,
          43.408,
          43.582,
          43.756,
          43.93,
          44.104,
          44.278,
          44.452,
          44.626,
          44.8,
          44.974,
          45.148,
          45.322,
          45.496,
          45.67,
          45.844,
          46.018,
          46.192,
          46.366,
          46.54,
          46.714,
          46.888,
          47.062,
          47.236,
          47.41,
          47.584,
          47.758,
          47.932,
          48.106,
          48.28,
          48.454,
          48.628,
          48.802,
          48.976,
          49.15,
          49.324,
          49.498,
          49.672,
          49.846,
          50.02,
          50.194,
          50.368,
          50.542,
          50.716,
          50.89,
          51.064,
          51.238,
          51.412,
          51.586,
          51.76,
          51.934,
          52.108,
          52.282,
          52.456,
          52.63,
          52.804,
          52.978,
          53.152,
          53.326,
          53.5,
          53.674,
          53.848,
          54.022,
          54.196,
          54.37,
          54.544,
          54.718,
          54.892,
          55.066,
          55.24,
          55.414,
          55.588,
          55.762,
          55.936,
          56.11,
          56.284,
          56.458,
          56.632,
          56.806,
          56.98,
          57.154,
          57.328,
          57.502,
          57.676,
          57.85,
          58.024,
          58.198,
          58.372,
          58.546,
          58.72,
          58.894,
          59.068,
          59.242,
          59.416,
          59.59,
          59.764,
          59.938,
          60.112,
          60.286,
          60.46,
          60.634,
          60.808,
          60.982,
          61.156,
          61.33,
          61.504,
          61.678,
          61.852,
          62.026,
          62.2,
          62.374,
          62.548,
          62.722,
          62.896,
          63.07,
          63.244,
          63.418,
          63.592,
          63.766,
          63.94,
          64.114,
          64.288,
          64.462,
          64.636,
          64.81,
          64.98400000000001,
          65.158,
          65.332,
          65.506,
          65.68,
          65.854,
          66.02799999999999,
          66.202,
          66.376,
          66.55,
          66.72399999999999,
          66.898,
          67.072,
          67.24600000000001,
          67.42,
          67.594,
          67.768,
          67.94200000000001,
          68.116,
          68.28999999999999,
          68.464,
          68.638,
          68.812,
          68.98599999999999,
          69.16,
          69.334,
          69.50800000000001,
          69.682,
          69.856,
          70.03,
          70.20400000000001,
          70.378,
          70.55199999999999,
          70.726,
          70.9,
          71.074,
          71.24799999999999,
          71.422,
          71.596,
          71.77000000000001,
          71.944,
          72.118,
          72.292,
          72.46600000000001,
          72.64,
          72.814,
          72.988,
          73.162,
          73.336,
          73.50999999999999,
          73.684,
          73.858,
          74.032,
          74.206,
          74.38,
          74.554,
          74.728,
          74.902,
          75.076,
          75.25,
          75.424,
          75.598,
          75.772,
          75.946,
          76.12,
          76.294,
          76.468,
          76.642,
          76.816,
          76.99,
          77.164,
          77.338,
          77.512,
          77.686,
          77.86,
          78.034,
          78.208,
          78.382,
          78.556,
          78.73,
          78.904,
          79.078,
          79.252,
          79.426,
          79.6,
          79.774,
          79.948,
          80.122,
          80.296,
          80.47,
          80.644,
          80.818,
          80.992,
          81.166,
          81.34,
          81.514,
          81.688,
          81.862,
          82.036,
          82.21,
          82.384,
          82.558,
          82.732,
          82.906,
          83.08,
          83.254,
          83.428,
          83.602,
          83.776,
          83.95,
          84.124,
          84.298,
          84.472,
          84.646,
          84.82,
          84.994,
          85.168,
          85.342,
          85.516,
          85.69,
          85.864,
          86.038,
          86.212,
          86.386,
          86.56,
          86.734,
          86.908,
          87.082,
          87.256,
          87.43,
          87.604,
          87.778,
          87.952,
          88.126,
          88.3,
          88.474,
          88.648,
          88.822,
          88.996,
          89.17,
          89.344,
          89.518,
          89.692,
          89.866,
          90.04,
          90.214,
          90.388,
          90.562,
          90.736,
          90.91,
          91.084,
          91.258,
          91.432,
          91.606,
          91.78,
          91.954,
          92.128,
          92.302,
          92.476,
          92.65,
          92.824,
          92.998,
          93.172,
          93.346,
          93.52,
          93.694,
          93.868,
          94.042,
          94.216,
          94.39,
          94.564,
          94.738,
          94.912,
          95.086,
          95.26,
          95.434,
          95.608,
          95.782,
          95.956,
          96.13,
          96.304,
          96.478,
          96.652,
          96.826
         ],
         "xaxis": "x",
         "y": [
          1.0695195716989117e-05,
          1.3464104361132524e-05,
          1.7046194382555065e-05,
          2.1899824190887476e-05,
          2.8659225136091e-05,
          3.81842788002506e-05,
          5.154367630111873e-05,
          6.987699964819099e-05,
          9.423459723133078e-05,
          0.00012564322913068626,
          0.00016555176962339114,
          0.00021641132902107936,
          0.00028178165218243977,
          0.0003655785983572815,
          0.0004709861207290174,
          0.0006003436908005666,
          0.0007568090270171773,
          0.0009466577140528907,
          0.0011794787204800505,
          0.0014646272966631403,
          0.0018061941370278892,
          0.002201844046700829,
          0.0026487025035200375,
          0.0031521542595491646,
          0.0037278005669640177,
          0.004390764794288221,
          0.005139332593453988,
          0.005949534915848396,
          0.00679087910112219,
          0.007652903614171944,
          0.008557100035417564,
          0.009538309980630447,
          0.01060978275613107,
          0.011747273701498686,
          0.012913379761745057,
          0.014102163207168292,
          0.01535764807214437,
          0.01674135703489714,
          0.018277896946654083,
          0.019937272617529155,
          0.021679260972163383,
          0.023516521130823316,
          0.02552337259459293,
          0.027768396541796872,
          0.0302356332546093,
          0.032825533478708355,
          0.03545068759647513,
          0.038133145619728664,
          0.0409906339297888,
          0.04410688822193896,
          0.04741391873156328,
          0.05072256864683754,
          0.0538921142416185,
          0.05697191405506583,
          0.060155487604027974,
          0.06357468368970523,
          0.06714166924658581,
          0.07061621013404423,
          0.07384415422971917,
          0.07691665671272775,
          0.08006197508916879,
          0.08336043762169881,
          0.08658032567559168,
          0.08933143552530312,
          0.0914069824050788,
          0.09297113190137199,
          0.09438899873192172,
          0.09586053611462707,
          0.0972301050102457,
          0.09816805155818079,
          0.09853320183153297,
          0.09853283085843231,
          0.09850817339289271,
          0.09857004232776535,
          0.09847088856285695,
          0.09785296856445488,
          0.0966171786667117,
          0.0950313440475289,
          0.09347105536329112,
          0.0920674957601148,
          0.09062380463546685,
          0.08887075479984072,
          0.08677900337509359,
          0.08460012309547023,
          0.08260702881785334,
          0.08082001420016727,
          0.07900646987596978,
          0.07694268706697519,
          0.07465271359761409,
          0.0723770040219575,
          0.07031777599146868,
          0.06843799309963235,
          0.06651983368727075,
          0.06440689243167846,
          0.06216775583818066,
          0.06001604510606754,
          0.05808511496162052,
          0.056300212174632214,
          0.054473841857847656,
          0.05250987208369408,
          0.05049655385243627,
          0.04859900152043319,
          0.04687657915193592,
          0.04522096584433565,
          0.0434730503255435,
          0.0415880842317231,
          0.0396774889568219,
          0.03789397603285487,
          0.03628831306164639,
          0.03478325534765561,
          0.03327732036153511,
          0.03175756916158278,
          0.03030366678281365,
          0.028989774763053942,
          0.027797108980864814,
          0.026629804934531404,
          0.02541178685155185,
          0.024159675659281656,
          0.022959203268434907,
          0.021876951025986188,
          0.02090188602049222,
          0.01997151590124801,
          0.019045698797472588,
          0.018146465965930825,
          0.017326110907046707,
          0.01660445121148066,
          0.01594479849566012,
          0.015291586006591305,
          0.014625969278252727,
          0.013980218485376271,
          0.01339922295439107,
          0.01289319055747068,
          0.012430860836624926,
          0.01197598136182623,
          0.011524307333093528,
          0.011101519811736347,
          0.010727172863303757,
          0.010385955883854688,
          0.010037638342779343,
          0.009654472944946133,
          0.009246350558822091,
          0.00884855668323864,
          0.008486695217491277,
          0.008155415996390308,
          0.007830533923532253,
          0.007498516640503181,
          0.00717125170171905,
          0.006872334079681419,
          0.006611932474547973,
          0.006377615707746397,
          0.006149405667997066,
          0.005921193817922326,
          0.005705421203163674,
          0.005517412217103141,
          0.005357580497788359,
          0.0052107039083804365,
          0.005062016491400444,
          0.0049119376552879575,
          0.0047737666799822056,
          0.004657724645816494,
          0.0045591310717379065,
          0.004463188714034292,
          0.004360493249451698,
          0.004256177801808515,
          0.004163147209742433,
          0.004087262479235668,
          0.004020612868062085,
          0.003949707248334141,
          0.003869154217850193,
          0.0037858143713137143,
          0.003709111201224959,
          0.0036382534259292495,
          0.00356038292060917,
          0.003461988134260597,
          0.0033420399860769876,
          0.0032137793269373894,
          0.003093965157199832,
          0.002990768594343877,
          0.0029016821067698114,
          0.0028215299933904946,
          0.0027504581237439577,
          0.002693157952901574,
          0.0026511441729246596,
          0.0026177048317818615,
          0.002581904002469378,
          0.0025377565423120693,
          0.002488836798597667,
          0.0024434072200045136,
          0.0024052408377906293,
          0.0023697309983158827,
          0.0023290446972057005,
          0.0022804474053208018,
          0.002228813679170873,
          0.0021808234189498333,
          0.002137257152171763,
          0.002091654368855861,
          0.002036680714483326,
          0.001971444887978596,
          0.001902240203399452,
          0.0018362470866839819,
          0.0017749331099166737,
          0.0017137887338982347,
          0.0016481729081881211,
          0.0015788933088418562,
          0.0015119508816592382,
          0.0014532674802532038,
          0.0014041750792635208,
          0.0013620050897197855,
          0.0013243512461259298,
          0.0012919003923009033,
          0.0012668361472673551,
          0.0012490131955336275,
          0.0012345572047343088,
          0.0012187291349552063,
          0.0012000884712735358,
          0.0011815093216633488,
          0.0011669842706804093,
          0.0011576250784726808,
          0.0011509789146196938,
          0.0011440430316933042,
          0.0011363183439285622,
          0.0011292956378689168,
          0.0011228299412019882,
          0.0011125016993597044,
          0.0010913213372081181,
          0.0010547357808546286,
          0.00100443495741276,
          0.000947493620642179,
          0.0008917732013556433,
          0.0008417623361769594,
          0.0007980757554627733,
          0.0007600086905661082,
          0.0007279085539109277,
          0.0007030887572937025,
          0.0006860681754086689,
          0.0006756139955742702,
          0.0006697742824908789,
          0.0006675571977061713,
          0.0006691072427218072,
          0.0006740171379128624,
          0.0006797157732644352,
          0.0006820360071168234,
          0.0006778133917462822,
          0.0006671047210008829,
          0.0006528163135212842,
          0.0006380523036977412,
          0.0006237182719868471,
          0.0006085495971953017,
          0.0005912159820667151,
          0.0005721357209873037,
          0.0005531466434423318,
          0.0005355514898109116,
          0.0005187324843417951,
          0.0005008274344833823,
          0.0004807526566941015,
          0.0004595163407411281,
          0.0004396031689793059,
          0.0004231992822501014,
          0.000411034521532844,
          0.00040270978193250015,
          0.0003976955225726071,
          0.0003955989367011858,
          0.00039535996301847775,
          0.0003944798353396945,
          0.00038956631028884707,
          0.00037816845156324715,
          0.0003604662628884188,
          0.00033936765213571173,
          0.0003189573628416015,
          0.00030261211579767436,
          0.0002921223618541327,
          0.00028797723121065725,
          0.000289913102393015,
          0.0002969503958591008,
          0.00030713028700676576,
          0.0003177699178982715,
          0.0003265364427970118,
          0.0003325809686967132,
          0.00033662992503901096,
          0.00033981537830026485,
          0.00034228174662750987,
          0.0003428916309577458,
          0.0003402947581935934,
          0.00033426846209234765,
          0.0003259787707866753,
          0.00031691802496189346,
          0.00030760544669726617,
          0.00029733706717169643,
          0.0002851799988138579,
          0.0002711804062739709,
          0.0002566248983779947,
          0.00024320601274091232,
          0.00023198886836756658,
          0.0002231170172092129,
          0.000216309662137545,
          0.00021140489988405044,
          0.00020831090107878018,
          0.0002065230426731951,
          0.00020491560819439473,
          0.00020221766259029739,
          0.0001977908548008598,
          0.00019193110582083913,
          0.00018535988399587884,
          0.00017838846512452985,
          0.00017057400885279225,
          0.00016120249535741553,
          0.00015014027333854916,
          0.0001382840254703137,
          0.00012726355024642407,
          0.00011872448479782192,
          0.00011377155746420845,
          0.00011282900252221926,
          0.00011571756463958036,
          0.00012166416419998954,
          0.00012927141194883686,
          0.00013673647855250382,
          0.000142448783974426,
          0.0001456513608154919,
          0.0001466326117961367,
          0.00014623664367413553,
          0.00014507755299703718,
          0.00014311963713478296,
          0.00013993892016486448,
          0.00013533980341087114,
          0.0001296966149808158,
          0.0001237091330795083,
          0.00011785722235055667,
          0.00011210802997420066,
          0.00010613125231264956,
          9.975759735239048e-05,
          9.320837302746754e-05,
          8.690317929959627e-05,
          8.10894102706172e-05,
          7.568213903265058e-05,
          7.044832964015911e-05,
          6.531701189234865e-05,
          6.0506526077231e-05,
          5.638203347874108e-05,
          5.3224510679021556e-05,
          5.113462885030323e-05,
          5.010998442962128e-05,
          5.0153328611609975e-05,
          5.128236649760989e-05,
          5.346868721664152e-05,
          5.6626223652122954e-05,
          6.06823727755859e-05,
          6.561017168956856e-05,
          7.128906399765193e-05,
          7.725105954127902e-05,
          8.256787374694079e-05,
          8.60960621338731e-05,
          8.700055413738328e-05,
          8.518877967895649e-05,
          8.130721247716839e-05,
          7.62949118298151e-05,
          7.084798964987208e-05,
          6.519412974350527e-05,
          5.9279537797921254e-05,
          5.312374301840536e-05,
          4.701128257662911e-05,
          4.1398166109492e-05,
          3.667709421058319e-05,
          3.302237340006568e-05,
          3.0400283521362976e-05,
          2.86616930953129e-05,
          2.759917535818441e-05,
          2.6947450296204446e-05,
          2.639758031542272e-05,
          2.5678188810715178e-05,
          2.4663736970097223e-05,
          2.341610187728017e-05,
          2.211518695751736e-05,
          2.093375113496364e-05,
          1.995573507182024e-05,
          1.918406951018395e-05,
          1.859463819445972e-05,
          1.81611697579637e-05,
          1.7827292422214245e-05,
          1.7473547485874887e-05,
          1.6939302105332844e-05,
          1.6101065343982782e-05,
          1.4944329595834579e-05,
          1.3564308346667572e-05,
          1.2093344128608143e-05,
          1.0616506914271504e-05,
          9.142075989616048e-06,
          7.640864348769455e-06,
          6.111061146684312e-06,
          4.612733381196524e-06,
          3.250196603641831e-06,
          2.123748668260084e-06,
          1.28917989100371e-06,
          7.489916508997139e-07,
          4.73363338511718e-07,
          4.32384471526196e-07,
          6.19756886489885e-07,
          1.0558740914567103e-06,
          1.7680014947310114e-06,
          2.7553360250595784e-06,
          3.956507956590915e-06,
          5.241665436743645e-06,
          6.442669929723863e-06,
          7.4118653927418306e-06,
          8.075784092014034e-06,
          8.446638068716309e-06,
          8.581211361086105e-06,
          8.516852788622255e-06,
          8.234195778349119e-06,
          7.676256007556397e-06,
          6.8086574150654535e-06,
          5.6737108947436885e-06,
          4.397839131982344e-06,
          3.1486798094426547e-06,
          2.072666930366695e-06,
          1.2507732368158745e-06,
          6.907156553261039e-07,
          3.486759706361716e-07,
          1.6079229197288473e-07,
          6.77112926355251e-08,
          2.6032144079417188e-08,
          9.135926400509781e-09,
          2.926537084449724e-09,
          8.556448087487768e-10,
          2.2832779722637934e-10,
          5.56086899764815e-11,
          1.2360739759205322e-11,
          2.5084423084393137e-12,
          4.707708219913095e-13,
          1.2186611767634713e-13,
          2.7669447204484805e-13,
          1.4734540554977088e-12,
          7.471478216827508e-12,
          3.461477984233387e-11,
          1.4636481823770922e-10,
          5.648330914583234e-10,
          1.989351748582447e-09,
          6.394565389650928e-09,
          1.875938042141974e-08,
          5.022662001150805e-08,
          1.22731889758498e-07,
          2.737088842170602e-07,
          5.570938604140771e-07,
          1.0348463096677717e-06,
          1.754411006886786e-06,
          2.7145311927297825e-06,
          3.833242853664008e-06,
          4.940214862678187e-06,
          5.810765457860633e-06,
          6.2377628498157495e-06,
          6.111282753667523e-06,
          5.464417849873815e-06,
          4.4592665188363244e-06,
          3.321168906401907e-06,
          2.2574934653660075e-06,
          1.4004578603342068e-06,
          7.929057990086559e-07,
          4.0971432425069136e-07,
          1.932185001436796e-07,
          8.316187458579354e-08,
          3.266689369365893e-08,
          1.171114648171328e-08,
          3.831766110561517e-09,
          1.1442122052366362e-09,
          3.1183306620279744e-10,
          7.756142135518814e-11,
          1.760667542923396e-11,
          3.647681936806011e-12,
          6.897069128048953e-13,
          1.190201971269284e-13,
          1.8746311515223602e-14,
          2.7076353918980636e-15,
          4.698376994282312e-16,
          9.73410362415936e-16,
          6.803050078569208e-15,
          4.530401512140279e-14,
          2.755274596938e-13,
          1.5293485518151211e-12,
          7.747435908802336e-12,
          3.581959383956156e-11,
          1.511459939621113e-10,
          5.82089297993075e-10,
          2.0460007282035266e-09,
          6.563804528091959e-09,
          1.9220156050411576e-08,
          5.1373546511000275e-08,
          1.253585990475986e-07,
          2.7930966939277817e-07,
          5.684322998831638e-07,
          1.057240417098073e-06,
          1.798764666305502e-06,
          2.803815717709351e-06,
          4.014153661008333e-06,
          5.299817142615458e-06,
          6.4931597176473265e-06,
          7.449273844885451e-06,
          8.098895809425055e-06,
          8.457555712723499e-06,
          8.582535341631488e-06,
          8.509013693506716e-06,
          8.215032832341817e-06
         ],
         "yaxis": "y"
        },
        {
         "legendgroup": "Gold medallist",
         "marker": {
          "color": "rgb(255, 127, 14)"
         },
         "mode": "lines",
         "name": "Gold medallist",
         "showlegend": true,
         "type": "scatter",
         "x": [
          13,
          13.102,
          13.204,
          13.306,
          13.408,
          13.51,
          13.612,
          13.714,
          13.816,
          13.918,
          14.02,
          14.122,
          14.224,
          14.326,
          14.428,
          14.53,
          14.632,
          14.734,
          14.836,
          14.938,
          15.04,
          15.142,
          15.244,
          15.346,
          15.448,
          15.55,
          15.652000000000001,
          15.754,
          15.856,
          15.958,
          16.06,
          16.162,
          16.264,
          16.366,
          16.468,
          16.57,
          16.672,
          16.774,
          16.876,
          16.978,
          17.08,
          17.182000000000002,
          17.284,
          17.386,
          17.488,
          17.59,
          17.692,
          17.794,
          17.896,
          17.998,
          18.1,
          18.201999999999998,
          18.304000000000002,
          18.406,
          18.508,
          18.61,
          18.712,
          18.814,
          18.916,
          19.018,
          19.12,
          19.222,
          19.323999999999998,
          19.426000000000002,
          19.528,
          19.63,
          19.732,
          19.834,
          19.936,
          20.038,
          20.14,
          20.242,
          20.344,
          20.445999999999998,
          20.548000000000002,
          20.65,
          20.752,
          20.854,
          20.956,
          21.058,
          21.16,
          21.262,
          21.364,
          21.466,
          21.567999999999998,
          21.67,
          21.772,
          21.874000000000002,
          21.976,
          22.078,
          22.18,
          22.282,
          22.384,
          22.486,
          22.588,
          22.689999999999998,
          22.792,
          22.894,
          22.996000000000002,
          23.098,
          23.2,
          23.302,
          23.404,
          23.506,
          23.608,
          23.71,
          23.811999999999998,
          23.914,
          24.016,
          24.118000000000002,
          24.22,
          24.322,
          24.424,
          24.526,
          24.628,
          24.73,
          24.832,
          24.933999999999997,
          25.036,
          25.137999999999998,
          25.240000000000002,
          25.342,
          25.444000000000003,
          25.546,
          25.648,
          25.75,
          25.852,
          25.954,
          26.055999999999997,
          26.158,
          26.259999999999998,
          26.362000000000002,
          26.464,
          26.566000000000003,
          26.668,
          26.77,
          26.872,
          26.974,
          27.076,
          27.178,
          27.28,
          27.381999999999998,
          27.484,
          27.586,
          27.688000000000002,
          27.79,
          27.892,
          27.994,
          28.096,
          28.198,
          28.3,
          28.402,
          28.503999999999998,
          28.606,
          28.708,
          28.810000000000002,
          28.912,
          29.014,
          29.116,
          29.218,
          29.32,
          29.422,
          29.524,
          29.626,
          29.728,
          29.83,
          29.932,
          30.034,
          30.136,
          30.238,
          30.34,
          30.442,
          30.544,
          30.646,
          30.748,
          30.85,
          30.952,
          31.054,
          31.156,
          31.258,
          31.36,
          31.462,
          31.564,
          31.666,
          31.768,
          31.87,
          31.972,
          32.074,
          32.176,
          32.278,
          32.379999999999995,
          32.482,
          32.584,
          32.686,
          32.788,
          32.89,
          32.992000000000004,
          33.094,
          33.196,
          33.298,
          33.4,
          33.501999999999995,
          33.604,
          33.706,
          33.808,
          33.91,
          34.012,
          34.114000000000004,
          34.216,
          34.318,
          34.42,
          34.522,
          34.623999999999995,
          34.726,
          34.828,
          34.93,
          35.032,
          35.134,
          35.236000000000004,
          35.338,
          35.44,
          35.542,
          35.644,
          35.745999999999995,
          35.848,
          35.95,
          36.052,
          36.153999999999996,
          36.256,
          36.358000000000004,
          36.46,
          36.562,
          36.664,
          36.766,
          36.867999999999995,
          36.97,
          37.072,
          37.174,
          37.275999999999996,
          37.378,
          37.480000000000004,
          37.582,
          37.684,
          37.786,
          37.888000000000005,
          37.989999999999995,
          38.092,
          38.194,
          38.296,
          38.397999999999996,
          38.5,
          38.602000000000004,
          38.704,
          38.806,
          38.908,
          39.010000000000005,
          39.111999999999995,
          39.214,
          39.316,
          39.418,
          39.519999999999996,
          39.622,
          39.724000000000004,
          39.826,
          39.928,
          40.03,
          40.132000000000005,
          40.234,
          40.336,
          40.438,
          40.54,
          40.641999999999996,
          40.744,
          40.846000000000004,
          40.948,
          41.05,
          41.152,
          41.254000000000005,
          41.356,
          41.458,
          41.56,
          41.662,
          41.763999999999996,
          41.866,
          41.968,
          42.07,
          42.172,
          42.274,
          42.376000000000005,
          42.478,
          42.58,
          42.682,
          42.784,
          42.885999999999996,
          42.988,
          43.09,
          43.192,
          43.294,
          43.396,
          43.498000000000005,
          43.6,
          43.702,
          43.804,
          43.906,
          44.007999999999996,
          44.11,
          44.212,
          44.314,
          44.416,
          44.518,
          44.620000000000005,
          44.722,
          44.824,
          44.926,
          45.028,
          45.13,
          45.232,
          45.334,
          45.436,
          45.538,
          45.64,
          45.742,
          45.844,
          45.946,
          46.048,
          46.15,
          46.252,
          46.354,
          46.456,
          46.558,
          46.66,
          46.762,
          46.864,
          46.966,
          47.068,
          47.17,
          47.272,
          47.374,
          47.476,
          47.578,
          47.68,
          47.782,
          47.884,
          47.986,
          48.088,
          48.19,
          48.292,
          48.394,
          48.496,
          48.598,
          48.7,
          48.802,
          48.904,
          49.006,
          49.108,
          49.21,
          49.312,
          49.414,
          49.516,
          49.618,
          49.72,
          49.822,
          49.924,
          50.026,
          50.128,
          50.23,
          50.332,
          50.434,
          50.536,
          50.638,
          50.74,
          50.842,
          50.944,
          51.046,
          51.148,
          51.25,
          51.352,
          51.454,
          51.556,
          51.658,
          51.76,
          51.862,
          51.964,
          52.066,
          52.168,
          52.27,
          52.372,
          52.474,
          52.576,
          52.678,
          52.78,
          52.882,
          52.984,
          53.086,
          53.188,
          53.29,
          53.392,
          53.494,
          53.596,
          53.698,
          53.8,
          53.902,
          54.004,
          54.106,
          54.208,
          54.31,
          54.412,
          54.514,
          54.616,
          54.718,
          54.82,
          54.922,
          55.024,
          55.126,
          55.228,
          55.33,
          55.432,
          55.534,
          55.636,
          55.738,
          55.84,
          55.942,
          56.044,
          56.146,
          56.248,
          56.35,
          56.452,
          56.554,
          56.656,
          56.758,
          56.86,
          56.962,
          57.064,
          57.166,
          57.268,
          57.37,
          57.472,
          57.574,
          57.676,
          57.778,
          57.88,
          57.982,
          58.084,
          58.186,
          58.288,
          58.39,
          58.492,
          58.594,
          58.696,
          58.798,
          58.9,
          59.002,
          59.104,
          59.206,
          59.308,
          59.41,
          59.512,
          59.614,
          59.716,
          59.818,
          59.92,
          60.022,
          60.124,
          60.226,
          60.328,
          60.43,
          60.532,
          60.634,
          60.736,
          60.838,
          60.94,
          61.042,
          61.144,
          61.246,
          61.348,
          61.45,
          61.552,
          61.654,
          61.756,
          61.858,
          61.96,
          62.062,
          62.164,
          62.266,
          62.368,
          62.47,
          62.572,
          62.674,
          62.776,
          62.878,
          62.98,
          63.082,
          63.184,
          63.286,
          63.388,
          63.49,
          63.592,
          63.694,
          63.796,
          63.898
         ],
         "xaxis": "x",
         "y": [
          0.0009899569307249038,
          0.0010840058412850636,
          0.0011849939136809964,
          0.0012938342742882607,
          0.0014115053877012393,
          0.0015390086130240154,
          0.001677321722894873,
          0.0018273523845645642,
          0.0019898959068589232,
          0.002165601446944245,
          0.002354950327582804,
          0.002558249166824822,
          0.0027756392428900513,
          0.0030071220243901606,
          0.003252599238240301,
          0.0035119243884128163,
          0.0037849614389396063,
          0.004071645573024767,
          0.004372040636233515,
          0.004686388112854652,
          0.005015143259463705,
          0.005358995259121727,
          0.005718869843449952,
          0.006095914600222965,
          0.0064914689621719274,
          0.006907022476683593,
          0.007344166219206517,
          0.007804542999465205,
          0.008289802226607787,
          0.008801564907382346,
          0.009341403268434691,
          0.009910837996276779,
          0.010511354207143005,
          0.011144435169527405,
          0.011811610710539502,
          0.01251451536037982,
          0.013254949832961438,
          0.014034938576563407,
          0.01485677597316937,
          0.01572305436533093,
          0.016636668413688712,
          0.01760079222843922,
          0.01861882809888118,
          0.019694328241168485,
          0.020830893541822822,
          0.022032055535421056,
          0.02330114958177892,
          0.024641188207459648,
          0.026054743719599403,
          0.02754384843942184,
          0.029109919283757776,
          0.030753711085784518,
          0.03247530022025379,
          0.034274097080373274,
          0.036148883077113676,
          0.038097865425580885,
          0.04011874132721194,
          0.04220876244102882,
          0.04436479083570095,
          0.04658333887439134,
          0.04886058754057748,
          0.051192380317001594,
          0.05357419259175637,
          0.056001079396952515,
          0.05846760683369776,
          0.060967774602648836,
          0.06349493850094684,
          0.06604174247033866,
          0.06860006973250478,
          0.07116102170327292,
          0.0737149317532252,
          0.07625141854958366,
          0.07875948082027484,
          0.08122763216140523,
          0.08364407128100634,
          0.08599688020019179,
          0.08827424077467899,
          0.09046465873043641,
          0.09255718435878844,
          0.09454162003247786,
          0.09640870654525191,
          0.09815028256419822,
          0.09975941378264644,
          0.10123049028439844,
          0.10255929192665537,
          0.10374302216020355,
          0.10478031076836121,
          0.1056711858041378,
          0.10641701487913491,
          0.10702041620614584,
          0.10748514059014352,
          0.10781592689182957,
          0.10801833517858146,
          0.10809856353316334,
          0.10806325597587006,
          0.10791930988339392,
          0.10767369148007097,
          0.10733326739750353,
          0.10690465904067734,
          0.10639412474557496,
          0.10580747268477812,
          0.10515000538258991,
          0.1044264947077195,
          0.10364118444189384,
          0.10279781606405596,
          0.1018996723137596,
          0.10094963247068102,
          0.09995023316940445,
          0.09890372899699246,
          0.09781214808284454,
          0.09667733930628122,
          0.0955010094625039,
          0.09428475053056251,
          0.09303005884013726,
          0.0917383492216188,
          0.09041096798959686,
          0.08904920878329377,
          0.08765433488617527,
          0.08622761075963598,
          0.0847703442794144,
          0.08328393969443475,
          0.08176995975879668,
          0.08023019392550967,
          0.07866672803570339,
          0.07708200970209975,
          0.07547890270770263,
          0.07386072337966622,
          0.07223125221358992,
          0.07059471513619377,
          0.06895573074158672,
          0.06731922253509613,
          0.06569029845028423,
          0.06407410332976995,
          0.06247565326211504,
          0.060899663216394874,
          0.05935038094273288,
          0.05783144036134605,
          0.05634574655523035,
          0.054895402095408365,
          0.053481681000453626,
          0.05210505251991259,
          0.05076525255800628,
          0.049461396361264016,
          0.0481921224940721,
          0.04695575546642735,
          0.04575047291223587,
          0.044574463084602445,
          0.04342605965213146,
          0.04230384323359298,
          0.04120670256062122,
          0.04013385226752238,
          0.039084808659028185,
          0.03805932895561773,
          0.03705732303659705,
          0.0360787492374858,
          0.03512350706525338,
          0.03419133966439507,
          0.033281757535146554,
          0.03239399254246247,
          0.03152698793835191,
          0.030679426301078613,
          0.02984979335618187,
          0.02903647196719884,
          0.02823785751286643,
          0.027452483684347734,
          0.026679146637273995,
          0.025917015514022815,
          0.025165718594942016,
          0.02442539661155297,
          0.023696717823922773,
          0.022980853007010704,
          0.02227941213524538,
          0.021594347920882283,
          0.020927834108378948,
          0.020282128294137416,
          0.01965942988135909,
          0.019061743574832982,
          0.018490757675500905,
          0.017947744556530705,
          0.017433488364283867,
          0.01694824248528805,
          0.016491716931952095,
          0.01606309375052758,
          0.01566106699426891,
          0.01528390279801744,
          0.014929514622233186,
          0.014595548723766274,
          0.014279475233235634,
          0.013978680732420538,
          0.013690558794847511,
          0.01341259547276486,
          0.013142447121574419,
          0.012878008236478111,
          0.01261746717076959,
          0.012359347781795848,
          0.012102535297394728,
          0.011846285096207077,
          0.011590213707305895,
          0.011334272173369303,
          0.011078702951610819,
          0.010823982663613375,
          0.010570754127453813,
          0.010319752073283022,
          0.010071727621766323,
          0.009827376885178894,
          0.00958727886958705,
          0.009351847203925429,
          0.009121299144458845,
          0.008895643897243672,
          0.008674690700014599,
          0.008458075462418831,
          0.008245303236924257,
          0.0080358025257116,
          0.007828986537101942,
          0.007624316065006665,
          0.0074213587065486,
          0.007219839637321984,
          0.007019680064853115,
          0.006821020673483245,
          0.006624228725809764,
          0.0064298888536149,
          0.0062387788182412165,
          0.0060518325339518385,
          0.005870093352872198,
          0.0056946609772241235,
          0.005526635410582281,
          0.005367061141196653,
          0.005216874350108987,
          0.005076855447949128,
          0.004947588752808975,
          0.0048294306914237585,
          0.004722487569362862,
          0.004626603710661595,
          0.004541360579961303,
          0.004466087316029602,
          0.004399882862055372,
          0.004341649520274753,
          0.004290137252679578,
          0.004243997394220076,
          0.004201843675809743,
          0.0041623176436128935,
          0.004124154809273831,
          0.004086247289131432,
          0.004047698403547623,
          0.0040078648043996605,
          0.00396638223606434,
          0.00392317201867013,
          0.0038784267206050447,
          0.0038325751530539536,
          0.003786228619366503,
          0.003740112103593744,
          0.0036949855951089136,
          0.003651561845189565,
          0.0036104274001630683,
          0.003571973673422666,
          0.003536344091491151,
          0.0035034020335311623,
          0.0034727225001954538,
          0.0034436083692885168,
          0.0034151299282494767,
          0.0033861843333181127,
          0.003355569935392647,
          0.003322069200209784,
          0.0032845333484759283,
          0.003241961896208952,
          0.0031935709618053486,
          0.0031388454317665066,
          0.0030775716937194828,
          0.0030098494688353423,
          0.0029360831080059314,
          0.00285695437013468,
          0.002773380022656188,
          0.0026864584898628457,
          0.0025974101787990577,
          0.0025075160500037433,
          0.002418058537711565,
          0.0023302681653558635,
          0.002245278271032293,
          0.0021640892785771103,
          0.002087543032226212,
          0.0020163069383290965,
          0.0019508670748961392,
          0.0018915290540404677,
          0.001838425240211724,
          0.001791526904639955,
          0.001750659988891092,
          0.0017155233114973059,
          0.0016857082405706968,
          0.0016607190417771704,
          0.0016399932767107565,
          0.0016229217643445972,
          0.0016088677289060084,
          0.0015971848468234865,
          0.0015872339797441057,
          0.001578398444431578,
          0.0015700977246028093,
          0.0015617995721097322,
          0.0015530304711513265,
          0.0015433844456699934,
          0.001532530175800108,
          0.0015202163577557205,
          0.00150627520144942,
          0.0014906239240879856,
          0.0014732640804773077,
          0.001454278584999663,
          0.0014338263349350895,
          0.001412134441712103,
          0.001389488209313451,
          0.0013662191532183231,
          0.0013426915090954472,
          0.0013192878158316916,
          0.0012963942517993513,
          0.0012743864410876956,
          0.001253616420081981,
          0.001234401365565707,
          0.0012170145433329771,
          0.0012016787577981934,
          0.0011885623889695187,
          0.001177777914937041,
          0.00116938265506055,
          0.0011633813461025392,
          0.001159730089389405,
          0.0011583411839945189,
          0.0011590883852807988,
          0.0011618121915950813,
          0.001166324853150596,
          0.0011724149036456233,
          0.0011798511248385663,
          0.0011883859566483486,
          0.0011977584521943381,
          0.0012076969428120178,
          0.001217921618959176,
          0.0012281472472771009,
          0.0012380862314015054,
          0.001247452185030711,
          0.001255964122086992,
          0.0012633512840638714,
          0.0012693585246058557,
          0.0012737520644625128,
          0.0012763253272756808,
          0.001276904481184923,
          0.0012753532564001456,
          0.0012715765965147837,
          0.0012655227393798118,
          0.0012571834139497105,
          0.0012465919777208323,
          0.0012338194931584513,
          0.0012189689328497893,
          0.0012021678903506436,
          0.0011835603344406266,
          0.0011632980588267652,
          0.0011415325324548604,
          0.0011184078397484224,
          0.0010940553153607061,
          0.0010685903319812345,
          0.0010421115063100673,
          0.001014702366008365,
          0.0009864352903308097,
          0.0009573773208826109,
          0.0009275972568535033,
          0.0008971733185265435,
          0.0008662005967720219,
          0.0008347975118849758,
          0.0008031105831888944,
          0.0007713169549394594,
          0.0007396243209871894,
          0.0007082681212867003,
          0.000677506124518215,
          0.0006476107381756564,
          0.0006188595773395045,
          0.0005915249573361928,
          0.0005658630418810738,
          0.0005421033738587748,
          0.0005204394460800918,
          0.0005010208472838502,
          0.0004839473628751531,
          0.0004692652414091235,
          0.00045696567687812813,
          0.000446985420005324,
          0.00043920932977402875,
          0.00043347461333719526,
          0.00042957647569792103,
          0.0004272749023254416,
          0.0004263023172203746,
          0.00042637188423346286,
          0.00042718624069901457,
          0.00042844646315110164,
          0.00042986106293023125,
          0.0004311547970958491,
          0.00043207706285088585,
          0.00043240962900446795,
          0.0004319734529797203,
          0.0004306343416323707,
          0.0004283072405331538,
          0.00042495897754832524,
          0.0004206093375214657,
          0.0004153303987679819,
          0.0004092441120918791,
          0.00040251814418484265,
          0.0003953600380594459,
          0.00038800976623173684,
          0.0003807307741563248,
          0.0003737996408390533,
          0.00036749452978950177,
          0.00036208267339685776,
          0.00035780722953011965,
          0.0003548739662752668,
          0.00035343835768550196,
          0.0003535937923135301,
          0.0003553616849639682,
          0.0003586843174504194,
          0.00036342119605801694,
          0.0003693495887382447,
          0.00037616969087348747,
          0.000383514574046813,
          0.000390964719409543,
          0.0003980665584829191,
          0.0004043540792851297,
          0.0004093722464769759,
          0.00041270076919323775,
          0.000413976658687304,
          0.0004129140654948429,
          0.00040932007170157785,
          0.00040310542039063795,
          0.0003942895589558905,
          0.00038299981272206594,
          0.00036946494265717905,
          0.0003540037303402624,
          0.0003370095373689796,
          0.0003189319806120038,
          0.000300256940255638,
          0.00028148608126734545,
          0.0002631169408574839,
          0.0002456244440132163,
          0.00022944448918248145,
          0.0002149600279216981,
          0.00020248987060158844,
          0.00019228030042669494,
          0.0001844994748458456,
          0.0001792345320748195,
          0.0001764912890566875,
          0.00017619640048283262,
          0.00017820183167401322,
          0.00018229147014098656,
          0.00018818965643545776,
          0.00019557135604626364,
          0.00020407362800139983,
          0.0002133079836676337,
          0.0002228731831128766,
          0.0002323679964841642,
          0.00024140347001666562,
          0.00024961428073139364,
          0.00025666883508479747,
          0.00026227785475812056,
          0.0002662012850063066,
          0.00026825344538177956,
          0.000268306409855481,
          0.0002662916486758752,
          0.0002621999884826953,
          0.000256079955988494,
          0.00024803457318703105,
          0.00023821667892485923,
          0.00022682287174907647,
          0.00021408620752132502,
          0.00020026784254597026,
          0.00018564788361298136,
          0.0001705157804767616,
          0.00015516066113190145,
          0.0001398620526549804,
          0.0001248814393396839,
          0.00011045507861722011,
          9.678842271346431e-05,
          8.40523850162474e-05,
          7.238155487972283e-05,
          6.18743170275908e-05,
          5.259468751607017e-05,
          4.457555260939684e-05,
          3.78229027170348e-05,
          3.2320599678445175e-05,
          2.8035206419413106e-05,
          2.4920442805331954e-05,
          2.292090550036225e-05,
          2.197479444751991e-05,
          2.201551345747176e-05,
          2.2972145306841832e-05,
          2.4768930453814623e-05,
          2.7323991429771853e-05,
          3.054763208258671e-05,
          3.434059418362607e-05,
          3.85926682197349e-05,
          4.318202840500501e-05,
          4.797559552698207e-05,
          5.283063033590718e-05,
          5.7597633493476376e-05,
          6.2124487368303e-05,
          6.626163408275803e-05,
          6.98679579001443e-05,
          7.281694227173468e-05,
          7.500261420516638e-05,
          7.634477868446482e-05
         ],
         "yaxis": "y"
        },
        {
         "legendgroup": "Silver medallist",
         "marker": {
          "color": "rgb(44, 160, 44)"
         },
         "mode": "lines",
         "name": "Silver medallist",
         "showlegend": true,
         "type": "scatter",
         "x": [
          11,
          11.124,
          11.248,
          11.372,
          11.496,
          11.62,
          11.744,
          11.868,
          11.992,
          12.116,
          12.24,
          12.364,
          12.488,
          12.612,
          12.736,
          12.86,
          12.984,
          13.108,
          13.232,
          13.356,
          13.48,
          13.604,
          13.728,
          13.852,
          13.975999999999999,
          14.1,
          14.224,
          14.347999999999999,
          14.472,
          14.596,
          14.72,
          14.844,
          14.968,
          15.091999999999999,
          15.216000000000001,
          15.34,
          15.464,
          15.588000000000001,
          15.712,
          15.836,
          15.96,
          16.084,
          16.208,
          16.332,
          16.456,
          16.58,
          16.704,
          16.828,
          16.951999999999998,
          17.076,
          17.2,
          17.323999999999998,
          17.448,
          17.572,
          17.695999999999998,
          17.82,
          17.944,
          18.067999999999998,
          18.192,
          18.316,
          18.44,
          18.564,
          18.688,
          18.812,
          18.936,
          19.060000000000002,
          19.183999999999997,
          19.308,
          19.432000000000002,
          19.555999999999997,
          19.68,
          19.804000000000002,
          19.928,
          20.052,
          20.176000000000002,
          20.3,
          20.424,
          20.548000000000002,
          20.672,
          20.796,
          20.92,
          21.044,
          21.168,
          21.292,
          21.416,
          21.54,
          21.664,
          21.788,
          21.912,
          22.036,
          22.16,
          22.284,
          22.408,
          22.532,
          22.656,
          22.78,
          22.904,
          23.028,
          23.152,
          23.276,
          23.4,
          23.524,
          23.648,
          23.772,
          23.896,
          24.02,
          24.144,
          24.268,
          24.392,
          24.516,
          24.64,
          24.764,
          24.887999999999998,
          25.012,
          25.136,
          25.259999999999998,
          25.384,
          25.508,
          25.631999999999998,
          25.756,
          25.880000000000003,
          26.003999999999998,
          26.128,
          26.252000000000002,
          26.375999999999998,
          26.5,
          26.624000000000002,
          26.747999999999998,
          26.872,
          26.996000000000002,
          27.12,
          27.244,
          27.368,
          27.492,
          27.616,
          27.74,
          27.864,
          27.988,
          28.112,
          28.236,
          28.36,
          28.484,
          28.608,
          28.732,
          28.856,
          28.98,
          29.104,
          29.228,
          29.352,
          29.476,
          29.6,
          29.724,
          29.848,
          29.972,
          30.096,
          30.22,
          30.344,
          30.468,
          30.592,
          30.716,
          30.84,
          30.964,
          31.088,
          31.212,
          31.336,
          31.46,
          31.584,
          31.708,
          31.832,
          31.956,
          32.08,
          32.204,
          32.328,
          32.452,
          32.576,
          32.7,
          32.824,
          32.948,
          33.072,
          33.196,
          33.32,
          33.444,
          33.568,
          33.692,
          33.816,
          33.94,
          34.064,
          34.188,
          34.312,
          34.436,
          34.56,
          34.684,
          34.808,
          34.932,
          35.056,
          35.18,
          35.304,
          35.428,
          35.552,
          35.676,
          35.8,
          35.924,
          36.048,
          36.172,
          36.296,
          36.42,
          36.544,
          36.668,
          36.792,
          36.916,
          37.04,
          37.164,
          37.288,
          37.412,
          37.536,
          37.66,
          37.784,
          37.908,
          38.032,
          38.156,
          38.28,
          38.403999999999996,
          38.528,
          38.652,
          38.775999999999996,
          38.9,
          39.024,
          39.147999999999996,
          39.272,
          39.396,
          39.519999999999996,
          39.644,
          39.768,
          39.891999999999996,
          40.016,
          40.14,
          40.263999999999996,
          40.388000000000005,
          40.512,
          40.635999999999996,
          40.760000000000005,
          40.884,
          41.007999999999996,
          41.132000000000005,
          41.256,
          41.379999999999995,
          41.504000000000005,
          41.628,
          41.751999999999995,
          41.876000000000005,
          42,
          42.123999999999995,
          42.248000000000005,
          42.372,
          42.495999999999995,
          42.620000000000005,
          42.744,
          42.867999999999995,
          42.992000000000004,
          43.116,
          43.24,
          43.364,
          43.488,
          43.612,
          43.736,
          43.86,
          43.984,
          44.108,
          44.232,
          44.356,
          44.48,
          44.604,
          44.728,
          44.852,
          44.976,
          45.1,
          45.224,
          45.348,
          45.472,
          45.596,
          45.72,
          45.844,
          45.968,
          46.092,
          46.216,
          46.34,
          46.464,
          46.588,
          46.712,
          46.836,
          46.96,
          47.084,
          47.208,
          47.332,
          47.456,
          47.58,
          47.704,
          47.828,
          47.952,
          48.076,
          48.2,
          48.324,
          48.448,
          48.572,
          48.696,
          48.82,
          48.944,
          49.068,
          49.192,
          49.316,
          49.44,
          49.564,
          49.688,
          49.812,
          49.936,
          50.06,
          50.184,
          50.308,
          50.432,
          50.556,
          50.68,
          50.804,
          50.928,
          51.052,
          51.176,
          51.3,
          51.424,
          51.548,
          51.672,
          51.796,
          51.92,
          52.044,
          52.168,
          52.292,
          52.416,
          52.54,
          52.664,
          52.788,
          52.912,
          53.036,
          53.16,
          53.284,
          53.408,
          53.532,
          53.656,
          53.78,
          53.904,
          54.028,
          54.152,
          54.276,
          54.4,
          54.524,
          54.648,
          54.772,
          54.896,
          55.02,
          55.144,
          55.268,
          55.392,
          55.516,
          55.64,
          55.764,
          55.888,
          56.012,
          56.136,
          56.26,
          56.384,
          56.508,
          56.632,
          56.756,
          56.88,
          57.004,
          57.128,
          57.252,
          57.376,
          57.5,
          57.624,
          57.748,
          57.872,
          57.996,
          58.12,
          58.244,
          58.368,
          58.492,
          58.616,
          58.74,
          58.864,
          58.988,
          59.112,
          59.236,
          59.36,
          59.484,
          59.608,
          59.732,
          59.856,
          59.98,
          60.104,
          60.228,
          60.352,
          60.476,
          60.6,
          60.724,
          60.848,
          60.972,
          61.096,
          61.22,
          61.344,
          61.468,
          61.592,
          61.716,
          61.84,
          61.964,
          62.088,
          62.212,
          62.336,
          62.46,
          62.584,
          62.708,
          62.832,
          62.956,
          63.08,
          63.204,
          63.328,
          63.452,
          63.576,
          63.7,
          63.824,
          63.948,
          64.072,
          64.196,
          64.32,
          64.444,
          64.568,
          64.69200000000001,
          64.816,
          64.94,
          65.064,
          65.188,
          65.312,
          65.436,
          65.56,
          65.684,
          65.80799999999999,
          65.932,
          66.056,
          66.18,
          66.304,
          66.428,
          66.55199999999999,
          66.676,
          66.8,
          66.924,
          67.048,
          67.172,
          67.29599999999999,
          67.42,
          67.544,
          67.668,
          67.792,
          67.916,
          68.03999999999999,
          68.164,
          68.288,
          68.412,
          68.536,
          68.66,
          68.78399999999999,
          68.908,
          69.032,
          69.156,
          69.28,
          69.404,
          69.52799999999999,
          69.652,
          69.77600000000001,
          69.9,
          70.024,
          70.148,
          70.27199999999999,
          70.396,
          70.52000000000001,
          70.644,
          70.768,
          70.892,
          71.01599999999999,
          71.14,
          71.26400000000001,
          71.388,
          71.512,
          71.636,
          71.75999999999999,
          71.884,
          72.00800000000001,
          72.132,
          72.256,
          72.38,
          72.50399999999999,
          72.628,
          72.75200000000001,
          72.876
         ],
         "xaxis": "x",
         "y": [
          0.0002557449790943491,
          0.0002884889838990061,
          0.00032363334533842304,
          0.0003613728971586497,
          0.0004020058643697259,
          0.0004459543251598638,
          0.0004937787309785565,
          0.0005461833970702595,
          0.0006040102710218997,
          0.0006682192250543424,
          0.0007398545873148696,
          0.0008199995114303397,
          0.000909721856628519,
          0.001010017197102117,
          0.0011217560335111737,
          0.0012456428857292496,
          0.0013821944278545736,
          0.001531742055977261,
          0.001694461329081921,
          0.0018704268912165972,
          0.002059687275119336,
          0.002262350061543032,
          0.0024786649388639894,
          0.00270909092725249,
          0.0029543348707052747,
          0.0032153514410234786,
          0.003493300167206373,
          0.0037894618547869947,
          0.004105124309572091,
          0.004441454403407099,
          0.004799378988212865,
          0.00517949982440865,
          0.005582066652554925,
          0.0060070273646929085,
          0.006454165084312091,
          0.006923319676009506,
          0.007414677264720374,
          0.007929097747430247,
          0.00846843927625909,
          0.009035832430913625,
          0.009635856943549318,
          0.010274581208757618,
          0.010959439128396389,
          0.011698938647774899,
          0.012502219116179672,
          0.013378497086915596,
          0.014336458833025114,
          0.015383669476370028,
          0.016526070869121536,
          0.017767632230347805,
          0.019110199640721335,
          0.020553565067936052,
          0.02209574620224829,
          0.02373343938678782,
          0.02546258376765706,
          0.027278959214318242,
          0.029178735977956484,
          0.031158901113750335,
          0.03321750419736141,
          0.03535369002928218,
          0.037567514988361285,
          0.03985957221923349,
          0.042230474957914786,
          0.04468026391319402,
          0.04720781186548588,
          0.049810296065908664,
          0.05248279754770561,
          0.05521806822063145,
          0.058006484580843266,
          0.060836184402636335,
          0.06369336310908638,
          0.06656269217778256,
          0.06942781431557758,
          0.07227186925234463,
          0.07507800859751597,
          0.07782986614286472,
          0.08051195892120569,
          0.0831100023345432,
          0.08561112878998979,
          0.08800400367579829,
          0.09027883618443035,
          0.09242728678527898,
          0.09444227911324424,
          0.09631773194864082,
          0.09804823615554883,
          0.09962871048213326,
          0.10105407719692097,
          0.10231900192030616,
          0.1034177404522249,
          0.1043441282911361,
          0.10509173598163772,
          0.10565419619194326,
          0.1060256879485631,
          0.10620154185697658,
          0.10617891014487689,
          0.10595743010142945,
          0.10553980199063555,
          0.10493220507391268,
          0.1041444888045993,
          0.10319009942688019,
          0.10208573200845668,
          0.100850729765257,
          0.09950628127938091,
          0.09807448736889122,
          0.09657738004631093,
          0.0950359754603696,
          0.0934694323300589,
          0.09189437009834593,
          0.0903243805150345,
          0.08876974609629922,
          0.08723736154674673,
          0.08573084122300512,
          0.08425078732543662,
          0.08279518903856711,
          0.0813599210577622,
          0.07993930946376815,
          0.07852673261628597,
          0.0771152240591845,
          0.0756980434912411,
          0.07426918146305579,
          0.07282376487302646,
          0.0713583348730484,
          0.06987097736382601,
          0.0683612989254363,
          0.06683025679367953,
          0.06527986835432589,
          0.06371284094131419,
          0.06213217375839829,
          0.060540788281664204,
          0.058941240321307216,
          0.057335556047978874,
          0.05572521697075535,
          0.05411129733874275,
          0.052494734620622485,
          0.05087669274153863,
          0.049258961635498776,
          0.047644327914300774,
          0.0460368517239098,
          0.04444199467048455,
          0.04286656220209567,
          0.041318448785098404,
          0.03980620218087016,
          0.038338449955270505,
          0.03692325283910569,
          0.035567462208638406,
          0.03427616063994203,
          0.03305225485472492,
          0.031896270908304776,
          0.030806375225486307,
          0.02977861611945415,
          0.02880735307008876,
          0.027885819189355582,
          0.027006748818608792,
          0.026162998506158965,
          0.025348095554134725,
          0.02455666230937555,
          0.023784683723224596,
          0.023029607165044708,
          0.022290283796281556,
          0.021566777296398932,
          0.020860076628620182,
          0.020171754229591228,
          0.019503609978820027,
          0.018857335859726918,
          0.018234228118463106,
          0.017634964742164933,
          0.017059457677128943,
          0.016506782315009932,
          0.01597518172420717,
          0.015462139718650033,
          0.014964514635749963,
          0.01447872403187913,
          0.014000968890025226,
          0.01352748411244711,
          0.01305480010102933,
          0.01257999846491824,
          0.012100943884155078,
          0.011616474470614483,
          0.01112653501649878,
          0.010632241405281032,
          0.010135869886064039,
          0.009640771217552276,
          0.00915121597522751,
          0.008672182662448022,
          0.008209103952042968,
          0.0077675880668009335,
          0.007353132091527322,
          0.006970842393686248,
          0.006625175032511426,
          0.00631970676788658,
          0.006056945525055042,
          0.005838188051702573,
          0.005663431763896902,
          0.005531346889410293,
          0.005439313379595205,
          0.005383524223536846,
          0.005359152645853445,
          0.005360575512874036,
          0.005381639813866606,
          0.005415954271372782,
          0.005457184934460558,
          0.00549933276827523,
          0.005536973108979794,
          0.005565441236522292,
          0.005580954582550117,
          0.005580669251989805,
          0.005562675480939756,
          0.0055259423664674266,
          0.005470225958185088,
          0.005395956262494662,
          0.005304117946614137,
          0.0051961369394002265,
          0.005073781314881228,
          0.00493908049155325,
          0.004794262529793616,
          0.004641705701127514,
          0.0044838979426427865,
          0.004323396563827949,
          0.004162780767214935,
          0.004004591156112274,
          0.0038512532475749243,
          0.003704985728977745,
          0.003567698272437172,
          0.003440887516317645,
          0.0033255426670901695,
          0.0032220734756407987,
          0.003130272703171606,
          0.0030493225090757513,
          0.0029778497058293597,
          0.0029140291045304913,
          0.0028557280434383077,
          0.002800679596749881,
          0.002746667807020117,
          0.002691706273524299,
          0.002634191927441139,
          0.002573018793365159,
          0.0025076415314394416,
          0.002438084804823516,
          0.002364901064460248,
          0.002289085211330492,
          0.002211958962233364,
          0.002135040071683744,
          0.0020599116725438576,
          0.001988105075793713,
          0.0019210058971516801,
          0.001859789023550862,
          0.0018053834205635686,
          0.0017584637714944005,
          0.0017194629299678444,
          0.001688597450018466,
          0.0016658981008827985,
          0.0016512381533340032,
          0.0016443540688056274,
          0.0016448556695127742,
          0.0016522255200997324,
          0.0016658097250656985,
          0.0016848043093829967,
          0.001708242552120259,
          0.0017349889381061867,
          0.0017637447527506294,
          0.0017930688662702113,
          0.001821415149677826,
          0.0018471855456445381,
          0.0018687954488576994,
          0.0018847461012492645,
          0.0018936974866270427,
          0.001894534909393526,
          0.0018864230998579838,
          0.0018688431750534715,
          0.0018416098289450835,
          0.001804868374339695,
          0.0017590733447728612,
          0.0017049519859889046,
          0.0016434569409267776,
          0.0015757127207112268,
          0.0015029602500340905,
          0.0014265030613761843,
          0.0013476578043627597,
          0.0012677108273379597,
          0.001187881810344836,
          0.0011092948397241388,
          0.0010329569070629794,
          0.000959743542122344,
          0.000890391093590601,
          0.0008254950096983907,
          0.0007655133246516547,
          0.0007107744318133775,
          0.0006614881388963023,
          0.0006177589720296706,
          0.0005796007315675303,
          0.0005469513952874568,
          0.0005196875945017175,
          0.0004976380309925989,
          0.00048059533634417425,
          0.0004683259884477343,
          0.0004605779928951071,
          0.00045708612021334714,
          0.000457574580062091,
          0.0004617571278410006,
          0.0004693347503775689,
          0.00047999126986285405,
          0.0004933874325639534,
          0.0005091542927462883,
          0.0005268869325669033,
          0.0005461397351813371,
          0.0005664245043604744,
          0.0005872126533553522,
          0.000607942432434681,
          0.0006280317138682138,
          0.0006468962230592011,
          0.0006639723523832144,
          0.0006787429162048531,
          0.0006907635259912342,
          0.0006996868160898511,
          0.0007052816477830338,
          0.0007074447299634867,
          0.0007062028203913937,
          0.0007017047373590638,
          0.0006942036744359661,
          0.0006840315815135096,
          0.0006715684518389354,
          0.0006572100599331104,
          0.0006413379091701578,
          0.0006242948287294248,
          0.000606368850767147,
          0.0005877868191999525,
          0.0005687178057988721,
          0.0005492850385586779,
          0.0005295838790594292,
          0.0005097025854495037,
          0.0004897422771038394,
          0.0004698327184159225,
          0.0004501412307706858,
          0.00043087312178505244,
          0.00041226333151768397,
          0.0003945603445170962,
          0.0003780046058131219,
          0.0003628045329405977,
          0.00034911360965887706,
          0.00033701192497989863,
          0.00032649490707207504,
          0.0003174709942258213,
          0.0003097687419171592,
          0.0003031525768358011,
          0.0002973452685746268,
          0.00029205436205241857,
          0.0002869994093592798,
          0.00028193689962308506,
          0.00027668027727464683,
          0.0002711132652684562,
          0.0002651957266220426,
          0.00025896234038082585,
          0.0002525152784777854,
          0.000246012720348926,
          0.00023965535320152667,
          0.0002336729545995745,
          0.00022831277280981456,
          0.00022383078729301548,
          0.00022048615622973186,
          0.00021853836392476074,
          0.00021824589051618913,
          0.00021986474619314214,
          0.00022364502207722093,
          0.00022982375515119677,
          0.00023861288936534003,
          0.0002501818989525078,
          0.0002646356373332866,
          0.0002819890585215585,
          0.00030214146885727865,
          0.00032485373237152275,
          0.00034973221084777875,
          0.00037622304706113826,
          0.0004036196425858187,
          0.0004310848762431467,
          0.00045768789096975877,
          0.00048245336993096784,
          0.000504419410706128,
          0.0005226986860015774,
          0.000536536805622747,
          0.0005453618289447176,
          0.0005488197511726854,
          0.0005467923889804412,
          0.0005393961841599493,
          0.0005269627066581093,
          0.0005100037260962032,
          0.000489165329033095,
          0.0004651764772498364,
          0.00043879754588845097,
          0.00041077379662934254,
          0.00038179758836246776,
          0.00035248163526922983,
          0.0003233440421318457,
          0.00029480440866358704,
          0.0002671891715060588,
          0.00024074364207085676,
          0.00021564792167646263,
          0.00019203398827644262,
          0.00017000166176336202,
          0.00014963175461574067,
          0.00013099538684003696,
          0.00011415908893386917,
          9.91858602839288e-05,
          8.613275089055477e-05,
          7.504578095421828e-05,
          6.595312171303417e-05,
          5.885746616605599e-05,
          5.3728461488690494e-05,
          5.049599381902229e-05,
          4.904503543139453e-05,
          4.921269053365639e-05,
          5.0787997058355285e-05,
          5.3514932979870494e-05,
          5.70989088577291e-05,
          6.121678396279475e-05,
          6.553012079026476e-05,
          6.970101604290338e-05,
          7.340946346344379e-05,
          7.637087993641794e-05,
          7.835222913989419e-05,
          7.918516232327516e-05,
          7.877479217611925e-05,
          7.710311550261363e-05,
          7.422665768409682e-05,
          7.026854950926631e-05,
          6.540587026435234e-05,
          5.985360593125173e-05,
          5.384690233563597e-05,
          4.762339684649995e-05,
          4.140728466864994e-05,
          3.5396450652898724e-05,
          2.9753537718180632e-05,
          2.460130657412532e-05,
          2.0022146429101408e-05,
          1.6061186852846903e-05,
          1.2732177778827928e-05,
          1.0025161797424904e-05,
          7.914949741433856e-06,
          6.369498368559681e-06,
          5.357439988293496e-06,
          4.854190797996588e-06,
          4.846238108640236e-06,
          5.333359795983291e-06,
          6.3286591313152624e-06,
          7.856412910824746e-06,
          9.947845232134119e-06,
          1.2635068170965877e-05,
          1.5943582528167382e-05,
          1.988390402161516e-05,
          2.4443056381738206e-05,
          2.957682364103099e-05,
          3.5203742164908266e-05,
          4.1201800730602484e-05,
          4.7408675047553647e-05,
          5.362604028912099e-05,
          5.962809497805544e-05,
          6.517393257841957e-05,
          7.00228778382546e-05,
          7.395144238087569e-05,
          7.6770228276656e-05,
          7.833898464978562e-05,
          7.857813714919869e-05,
          7.747546130413153e-05,
          7.508711578703089e-05,
          7.1532913294088e-05,
          6.698638678598938e-05,
          6.166080550651224e-05,
          5.57927220303912e-05,
          4.9624832622484805e-05,
          4.338989181122509e-05,
          3.729716177435782e-05,
          3.15224543905034e-05,
          2.6202315218125013e-05,
          2.1432385372029163e-05,
          1.7269530239235654e-05,
          1.3736992992746928e-05,
          1.0831639063053864e-05,
          8.532302066115031e-06,
          6.808298375758982e-06,
          5.627310640406751e-06,
          4.962011546933914e-06,
          4.794975290075931e-06,
          5.121584288164147e-06,
          5.950775218375344e-06,
          7.3035864120400885e-06,
          9.209581297744575e-06,
          1.1701345376750593e-05,
          1.4807398338711788e-05,
          1.8544029677791312e-05,
          2.2906743615853556e-05,
          2.7862161920958e-05,
          3.334134594126204e-05,
          3.92355231549603e-05,
          4.5395105712421965e-05,
          5.16326508884066e-05,
          5.77300410840491e-05,
          6.344968597975078e-05,
          6.854902913657356e-05,
          7.279715144822485e-05,
          7.59918857437911e-05,
          7.797566226587189e-05
         ],
         "yaxis": "y"
        },
        {
         "legendgroup": "bronze medallist",
         "marker": {
          "color": "rgb(214, 39, 40)"
         },
         "mode": "lines",
         "name": "bronze medallist",
         "showlegend": true,
         "type": "scatter",
         "x": [
          10,
          10.124,
          10.248,
          10.372,
          10.496,
          10.62,
          10.744,
          10.868,
          10.992,
          11.116,
          11.24,
          11.364,
          11.488,
          11.612,
          11.736,
          11.86,
          11.984,
          12.108,
          12.232,
          12.356,
          12.48,
          12.604,
          12.728,
          12.852,
          12.975999999999999,
          13.1,
          13.224,
          13.347999999999999,
          13.472,
          13.596,
          13.72,
          13.844,
          13.968,
          14.091999999999999,
          14.216000000000001,
          14.34,
          14.464,
          14.588000000000001,
          14.712,
          14.836,
          14.96,
          15.084,
          15.208,
          15.332,
          15.456,
          15.58,
          15.704,
          15.828,
          15.952,
          16.076,
          16.2,
          16.323999999999998,
          16.448,
          16.572,
          16.695999999999998,
          16.82,
          16.944,
          17.067999999999998,
          17.192,
          17.316,
          17.44,
          17.564,
          17.688,
          17.812,
          17.936,
          18.060000000000002,
          18.183999999999997,
          18.308,
          18.432000000000002,
          18.555999999999997,
          18.68,
          18.804000000000002,
          18.928,
          19.052,
          19.176000000000002,
          19.3,
          19.424,
          19.548000000000002,
          19.672,
          19.796,
          19.92,
          20.044,
          20.168,
          20.292,
          20.416,
          20.54,
          20.664,
          20.788,
          20.912,
          21.036,
          21.16,
          21.284,
          21.408,
          21.532,
          21.656,
          21.78,
          21.904,
          22.028,
          22.152,
          22.276,
          22.4,
          22.524,
          22.648,
          22.772,
          22.896,
          23.02,
          23.144,
          23.268,
          23.392,
          23.516,
          23.64,
          23.764,
          23.887999999999998,
          24.012,
          24.136,
          24.259999999999998,
          24.384,
          24.508,
          24.631999999999998,
          24.756,
          24.880000000000003,
          25.003999999999998,
          25.128,
          25.252000000000002,
          25.375999999999998,
          25.5,
          25.624000000000002,
          25.747999999999998,
          25.872,
          25.996000000000002,
          26.12,
          26.244,
          26.368,
          26.492,
          26.616,
          26.74,
          26.864,
          26.988,
          27.112,
          27.236,
          27.36,
          27.484,
          27.608,
          27.732,
          27.856,
          27.98,
          28.104,
          28.228,
          28.352,
          28.476,
          28.6,
          28.724,
          28.848,
          28.972,
          29.096,
          29.22,
          29.344,
          29.468,
          29.592,
          29.716,
          29.84,
          29.964,
          30.088,
          30.212,
          30.336,
          30.46,
          30.584,
          30.708,
          30.832,
          30.956,
          31.08,
          31.204,
          31.328,
          31.452,
          31.576,
          31.7,
          31.824,
          31.948,
          32.072,
          32.196,
          32.32,
          32.444,
          32.568,
          32.692,
          32.816,
          32.94,
          33.064,
          33.188,
          33.312,
          33.436,
          33.56,
          33.684,
          33.808,
          33.932,
          34.056,
          34.18,
          34.304,
          34.428,
          34.552,
          34.676,
          34.8,
          34.924,
          35.048,
          35.172,
          35.296,
          35.42,
          35.544,
          35.668,
          35.792,
          35.916,
          36.04,
          36.164,
          36.288,
          36.412,
          36.536,
          36.66,
          36.784,
          36.908,
          37.032,
          37.156,
          37.28,
          37.403999999999996,
          37.528,
          37.652,
          37.775999999999996,
          37.9,
          38.024,
          38.147999999999996,
          38.272,
          38.396,
          38.519999999999996,
          38.644,
          38.768,
          38.891999999999996,
          39.016,
          39.14,
          39.263999999999996,
          39.388000000000005,
          39.512,
          39.635999999999996,
          39.760000000000005,
          39.884,
          40.007999999999996,
          40.132000000000005,
          40.256,
          40.379999999999995,
          40.504000000000005,
          40.628,
          40.751999999999995,
          40.876000000000005,
          41,
          41.123999999999995,
          41.248000000000005,
          41.372,
          41.495999999999995,
          41.620000000000005,
          41.744,
          41.867999999999995,
          41.992000000000004,
          42.116,
          42.24,
          42.364,
          42.488,
          42.612,
          42.736,
          42.86,
          42.984,
          43.108,
          43.232,
          43.356,
          43.48,
          43.604,
          43.728,
          43.852,
          43.976,
          44.1,
          44.224,
          44.348,
          44.472,
          44.596,
          44.72,
          44.844,
          44.968,
          45.092,
          45.216,
          45.34,
          45.464,
          45.588,
          45.712,
          45.836,
          45.96,
          46.084,
          46.208,
          46.332,
          46.456,
          46.58,
          46.704,
          46.828,
          46.952,
          47.076,
          47.2,
          47.324,
          47.448,
          47.572,
          47.696,
          47.82,
          47.944,
          48.068,
          48.192,
          48.316,
          48.44,
          48.564,
          48.688,
          48.812,
          48.936,
          49.06,
          49.184,
          49.308,
          49.432,
          49.556,
          49.68,
          49.804,
          49.928,
          50.052,
          50.176,
          50.3,
          50.424,
          50.548,
          50.672,
          50.796,
          50.92,
          51.044,
          51.168,
          51.292,
          51.416,
          51.54,
          51.664,
          51.788,
          51.912,
          52.036,
          52.16,
          52.284,
          52.408,
          52.532,
          52.656,
          52.78,
          52.904,
          53.028,
          53.152,
          53.276,
          53.4,
          53.524,
          53.648,
          53.772,
          53.896,
          54.02,
          54.144,
          54.268,
          54.392,
          54.516,
          54.64,
          54.764,
          54.888,
          55.012,
          55.136,
          55.26,
          55.384,
          55.508,
          55.632,
          55.756,
          55.88,
          56.004,
          56.128,
          56.252,
          56.376,
          56.5,
          56.624,
          56.748,
          56.872,
          56.996,
          57.12,
          57.244,
          57.368,
          57.492,
          57.616,
          57.74,
          57.864,
          57.988,
          58.112,
          58.236,
          58.36,
          58.484,
          58.608,
          58.732,
          58.856,
          58.98,
          59.104,
          59.228,
          59.352,
          59.476,
          59.6,
          59.724,
          59.848,
          59.972,
          60.096,
          60.22,
          60.344,
          60.468,
          60.592,
          60.716,
          60.84,
          60.964,
          61.088,
          61.212,
          61.336,
          61.46,
          61.584,
          61.708,
          61.832,
          61.956,
          62.08,
          62.204,
          62.328,
          62.452,
          62.576,
          62.7,
          62.824,
          62.948,
          63.072,
          63.196,
          63.32,
          63.444,
          63.568,
          63.692,
          63.816,
          63.94,
          64.064,
          64.188,
          64.312,
          64.436,
          64.56,
          64.684,
          64.80799999999999,
          64.932,
          65.056,
          65.18,
          65.304,
          65.428,
          65.55199999999999,
          65.676,
          65.8,
          65.924,
          66.048,
          66.172,
          66.29599999999999,
          66.42,
          66.544,
          66.668,
          66.792,
          66.916,
          67.03999999999999,
          67.164,
          67.288,
          67.412,
          67.536,
          67.66,
          67.78399999999999,
          67.908,
          68.032,
          68.156,
          68.28,
          68.404,
          68.52799999999999,
          68.652,
          68.77600000000001,
          68.9,
          69.024,
          69.148,
          69.27199999999999,
          69.396,
          69.52000000000001,
          69.644,
          69.768,
          69.892,
          70.01599999999999,
          70.14,
          70.26400000000001,
          70.388,
          70.512,
          70.636,
          70.75999999999999,
          70.884,
          71.00800000000001,
          71.132,
          71.256,
          71.38,
          71.50399999999999,
          71.628,
          71.75200000000001,
          71.876
         ],
         "xaxis": "x",
         "y": [
          9.19402068397645e-05,
          9.615433823926148e-05,
          0.00010021010042990187,
          0.00010436763291273971,
          0.00010892138271629966,
          0.0001141712263656165,
          0.0001203924010600331,
          0.00012780873450074658,
          0.00013657361444520822,
          0.000146762401375755,
          0.00015837861523551185,
          0.00017137438129875268,
          0.00018568355086843837,
          0.00020126392436928403,
          0.00021814341173601785,
          0.00023646404135369014,
          0.00025651766015922654,
          0.00027876801642947777,
          0.0003038556045751803,
          0.00033258396235817786,
          0.0003658887203094297,
          0.0004047932237060399,
          0.00045035659106134777,
          0.0005036213149513098,
          0.0005655677471091573,
          0.000637081995603868,
          0.0007189420244133449,
          0.0008118243632073965,
          0.0009163311881546423,
          0.0010330350349185852,
          0.0011625364181606119,
          0.0013055284091081244,
          0.0014628618591216954,
          0.001635605385019896,
          0.001825095250644431,
          0.0020329716130599133,
          0.0022611989699273354,
          0.0025120698253058194,
          0.0027881914667207968,
          0.0030924563199015275,
          0.0034279967315462194,
          0.00379812541118649,
          0.0042062633485204295,
          0.0046558579793814295,
          0.005150295763476941,
          0.00569281506206794,
          0.006286426977317364,
          0.0069338531783370095,
          0.00763749013610467,
          0.008399408100261177,
          0.009221390258226709,
          0.010105012861837683,
          0.011051761173514914,
          0.012063169772507447,
          0.01314097022913127,
          0.01428722556212769,
          0.015504430126504555,
          0.016795556026882135,
          0.01816403261751118,
          0.019613653404872134,
          0.021148413616978244,
          0.02277229059692277,
          0.024488986802229357,
          0.02630166049213928,
          0.028212671346660768,
          0.030223366779987496,
          0.03233392949856878,
          0.03454329836633244,
          0.03684916396448084,
          0.03924802904579562,
          0.04173531439831552,
          0.04430548436660374,
          0.046952164739038606,
          0.04966822919781001,
          0.05244583823043024,
          0.05527642463649164,
          0.058150630511650474,
          0.06105821008466991,
          0.06398791990839059,
          0.0669274222517712,
          0.06986322911608177,
          0.07278071311409647,
          0.07566420724244587,
          0.07849720789458611,
          0.081262684122886,
          0.08394348184894472,
          0.08652279637572065,
          0.08898467320799686,
          0.09131448921124981,
          0.09349936609932882,
          0.09552847684280419,
          0.0973932211929347,
          0.09908726552085184,
          0.10060646015215464,
          0.10194866054592278,
          0.1031134850451525,
          0.10410204176000332,
          0.10491665243127798,
          0.10556059451252796,
          0.10603787634950161,
          0.10635305515263407,
          0.10651110318415692,
          0.10651732338547056,
          0.10637731099106273,
          0.106096952764946,
          0.10568245137653412,
          0.10514036032864792,
          0.10447761542425957,
          0.10370155162916317,
          0.10281989800758941,
          0.1018407465054305,
          0.10077249159626352,
          0.09962373722993768,
          0.09840316640168228,
          0.09711936891836993,
          0.09578062622806485,
          0.09439465902824332,
          0.09296835282642786,
          0.0915074865317221,
          0.09001649688343771,
          0.0884983148461973,
          0.08695430780360272,
          0.08538435342379222,
          0.08378705836876935,
          0.08216011907071398,
          0.0805008043821159,
          0.07880652298915171,
          0.07707542422924236,
          0.07530697168195273,
          0.07350242673366385,
          0.07166518560993757,
          0.06980092807771027,
          0.06791755729933485,
          0.06602493468505899,
          0.06413443665820474,
          0.062258377896359476,
          0.060409355135579205,
          0.058599566460387546,
          0.05684015476103847,
          0.055140613839108815,
          0.05350828501106674,
          0.051947963807593714,
          0.05046163181124667,
          0.049048327411555785,
          0.04770416947637094,
          0.04642254711193363,
          0.04519448436986092,
          0.04400917932127983,
          0.0428547020309572,
          0.041718816839130285,
          0.04058987368098744,
          0.03945769473698579,
          0.03831437075740779,
          0.03715487975654876,
          0.035977451846939124,
          0.0347836279997939,
          0.03357799508585561,
          0.03236761986922953,
          0.03116124429516537,
          0.029968336708260004,
          0.028798112928772795,
          0.027658644044670496,
          0.02655615391219577,
          0.025494581173933398,
          0.024475442868268325,
          0.023497995470209053,
          0.022559650685029634,
          0.021656572887108493,
          0.02078436656273033,
          0.019938757311296965,
          0.01911617865062638,
          0.018314196930545673,
          0.017531734460864094,
          0.01676908197045325,
          0.016027720999076404,
          0.015310000591807007,
          0.014618727719204026,
          0.013956735806077081,
          0.013326490970092787,
          0.012729782912069075,
          0.01216752975025645,
          0.011639706740262101,
          0.011145390851289745,
          0.01068289897861192,
          0.010249988615764826,
          0.00984408653819224,
          0.009462513021286494,
          0.009102675214230683,
          0.008762211995396311,
          0.008439082293078584,
          0.008131597935637187,
          0.007838409391193084,
          0.007558457522060312,
          0.007290906473702827,
          0.007035072266936258,
          0.006790359134501989,
          0.006556211890137588,
          0.006332088410561187,
          0.00611745231382095,
          0.005911782622960955,
          0.005714594914996419,
          0.005525467304657778,
          0.005344064591300097,
          0.005170154877788494,
          0.005003614720914417,
          0.004844421078716369,
          0.004692630615236538,
          0.004548348943881922,
          0.004411693837234674,
          0.0042827571241173465,
          0.0041615699034640895,
          0.004048074941547548,
          0.003942108900523233,
          0.003843395633625784,
          0.003751550423744317,
          0.0036660939277914388,
          0.003586473828772559,
          0.0035120918166124566,
          0.0034423334710733822,
          0.0033765988064875683,
          0.003314331532476271,
          0.0032550453640130925,
          0.0031983458891858296,
          0.0031439465469074944,
          0.0030916772293831094,
          0.003041484024917441,
          0.0029934188136231388,
          0.002947617967843017,
          0.0029042703695256774,
          0.0028635763074259645,
          0.002825700401645778,
          0.0027907232585336057,
          0.0027585977629673653,
          0.0027291164511561413,
          0.0027018960321170435,
          0.002676383725917621,
          0.002651887712763991,
          0.0026276308668301924,
          0.0026028234719148277,
          0.002576747291919885,
          0.0025488407585333795,
          0.002518773663587523,
          0.0024864999879949962,
          0.0024522795164034377,
          0.0024166625394552903,
          0.0023804367960552617,
          0.0023445411694300203,
          0.002309955694395615,
          0.002277581332527744,
          0.0022481250524224953,
          0.0022220056165569812,
          0.002199293078712005,
          0.002179690653999984,
          0.002162561966910488,
          0.002147000551253854,
          0.0021319327848525207,
          0.0021162410366160522,
          0.0020988913245698028,
          0.0020790495624499806,
          0.0020561724791522368,
          0.0020300631438837625,
          0.002000886050096637,
          0.0019691420726982126,
          0.0019356084796482433,
          0.0019012528627198658,
          0.0018671319313208993,
          0.0018342864909947484,
          0.0018036428191864086,
          0.0017759285032085995,
          0.0017516081800564077,
          0.001730842055903607,
          0.0017134679919276678,
          0.0016990065237572109,
          0.001686687411533137,
          0.001675495985103713,
          0.001664237332763549,
          0.0016516159529012522,
          0.0016363276128205729,
          0.0016171587829952232,
          0.0015930873011629884,
          0.0015633762338507229,
          0.001527651736423409,
          0.0014859555698793399,
          0.0014387641893961354,
          0.0013869691027959426,
          0.0013318173113539224,
          0.0012748155737568735,
          0.001217607217028356,
          0.0011618343967130494,
          0.0011090012980127786,
          0.0010603542248291298,
          0.0010167926565817346,
          0.000978821376250531,
          0.0009465482657108307,
          0.0009197261648523791,
          0.000897831249096096,
          0.0008801655944952935,
          0.0008659686730611177,
          0.0008545218547001409,
          0.0008452316359346553,
          0.0008376809740333455,
          0.0008316431958093882,
          0.0008270587001629414,
          0.0008239802375810826,
          0.0008224971338767882,
          0.000822651794863879,
          0.0008243627913648217,
          0.0008273676776891538,
          0.0008311956370778744,
          0.0008351755373009668,
          0.0008384796833653962,
          0.0008401982465740749,
          0.0008394348045794195,
          0.0008354103066798348,
          0.000827561527820146,
          0.0008156208497573198,
          0.0007996668460762541,
          0.0007801391921665583,
          0.0007578161986967354,
          0.0007337580088453392,
          0.0007092224820481772,
          0.0006855634636996054,
          0.0006641222356342317,
          0.0006461224877392574,
          0.0006325774548737261,
          0.0006242154223303829,
          0.0006214271790159414,
          0.0006242366864828271,
          0.0006322945587779144,
          0.0006448930090591212,
          0.0006610005848090156,
          0.0006793149900361196,
          0.0006983322224407582,
          0.0007164298308945101,
          0.0007319611708901573,
          0.0007433561597128208,
          0.0007492224737172909,
          0.000748439797552613,
          0.0007402390770378448,
          0.000724259102372691,
          0.0007005743163053615,
          0.0006696904010833247,
          0.0006325075890589164,
          0.0005902552190122756,
          0.000544404212996752,
          0.0004965663407912794,
          0.0004483900300929961,
          0.00040146199548678717,
          0.0003572222926948062,
          0.000316897959982854,
          0.0002814576916201162,
          0.0002515874860257871,
          0.00022768528829122988,
          0.00020987148336146526,
          0.0001980116791514292,
          0.0001917483814084726,
          0.0001905386551817436,
          0.0001936954402629198,
          0.00020043065302448567,
          0.00020989847839237612,
          0.0002212373486955943,
          0.00023360910903610647,
          0.0002462338963801879,
          0.00025841940602950865,
          0.00026958352481234435,
          0.0002792697507460854,
          0.00028715531732497395,
          0.00029305239768270754,
          0.00029690309337480946,
          0.000298769070409673,
          0.0002988167033948242,
          0.00029729848960745856,
          0.0002945313889819617,
          0.00029087272110197014,
          0.0002866943612749112,
          0.00028235622750005774,
          0.00027818038575082337,
          0.00027442742676604703,
          0.00027127697015437923,
          0.00026881413056339417,
          0.0002670234759522164,
          0.0002657914182495956,
          0.0002649171635834083,
          0.0002641314276481151,
          0.00026312123745367294,
          0.00026155844104900337,
          0.0002591291502470458,
          0.0002555613123425938,
          0.00025064794195875557,
          0.00024426417314968557,
          0.00023637709316840416,
          0.0002270481475414604,
          0.00021642862492751708,
          0.00020474924234035547,
          0.00019230511796300816,
          0.00017943746387553646,
          0.00016651322856459663,
          0.00015390376765139972,
          0.0001419635127249211,
          0.00013100959937880136,
          0.00012130351102579163,
          0.00011303594509165449,
          0.00010631622290723858,
          0.00010116754001605633,
          9.752910253540395e-05,
          9.52656752905488e-05,
          9.418429902920535e-05,
          9.405700367157605e-05,
          9.464739319535615e-05,
          9.573817603296433e-05,
          9.715623066271253e-05,
          9.879176082414768e-05,
          0.00010060857494527693,
          0.00010264350361791395,
          0.00010499434439893632,
          0.00010779731654190727,
          0.00011119659036402261,
          0.0001153097813030825,
          0.00012019414437535776,
          0.00012581840797189458,
          0.00013204467445298302,
          0.0001386236246290274,
          0.0001452045390726736,
          0.00015135962897285237,
          0.0001566201496167342,
          0.00016052006020635012,
          0.00016264186560971378,
          0.00016265891326308445,
          0.00016036888469202237,
          0.00015571444318626673,
          0.00014878877920666974,
          0.00013982584489992395,
          0.00012917706232987305,
          0.00011727792170379279,
          0.0001046089264674152,
          9.165567528664879e-05,
          7.887250711658997e-05,
          6.665320023091937e-05,
          5.531091629932839e-05,
          4.506815896905542e-05,
          3.605620328321856e-05,
          2.8322426361365522e-05,
          2.1843334283929064e-05,
          1.6540857123378567e-05,
          1.2299625252670294e-05,
          8.983348868586707e-06,
          6.44898096828451e-06,
          4.55793707227719e-06,
          3.1841799718308265e-06,
          2.2193936958425877e-06,
          1.5757400700039238e-06,
          1.1868144058515668e-06,
          1.0074146479774368e-06,
          1.0126420876147873e-06,
          1.196695901704719e-06,
          1.571540645423271e-06,
          2.1654434682210627e-06,
          3.0212198689541306e-06,
          4.193913316469787e-06,
          5.747582165767592e-06,
          7.75089066391095e-06,
          1.027130758327158e-05,
          1.336790534061443e-05,
          1.708301092177613e-05,
          2.1433258826990564e-05,
          2.6400891605062396e-05,
          3.1926389952680395e-05,
          3.7903633063884375e-05,
          4.417874032827002e-05,
          5.055349803912428e-05,
          5.6793832181404275e-05,
          6.264319177969792e-05,
          6.78400347954786e-05,
          7.213796482583993e-05,
          7.532656488741965e-05,
          7.725071308666325e-05,
          7.782620631760957e-05,
          7.704987227050236e-05,
          7.500296924804121e-05,
          7.18474595422488e-05,
          6.781556623746254e-05,
          6.319375164903096e-05,
          5.830277811788265e-05,
          5.347576450470118e-05,
          4.903612780132714e-05,
          4.5277047113735514e-05,
          4.24436947723456e-05,
          4.0719049778317015e-05,
          4.0213734209222265e-05,
          4.096005208146447e-05,
          4.291027528170445e-05,
          4.5939180335230495e-05,
          4.985082895958444e-05,
          5.4389530582314904e-05,
          5.9254766914303234e-05,
          6.411957309477152e-05,
          6.86514788496528e-05,
          7.253468283966697e-05,
          7.549176007514991e-05,
          7.730298835354274e-05
         ],
         "yaxis": "y"
        }
       ],
       "layout": {
        "barmode": "overlay",
        "hovermode": "closest",
        "legend": {
         "traceorder": "reversed"
        },
        "template": {
         "data": {
          "bar": [
           {
            "error_x": {
             "color": "#2a3f5f"
            },
            "error_y": {
             "color": "#2a3f5f"
            },
            "marker": {
             "line": {
              "color": "#E5ECF6",
              "width": 0.5
             },
             "pattern": {
              "fillmode": "overlay",
              "size": 10,
              "solidity": 0.2
             }
            },
            "type": "bar"
           }
          ],
          "barpolar": [
           {
            "marker": {
             "line": {
              "color": "#E5ECF6",
              "width": 0.5
             },
             "pattern": {
              "fillmode": "overlay",
              "size": 10,
              "solidity": 0.2
             }
            },
            "type": "barpolar"
           }
          ],
          "carpet": [
           {
            "aaxis": {
             "endlinecolor": "#2a3f5f",
             "gridcolor": "white",
             "linecolor": "white",
             "minorgridcolor": "white",
             "startlinecolor": "#2a3f5f"
            },
            "baxis": {
             "endlinecolor": "#2a3f5f",
             "gridcolor": "white",
             "linecolor": "white",
             "minorgridcolor": "white",
             "startlinecolor": "#2a3f5f"
            },
            "type": "carpet"
           }
          ],
          "choropleth": [
           {
            "colorbar": {
             "outlinewidth": 0,
             "ticks": ""
            },
            "type": "choropleth"
           }
          ],
          "contour": [
           {
            "colorbar": {
             "outlinewidth": 0,
             "ticks": ""
            },
            "colorscale": [
             [
              0,
              "#0d0887"
             ],
             [
              0.1111111111111111,
              "#46039f"
             ],
             [
              0.2222222222222222,
              "#7201a8"
             ],
             [
              0.3333333333333333,
              "#9c179e"
             ],
             [
              0.4444444444444444,
              "#bd3786"
             ],
             [
              0.5555555555555556,
              "#d8576b"
             ],
             [
              0.6666666666666666,
              "#ed7953"
             ],
             [
              0.7777777777777778,
              "#fb9f3a"
             ],
             [
              0.8888888888888888,
              "#fdca26"
             ],
             [
              1,
              "#f0f921"
             ]
            ],
            "type": "contour"
           }
          ],
          "contourcarpet": [
           {
            "colorbar": {
             "outlinewidth": 0,
             "ticks": ""
            },
            "type": "contourcarpet"
           }
          ],
          "heatmap": [
           {
            "colorbar": {
             "outlinewidth": 0,
             "ticks": ""
            },
            "colorscale": [
             [
              0,
              "#0d0887"
             ],
             [
              0.1111111111111111,
              "#46039f"
             ],
             [
              0.2222222222222222,
              "#7201a8"
             ],
             [
              0.3333333333333333,
              "#9c179e"
             ],
             [
              0.4444444444444444,
              "#bd3786"
             ],
             [
              0.5555555555555556,
              "#d8576b"
             ],
             [
              0.6666666666666666,
              "#ed7953"
             ],
             [
              0.7777777777777778,
              "#fb9f3a"
             ],
             [
              0.8888888888888888,
              "#fdca26"
             ],
             [
              1,
              "#f0f921"
             ]
            ],
            "type": "heatmap"
           }
          ],
          "heatmapgl": [
           {
            "colorbar": {
             "outlinewidth": 0,
             "ticks": ""
            },
            "colorscale": [
             [
              0,
              "#0d0887"
             ],
             [
              0.1111111111111111,
              "#46039f"
             ],
             [
              0.2222222222222222,
              "#7201a8"
             ],
             [
              0.3333333333333333,
              "#9c179e"
             ],
             [
              0.4444444444444444,
              "#bd3786"
             ],
             [
              0.5555555555555556,
              "#d8576b"
             ],
             [
              0.6666666666666666,
              "#ed7953"
             ],
             [
              0.7777777777777778,
              "#fb9f3a"
             ],
             [
              0.8888888888888888,
              "#fdca26"
             ],
             [
              1,
              "#f0f921"
             ]
            ],
            "type": "heatmapgl"
           }
          ],
          "histogram": [
           {
            "marker": {
             "pattern": {
              "fillmode": "overlay",
              "size": 10,
              "solidity": 0.2
             }
            },
            "type": "histogram"
           }
          ],
          "histogram2d": [
           {
            "colorbar": {
             "outlinewidth": 0,
             "ticks": ""
            },
            "colorscale": [
             [
              0,
              "#0d0887"
             ],
             [
              0.1111111111111111,
              "#46039f"
             ],
             [
              0.2222222222222222,
              "#7201a8"
             ],
             [
              0.3333333333333333,
              "#9c179e"
             ],
             [
              0.4444444444444444,
              "#bd3786"
             ],
             [
              0.5555555555555556,
              "#d8576b"
             ],
             [
              0.6666666666666666,
              "#ed7953"
             ],
             [
              0.7777777777777778,
              "#fb9f3a"
             ],
             [
              0.8888888888888888,
              "#fdca26"
             ],
             [
              1,
              "#f0f921"
             ]
            ],
            "type": "histogram2d"
           }
          ],
          "histogram2dcontour": [
           {
            "colorbar": {
             "outlinewidth": 0,
             "ticks": ""
            },
            "colorscale": [
             [
              0,
              "#0d0887"
             ],
             [
              0.1111111111111111,
              "#46039f"
             ],
             [
              0.2222222222222222,
              "#7201a8"
             ],
             [
              0.3333333333333333,
              "#9c179e"
             ],
             [
              0.4444444444444444,
              "#bd3786"
             ],
             [
              0.5555555555555556,
              "#d8576b"
             ],
             [
              0.6666666666666666,
              "#ed7953"
             ],
             [
              0.7777777777777778,
              "#fb9f3a"
             ],
             [
              0.8888888888888888,
              "#fdca26"
             ],
             [
              1,
              "#f0f921"
             ]
            ],
            "type": "histogram2dcontour"
           }
          ],
          "mesh3d": [
           {
            "colorbar": {
             "outlinewidth": 0,
             "ticks": ""
            },
            "type": "mesh3d"
           }
          ],
          "parcoords": [
           {
            "line": {
             "colorbar": {
              "outlinewidth": 0,
              "ticks": ""
             }
            },
            "type": "parcoords"
           }
          ],
          "pie": [
           {
            "automargin": true,
            "type": "pie"
           }
          ],
          "scatter": [
           {
            "fillpattern": {
             "fillmode": "overlay",
             "size": 10,
             "solidity": 0.2
            },
            "type": "scatter"
           }
          ],
          "scatter3d": [
           {
            "line": {
             "colorbar": {
              "outlinewidth": 0,
              "ticks": ""
             }
            },
            "marker": {
             "colorbar": {
              "outlinewidth": 0,
              "ticks": ""
             }
            },
            "type": "scatter3d"
           }
          ],
          "scattercarpet": [
           {
            "marker": {
             "colorbar": {
              "outlinewidth": 0,
              "ticks": ""
             }
            },
            "type": "scattercarpet"
           }
          ],
          "scattergeo": [
           {
            "marker": {
             "colorbar": {
              "outlinewidth": 0,
              "ticks": ""
             }
            },
            "type": "scattergeo"
           }
          ],
          "scattergl": [
           {
            "marker": {
             "colorbar": {
              "outlinewidth": 0,
              "ticks": ""
             }
            },
            "type": "scattergl"
           }
          ],
          "scattermapbox": [
           {
            "marker": {
             "colorbar": {
              "outlinewidth": 0,
              "ticks": ""
             }
            },
            "type": "scattermapbox"
           }
          ],
          "scatterpolar": [
           {
            "marker": {
             "colorbar": {
              "outlinewidth": 0,
              "ticks": ""
             }
            },
            "type": "scatterpolar"
           }
          ],
          "scatterpolargl": [
           {
            "marker": {
             "colorbar": {
              "outlinewidth": 0,
              "ticks": ""
             }
            },
            "type": "scatterpolargl"
           }
          ],
          "scatterternary": [
           {
            "marker": {
             "colorbar": {
              "outlinewidth": 0,
              "ticks": ""
             }
            },
            "type": "scatterternary"
           }
          ],
          "surface": [
           {
            "colorbar": {
             "outlinewidth": 0,
             "ticks": ""
            },
            "colorscale": [
             [
              0,
              "#0d0887"
             ],
             [
              0.1111111111111111,
              "#46039f"
             ],
             [
              0.2222222222222222,
              "#7201a8"
             ],
             [
              0.3333333333333333,
              "#9c179e"
             ],
             [
              0.4444444444444444,
              "#bd3786"
             ],
             [
              0.5555555555555556,
              "#d8576b"
             ],
             [
              0.6666666666666666,
              "#ed7953"
             ],
             [
              0.7777777777777778,
              "#fb9f3a"
             ],
             [
              0.8888888888888888,
              "#fdca26"
             ],
             [
              1,
              "#f0f921"
             ]
            ],
            "type": "surface"
           }
          ],
          "table": [
           {
            "cells": {
             "fill": {
              "color": "#EBF0F8"
             },
             "line": {
              "color": "white"
             }
            },
            "header": {
             "fill": {
              "color": "#C8D4E3"
             },
             "line": {
              "color": "white"
             }
            },
            "type": "table"
           }
          ]
         },
         "layout": {
          "annotationdefaults": {
           "arrowcolor": "#2a3f5f",
           "arrowhead": 0,
           "arrowwidth": 1
          },
          "autotypenumbers": "strict",
          "coloraxis": {
           "colorbar": {
            "outlinewidth": 0,
            "ticks": ""
           }
          },
          "colorscale": {
           "diverging": [
            [
             0,
             "#8e0152"
            ],
            [
             0.1,
             "#c51b7d"
            ],
            [
             0.2,
             "#de77ae"
            ],
            [
             0.3,
             "#f1b6da"
            ],
            [
             0.4,
             "#fde0ef"
            ],
            [
             0.5,
             "#f7f7f7"
            ],
            [
             0.6,
             "#e6f5d0"
            ],
            [
             0.7,
             "#b8e186"
            ],
            [
             0.8,
             "#7fbc41"
            ],
            [
             0.9,
             "#4d9221"
            ],
            [
             1,
             "#276419"
            ]
           ],
           "sequential": [
            [
             0,
             "#0d0887"
            ],
            [
             0.1111111111111111,
             "#46039f"
            ],
            [
             0.2222222222222222,
             "#7201a8"
            ],
            [
             0.3333333333333333,
             "#9c179e"
            ],
            [
             0.4444444444444444,
             "#bd3786"
            ],
            [
             0.5555555555555556,
             "#d8576b"
            ],
            [
             0.6666666666666666,
             "#ed7953"
            ],
            [
             0.7777777777777778,
             "#fb9f3a"
            ],
            [
             0.8888888888888888,
             "#fdca26"
            ],
            [
             1,
             "#f0f921"
            ]
           ],
           "sequentialminus": [
            [
             0,
             "#0d0887"
            ],
            [
             0.1111111111111111,
             "#46039f"
            ],
            [
             0.2222222222222222,
             "#7201a8"
            ],
            [
             0.3333333333333333,
             "#9c179e"
            ],
            [
             0.4444444444444444,
             "#bd3786"
            ],
            [
             0.5555555555555556,
             "#d8576b"
            ],
            [
             0.6666666666666666,
             "#ed7953"
            ],
            [
             0.7777777777777778,
             "#fb9f3a"
            ],
            [
             0.8888888888888888,
             "#fdca26"
            ],
            [
             1,
             "#f0f921"
            ]
           ]
          },
          "colorway": [
           "#636efa",
           "#EF553B",
           "#00cc96",
           "#ab63fa",
           "#FFA15A",
           "#19d3f3",
           "#FF6692",
           "#B6E880",
           "#FF97FF",
           "#FECB52"
          ],
          "font": {
           "color": "#2a3f5f"
          },
          "geo": {
           "bgcolor": "white",
           "lakecolor": "white",
           "landcolor": "#E5ECF6",
           "showlakes": true,
           "showland": true,
           "subunitcolor": "white"
          },
          "hoverlabel": {
           "align": "left"
          },
          "hovermode": "closest",
          "mapbox": {
           "style": "light"
          },
          "paper_bgcolor": "white",
          "plot_bgcolor": "#E5ECF6",
          "polar": {
           "angularaxis": {
            "gridcolor": "white",
            "linecolor": "white",
            "ticks": ""
           },
           "bgcolor": "#E5ECF6",
           "radialaxis": {
            "gridcolor": "white",
            "linecolor": "white",
            "ticks": ""
           }
          },
          "scene": {
           "xaxis": {
            "backgroundcolor": "#E5ECF6",
            "gridcolor": "white",
            "gridwidth": 2,
            "linecolor": "white",
            "showbackground": true,
            "ticks": "",
            "zerolinecolor": "white"
           },
           "yaxis": {
            "backgroundcolor": "#E5ECF6",
            "gridcolor": "white",
            "gridwidth": 2,
            "linecolor": "white",
            "showbackground": true,
            "ticks": "",
            "zerolinecolor": "white"
           },
           "zaxis": {
            "backgroundcolor": "#E5ECF6",
            "gridcolor": "white",
            "gridwidth": 2,
            "linecolor": "white",
            "showbackground": true,
            "ticks": "",
            "zerolinecolor": "white"
           }
          },
          "shapedefaults": {
           "line": {
            "color": "#2a3f5f"
           }
          },
          "ternary": {
           "aaxis": {
            "gridcolor": "white",
            "linecolor": "white",
            "ticks": ""
           },
           "baxis": {
            "gridcolor": "white",
            "linecolor": "white",
            "ticks": ""
           },
           "bgcolor": "#E5ECF6",
           "caxis": {
            "gridcolor": "white",
            "linecolor": "white",
            "ticks": ""
           }
          },
          "title": {
           "x": 0.05
          },
          "xaxis": {
           "automargin": true,
           "gridcolor": "white",
           "linecolor": "white",
           "ticks": "",
           "title": {
            "standoff": 15
           },
           "zerolinecolor": "white",
           "zerolinewidth": 2
          },
          "yaxis": {
           "automargin": true,
           "gridcolor": "white",
           "linecolor": "white",
           "ticks": "",
           "title": {
            "standoff": 15
           },
           "zerolinecolor": "white",
           "zerolinewidth": 2
          }
         }
        },
        "xaxis": {
         "anchor": "y2",
         "domain": [
          0,
          1
         ],
         "zeroline": false
        },
        "yaxis": {
         "anchor": "free",
         "domain": [
          0,
          1
         ],
         "position": 0
        }
       }
      },
      "text/html": [
       "<div>                            <div id=\"4ee129a2-e55a-4e5c-ada6-5a0bf2ec78ff\" class=\"plotly-graph-div\" style=\"height:525px; width:100%;\"></div>            <script type=\"text/javascript\">                require([\"plotly\"], function(Plotly) {                    window.PLOTLYENV=window.PLOTLYENV || {};                                    if (document.getElementById(\"4ee129a2-e55a-4e5c-ada6-5a0bf2ec78ff\")) {                    Plotly.newPlot(                        \"4ee129a2-e55a-4e5c-ada6-5a0bf2ec78ff\",                        [{\"legendgroup\":\"Age Distribution\",\"marker\":{\"color\":\"rgb(31, 119, 180)\"},\"mode\":\"lines\",\"name\":\"Age Distribution\",\"showlegend\":true,\"x\":[10.0,10.174,10.348,10.522,10.696,10.87,11.044,11.218,11.392,11.566,11.74,11.914,12.088000000000001,12.262,12.436,12.61,12.783999999999999,12.958,13.132,13.306000000000001,13.48,13.654,13.828,14.001999999999999,14.176,14.35,14.524000000000001,14.698,14.872,15.046,15.219999999999999,15.394,15.568,15.742,15.916,16.09,16.264,16.438,16.612000000000002,16.786,16.96,17.134,17.308,17.482,17.656,17.83,18.003999999999998,18.178,18.352,18.526,18.7,18.874000000000002,19.048000000000002,19.222,19.396,19.57,19.744,19.918,20.092,20.266,20.439999999999998,20.614,20.788,20.962,21.136,21.310000000000002,21.484,21.658,21.832,22.006,22.18,22.354,22.528,22.701999999999998,22.875999999999998,23.05,23.224,23.398,23.572,23.746000000000002,23.92,24.094,24.268,24.442,24.616,24.79,24.964,25.137999999999998,25.311999999999998,25.486,25.66,25.834,26.008,26.182,26.356,26.53,26.704,26.878,27.052,27.226,27.4,27.574,27.748,27.922,28.096,28.27,28.444,28.618,28.792,28.966,29.14,29.314,29.488,29.662,29.836,30.01,30.184,30.358,30.532,30.706,30.88,31.054,31.228,31.402,31.576,31.75,31.924,32.098,32.272,32.446,32.620000000000005,32.794,32.968,33.141999999999996,33.316,33.489999999999995,33.664,33.838,34.012,34.186,34.36,34.534,34.708,34.882000000000005,35.056,35.230000000000004,35.403999999999996,35.578,35.751999999999995,35.926,36.1,36.274,36.448,36.622,36.796,36.97,37.144,37.318,37.492000000000004,37.666,37.84,38.013999999999996,38.188,38.361999999999995,38.536,38.71,38.884,39.058,39.232,39.406,39.58,39.754000000000005,39.928,40.102000000000004,40.275999999999996,40.45,40.623999999999995,40.798,40.972,41.146,41.32,41.494,41.668,41.842,42.016,42.19,42.364,42.538,42.712,42.886,43.06,43.234,43.408,43.582,43.756,43.93,44.104,44.278,44.452,44.626,44.8,44.974,45.148,45.322,45.496,45.67,45.844,46.018,46.192,46.366,46.54,46.714,46.888,47.062,47.236,47.41,47.584,47.758,47.932,48.106,48.28,48.454,48.628,48.802,48.976,49.15,49.324,49.498,49.672,49.846,50.02,50.194,50.368,50.542,50.716,50.89,51.064,51.238,51.412,51.586,51.76,51.934,52.108,52.282,52.456,52.63,52.804,52.978,53.152,53.326,53.5,53.674,53.848,54.022,54.196,54.37,54.544,54.718,54.892,55.066,55.24,55.414,55.588,55.762,55.936,56.11,56.284,56.458,56.632,56.806,56.98,57.154,57.328,57.502,57.676,57.85,58.024,58.198,58.372,58.546,58.72,58.894,59.068,59.242,59.416,59.59,59.764,59.938,60.112,60.286,60.46,60.634,60.808,60.982,61.156,61.33,61.504,61.678,61.852,62.026,62.2,62.374,62.548,62.722,62.896,63.07,63.244,63.418,63.592,63.766,63.94,64.114,64.288,64.462,64.636,64.81,64.98400000000001,65.158,65.332,65.506,65.68,65.854,66.02799999999999,66.202,66.376,66.55,66.72399999999999,66.898,67.072,67.24600000000001,67.42,67.594,67.768,67.94200000000001,68.116,68.28999999999999,68.464,68.638,68.812,68.98599999999999,69.16,69.334,69.50800000000001,69.682,69.856,70.03,70.20400000000001,70.378,70.55199999999999,70.726,70.9,71.074,71.24799999999999,71.422,71.596,71.77000000000001,71.944,72.118,72.292,72.46600000000001,72.64,72.814,72.988,73.162,73.336,73.50999999999999,73.684,73.858,74.032,74.206,74.38,74.554,74.728,74.902,75.076,75.25,75.424,75.598,75.772,75.946,76.12,76.294,76.468,76.642,76.816,76.99,77.164,77.338,77.512,77.686,77.86,78.034,78.208,78.382,78.556,78.73,78.904,79.078,79.252,79.426,79.6,79.774,79.948,80.122,80.296,80.47,80.644,80.818,80.992,81.166,81.34,81.514,81.688,81.862,82.036,82.21,82.384,82.558,82.732,82.906,83.08,83.254,83.428,83.602,83.776,83.95,84.124,84.298,84.472,84.646,84.82,84.994,85.168,85.342,85.516,85.69,85.864,86.038,86.212,86.386,86.56,86.734,86.908,87.082,87.256,87.43,87.604,87.778,87.952,88.126,88.3,88.474,88.648,88.822,88.996,89.17,89.344,89.518,89.692,89.866,90.04,90.214,90.388,90.562,90.736,90.91,91.084,91.258,91.432,91.606,91.78,91.954,92.128,92.302,92.476,92.65,92.824,92.998,93.172,93.346,93.52,93.694,93.868,94.042,94.216,94.39,94.564,94.738,94.912,95.086,95.26,95.434,95.608,95.782,95.956,96.13,96.304,96.478,96.652,96.826],\"xaxis\":\"x\",\"y\":[1.0695195716989117e-05,1.3464104361132524e-05,1.7046194382555065e-05,2.1899824190887476e-05,2.8659225136091e-05,3.81842788002506e-05,5.154367630111873e-05,6.987699964819099e-05,9.423459723133078e-05,0.00012564322913068626,0.00016555176962339114,0.00021641132902107936,0.00028178165218243977,0.0003655785983572815,0.0004709861207290174,0.0006003436908005666,0.0007568090270171773,0.0009466577140528907,0.0011794787204800505,0.0014646272966631403,0.0018061941370278892,0.002201844046700829,0.0026487025035200375,0.0031521542595491646,0.0037278005669640177,0.004390764794288221,0.005139332593453988,0.005949534915848396,0.00679087910112219,0.007652903614171944,0.008557100035417564,0.009538309980630447,0.01060978275613107,0.011747273701498686,0.012913379761745057,0.014102163207168292,0.01535764807214437,0.01674135703489714,0.018277896946654083,0.019937272617529155,0.021679260972163383,0.023516521130823316,0.02552337259459293,0.027768396541796872,0.0302356332546093,0.032825533478708355,0.03545068759647513,0.038133145619728664,0.0409906339297888,0.04410688822193896,0.04741391873156328,0.05072256864683754,0.0538921142416185,0.05697191405506583,0.060155487604027974,0.06357468368970523,0.06714166924658581,0.07061621013404423,0.07384415422971917,0.07691665671272775,0.08006197508916879,0.08336043762169881,0.08658032567559168,0.08933143552530312,0.0914069824050788,0.09297113190137199,0.09438899873192172,0.09586053611462707,0.0972301050102457,0.09816805155818079,0.09853320183153297,0.09853283085843231,0.09850817339289271,0.09857004232776535,0.09847088856285695,0.09785296856445488,0.0966171786667117,0.0950313440475289,0.09347105536329112,0.0920674957601148,0.09062380463546685,0.08887075479984072,0.08677900337509359,0.08460012309547023,0.08260702881785334,0.08082001420016727,0.07900646987596978,0.07694268706697519,0.07465271359761409,0.0723770040219575,0.07031777599146868,0.06843799309963235,0.06651983368727075,0.06440689243167846,0.06216775583818066,0.06001604510606754,0.05808511496162052,0.056300212174632214,0.054473841857847656,0.05250987208369408,0.05049655385243627,0.04859900152043319,0.04687657915193592,0.04522096584433565,0.0434730503255435,0.0415880842317231,0.0396774889568219,0.03789397603285487,0.03628831306164639,0.03478325534765561,0.03327732036153511,0.03175756916158278,0.03030366678281365,0.028989774763053942,0.027797108980864814,0.026629804934531404,0.02541178685155185,0.024159675659281656,0.022959203268434907,0.021876951025986188,0.02090188602049222,0.01997151590124801,0.019045698797472588,0.018146465965930825,0.017326110907046707,0.01660445121148066,0.01594479849566012,0.015291586006591305,0.014625969278252727,0.013980218485376271,0.01339922295439107,0.01289319055747068,0.012430860836624926,0.01197598136182623,0.011524307333093528,0.011101519811736347,0.010727172863303757,0.010385955883854688,0.010037638342779343,0.009654472944946133,0.009246350558822091,0.00884855668323864,0.008486695217491277,0.008155415996390308,0.007830533923532253,0.007498516640503181,0.00717125170171905,0.006872334079681419,0.006611932474547973,0.006377615707746397,0.006149405667997066,0.005921193817922326,0.005705421203163674,0.005517412217103141,0.005357580497788359,0.0052107039083804365,0.005062016491400444,0.0049119376552879575,0.0047737666799822056,0.004657724645816494,0.0045591310717379065,0.004463188714034292,0.004360493249451698,0.004256177801808515,0.004163147209742433,0.004087262479235668,0.004020612868062085,0.003949707248334141,0.003869154217850193,0.0037858143713137143,0.003709111201224959,0.0036382534259292495,0.00356038292060917,0.003461988134260597,0.0033420399860769876,0.0032137793269373894,0.003093965157199832,0.002990768594343877,0.0029016821067698114,0.0028215299933904946,0.0027504581237439577,0.002693157952901574,0.0026511441729246596,0.0026177048317818615,0.002581904002469378,0.0025377565423120693,0.002488836798597667,0.0024434072200045136,0.0024052408377906293,0.0023697309983158827,0.0023290446972057005,0.0022804474053208018,0.002228813679170873,0.0021808234189498333,0.002137257152171763,0.002091654368855861,0.002036680714483326,0.001971444887978596,0.001902240203399452,0.0018362470866839819,0.0017749331099166737,0.0017137887338982347,0.0016481729081881211,0.0015788933088418562,0.0015119508816592382,0.0014532674802532038,0.0014041750792635208,0.0013620050897197855,0.0013243512461259298,0.0012919003923009033,0.0012668361472673551,0.0012490131955336275,0.0012345572047343088,0.0012187291349552063,0.0012000884712735358,0.0011815093216633488,0.0011669842706804093,0.0011576250784726808,0.0011509789146196938,0.0011440430316933042,0.0011363183439285622,0.0011292956378689168,0.0011228299412019882,0.0011125016993597044,0.0010913213372081181,0.0010547357808546286,0.00100443495741276,0.000947493620642179,0.0008917732013556433,0.0008417623361769594,0.0007980757554627733,0.0007600086905661082,0.0007279085539109277,0.0007030887572937025,0.0006860681754086689,0.0006756139955742702,0.0006697742824908789,0.0006675571977061713,0.0006691072427218072,0.0006740171379128624,0.0006797157732644352,0.0006820360071168234,0.0006778133917462822,0.0006671047210008829,0.0006528163135212842,0.0006380523036977412,0.0006237182719868471,0.0006085495971953017,0.0005912159820667151,0.0005721357209873037,0.0005531466434423318,0.0005355514898109116,0.0005187324843417951,0.0005008274344833823,0.0004807526566941015,0.0004595163407411281,0.0004396031689793059,0.0004231992822501014,0.000411034521532844,0.00040270978193250015,0.0003976955225726071,0.0003955989367011858,0.00039535996301847775,0.0003944798353396945,0.00038956631028884707,0.00037816845156324715,0.0003604662628884188,0.00033936765213571173,0.0003189573628416015,0.00030261211579767436,0.0002921223618541327,0.00028797723121065725,0.000289913102393015,0.0002969503958591008,0.00030713028700676576,0.0003177699178982715,0.0003265364427970118,0.0003325809686967132,0.00033662992503901096,0.00033981537830026485,0.00034228174662750987,0.0003428916309577458,0.0003402947581935934,0.00033426846209234765,0.0003259787707866753,0.00031691802496189346,0.00030760544669726617,0.00029733706717169643,0.0002851799988138579,0.0002711804062739709,0.0002566248983779947,0.00024320601274091232,0.00023198886836756658,0.0002231170172092129,0.000216309662137545,0.00021140489988405044,0.00020831090107878018,0.0002065230426731951,0.00020491560819439473,0.00020221766259029739,0.0001977908548008598,0.00019193110582083913,0.00018535988399587884,0.00017838846512452985,0.00017057400885279225,0.00016120249535741553,0.00015014027333854916,0.0001382840254703137,0.00012726355024642407,0.00011872448479782192,0.00011377155746420845,0.00011282900252221926,0.00011571756463958036,0.00012166416419998954,0.00012927141194883686,0.00013673647855250382,0.000142448783974426,0.0001456513608154919,0.0001466326117961367,0.00014623664367413553,0.00014507755299703718,0.00014311963713478296,0.00013993892016486448,0.00013533980341087114,0.0001296966149808158,0.0001237091330795083,0.00011785722235055667,0.00011210802997420066,0.00010613125231264956,9.975759735239048e-05,9.320837302746754e-05,8.690317929959627e-05,8.10894102706172e-05,7.568213903265058e-05,7.044832964015911e-05,6.531701189234865e-05,6.0506526077231e-05,5.638203347874108e-05,5.3224510679021556e-05,5.113462885030323e-05,5.010998442962128e-05,5.0153328611609975e-05,5.128236649760989e-05,5.346868721664152e-05,5.6626223652122954e-05,6.06823727755859e-05,6.561017168956856e-05,7.128906399765193e-05,7.725105954127902e-05,8.256787374694079e-05,8.60960621338731e-05,8.700055413738328e-05,8.518877967895649e-05,8.130721247716839e-05,7.62949118298151e-05,7.084798964987208e-05,6.519412974350527e-05,5.9279537797921254e-05,5.312374301840536e-05,4.701128257662911e-05,4.1398166109492e-05,3.667709421058319e-05,3.302237340006568e-05,3.0400283521362976e-05,2.86616930953129e-05,2.759917535818441e-05,2.6947450296204446e-05,2.639758031542272e-05,2.5678188810715178e-05,2.4663736970097223e-05,2.341610187728017e-05,2.211518695751736e-05,2.093375113496364e-05,1.995573507182024e-05,1.918406951018395e-05,1.859463819445972e-05,1.81611697579637e-05,1.7827292422214245e-05,1.7473547485874887e-05,1.6939302105332844e-05,1.6101065343982782e-05,1.4944329595834579e-05,1.3564308346667572e-05,1.2093344128608143e-05,1.0616506914271504e-05,9.142075989616048e-06,7.640864348769455e-06,6.111061146684312e-06,4.612733381196524e-06,3.250196603641831e-06,2.123748668260084e-06,1.28917989100371e-06,7.489916508997139e-07,4.73363338511718e-07,4.32384471526196e-07,6.19756886489885e-07,1.0558740914567103e-06,1.7680014947310114e-06,2.7553360250595784e-06,3.956507956590915e-06,5.241665436743645e-06,6.442669929723863e-06,7.4118653927418306e-06,8.075784092014034e-06,8.446638068716309e-06,8.581211361086105e-06,8.516852788622255e-06,8.234195778349119e-06,7.676256007556397e-06,6.8086574150654535e-06,5.6737108947436885e-06,4.397839131982344e-06,3.1486798094426547e-06,2.072666930366695e-06,1.2507732368158745e-06,6.907156553261039e-07,3.486759706361716e-07,1.6079229197288473e-07,6.77112926355251e-08,2.6032144079417188e-08,9.135926400509781e-09,2.926537084449724e-09,8.556448087487768e-10,2.2832779722637934e-10,5.56086899764815e-11,1.2360739759205322e-11,2.5084423084393137e-12,4.707708219913095e-13,1.2186611767634713e-13,2.7669447204484805e-13,1.4734540554977088e-12,7.471478216827508e-12,3.461477984233387e-11,1.4636481823770922e-10,5.648330914583234e-10,1.989351748582447e-09,6.394565389650928e-09,1.875938042141974e-08,5.022662001150805e-08,1.22731889758498e-07,2.737088842170602e-07,5.570938604140771e-07,1.0348463096677717e-06,1.754411006886786e-06,2.7145311927297825e-06,3.833242853664008e-06,4.940214862678187e-06,5.810765457860633e-06,6.2377628498157495e-06,6.111282753667523e-06,5.464417849873815e-06,4.4592665188363244e-06,3.321168906401907e-06,2.2574934653660075e-06,1.4004578603342068e-06,7.929057990086559e-07,4.0971432425069136e-07,1.932185001436796e-07,8.316187458579354e-08,3.266689369365893e-08,1.171114648171328e-08,3.831766110561517e-09,1.1442122052366362e-09,3.1183306620279744e-10,7.756142135518814e-11,1.760667542923396e-11,3.647681936806011e-12,6.897069128048953e-13,1.190201971269284e-13,1.8746311515223602e-14,2.7076353918980636e-15,4.698376994282312e-16,9.73410362415936e-16,6.803050078569208e-15,4.530401512140279e-14,2.755274596938e-13,1.5293485518151211e-12,7.747435908802336e-12,3.581959383956156e-11,1.511459939621113e-10,5.82089297993075e-10,2.0460007282035266e-09,6.563804528091959e-09,1.9220156050411576e-08,5.1373546511000275e-08,1.253585990475986e-07,2.7930966939277817e-07,5.684322998831638e-07,1.057240417098073e-06,1.798764666305502e-06,2.803815717709351e-06,4.014153661008333e-06,5.299817142615458e-06,6.4931597176473265e-06,7.449273844885451e-06,8.098895809425055e-06,8.457555712723499e-06,8.582535341631488e-06,8.509013693506716e-06,8.215032832341817e-06],\"yaxis\":\"y\",\"type\":\"scatter\"},{\"legendgroup\":\"Gold medallist\",\"marker\":{\"color\":\"rgb(255, 127, 14)\"},\"mode\":\"lines\",\"name\":\"Gold medallist\",\"showlegend\":true,\"x\":[13.0,13.102,13.204,13.306,13.408,13.51,13.612,13.714,13.816,13.918,14.02,14.122,14.224,14.326,14.428,14.53,14.632,14.734,14.836,14.938,15.04,15.142,15.244,15.346,15.448,15.55,15.652000000000001,15.754,15.856,15.958,16.06,16.162,16.264,16.366,16.468,16.57,16.672,16.774,16.876,16.978,17.08,17.182000000000002,17.284,17.386,17.488,17.59,17.692,17.794,17.896,17.998,18.1,18.201999999999998,18.304000000000002,18.406,18.508,18.61,18.712,18.814,18.916,19.018,19.12,19.222,19.323999999999998,19.426000000000002,19.528,19.63,19.732,19.834,19.936,20.038,20.14,20.242,20.344,20.445999999999998,20.548000000000002,20.65,20.752,20.854,20.956,21.058,21.16,21.262,21.364,21.466,21.567999999999998,21.67,21.772,21.874000000000002,21.976,22.078,22.18,22.282,22.384,22.486,22.588,22.689999999999998,22.792,22.894,22.996000000000002,23.098,23.2,23.302,23.404,23.506,23.608,23.71,23.811999999999998,23.914,24.016,24.118000000000002,24.22,24.322,24.424,24.526,24.628,24.73,24.832,24.933999999999997,25.036,25.137999999999998,25.240000000000002,25.342,25.444000000000003,25.546,25.648,25.75,25.852,25.954,26.055999999999997,26.158,26.259999999999998,26.362000000000002,26.464,26.566000000000003,26.668,26.77,26.872,26.974,27.076,27.178,27.28,27.381999999999998,27.484,27.586,27.688000000000002,27.79,27.892,27.994,28.096,28.198,28.3,28.402,28.503999999999998,28.606,28.708,28.810000000000002,28.912,29.014,29.116,29.218,29.32,29.422,29.524,29.626,29.728,29.83,29.932,30.034,30.136,30.238,30.34,30.442,30.544,30.646,30.748,30.85,30.952,31.054,31.156,31.258,31.36,31.462,31.564,31.666,31.768,31.87,31.972,32.074,32.176,32.278,32.379999999999995,32.482,32.584,32.686,32.788,32.89,32.992000000000004,33.094,33.196,33.298,33.4,33.501999999999995,33.604,33.706,33.808,33.91,34.012,34.114000000000004,34.216,34.318,34.42,34.522,34.623999999999995,34.726,34.828,34.93,35.032,35.134,35.236000000000004,35.338,35.44,35.542,35.644,35.745999999999995,35.848,35.95,36.052,36.153999999999996,36.256,36.358000000000004,36.46,36.562,36.664,36.766,36.867999999999995,36.97,37.072,37.174,37.275999999999996,37.378,37.480000000000004,37.582,37.684,37.786,37.888000000000005,37.989999999999995,38.092,38.194,38.296,38.397999999999996,38.5,38.602000000000004,38.704,38.806,38.908,39.010000000000005,39.111999999999995,39.214,39.316,39.418,39.519999999999996,39.622,39.724000000000004,39.826,39.928,40.03,40.132000000000005,40.234,40.336,40.438,40.54,40.641999999999996,40.744,40.846000000000004,40.948,41.05,41.152,41.254000000000005,41.356,41.458,41.56,41.662,41.763999999999996,41.866,41.968,42.07,42.172,42.274,42.376000000000005,42.478,42.58,42.682,42.784,42.885999999999996,42.988,43.09,43.192,43.294,43.396,43.498000000000005,43.6,43.702,43.804,43.906,44.007999999999996,44.11,44.212,44.314,44.416,44.518,44.620000000000005,44.722,44.824,44.926,45.028,45.13,45.232,45.334,45.436,45.538,45.64,45.742,45.844,45.946,46.048,46.15,46.252,46.354,46.456,46.558,46.66,46.762,46.864,46.966,47.068,47.17,47.272,47.374,47.476,47.578,47.68,47.782,47.884,47.986,48.088,48.19,48.292,48.394,48.496,48.598,48.7,48.802,48.904,49.006,49.108,49.21,49.312,49.414,49.516,49.618,49.72,49.822,49.924,50.026,50.128,50.23,50.332,50.434,50.536,50.638,50.74,50.842,50.944,51.046,51.148,51.25,51.352,51.454,51.556,51.658,51.76,51.862,51.964,52.066,52.168,52.27,52.372,52.474,52.576,52.678,52.78,52.882,52.984,53.086,53.188,53.29,53.392,53.494,53.596,53.698,53.8,53.902,54.004,54.106,54.208,54.31,54.412,54.514,54.616,54.718,54.82,54.922,55.024,55.126,55.228,55.33,55.432,55.534,55.636,55.738,55.84,55.942,56.044,56.146,56.248,56.35,56.452,56.554,56.656,56.758,56.86,56.962,57.064,57.166,57.268,57.37,57.472,57.574,57.676,57.778,57.88,57.982,58.084,58.186,58.288,58.39,58.492,58.594,58.696,58.798,58.9,59.002,59.104,59.206,59.308,59.41,59.512,59.614,59.716,59.818,59.92,60.022,60.124,60.226,60.328,60.43,60.532,60.634,60.736,60.838,60.94,61.042,61.144,61.246,61.348,61.45,61.552,61.654,61.756,61.858,61.96,62.062,62.164,62.266,62.368,62.47,62.572,62.674,62.776,62.878,62.98,63.082,63.184,63.286,63.388,63.49,63.592,63.694,63.796,63.898],\"xaxis\":\"x\",\"y\":[0.0009899569307249038,0.0010840058412850636,0.0011849939136809964,0.0012938342742882607,0.0014115053877012393,0.0015390086130240154,0.001677321722894873,0.0018273523845645642,0.0019898959068589232,0.002165601446944245,0.002354950327582804,0.002558249166824822,0.0027756392428900513,0.0030071220243901606,0.003252599238240301,0.0035119243884128163,0.0037849614389396063,0.004071645573024767,0.004372040636233515,0.004686388112854652,0.005015143259463705,0.005358995259121727,0.005718869843449952,0.006095914600222965,0.0064914689621719274,0.006907022476683593,0.007344166219206517,0.007804542999465205,0.008289802226607787,0.008801564907382346,0.009341403268434691,0.009910837996276779,0.010511354207143005,0.011144435169527405,0.011811610710539502,0.01251451536037982,0.013254949832961438,0.014034938576563407,0.01485677597316937,0.01572305436533093,0.016636668413688712,0.01760079222843922,0.01861882809888118,0.019694328241168485,0.020830893541822822,0.022032055535421056,0.02330114958177892,0.024641188207459648,0.026054743719599403,0.02754384843942184,0.029109919283757776,0.030753711085784518,0.03247530022025379,0.034274097080373274,0.036148883077113676,0.038097865425580885,0.04011874132721194,0.04220876244102882,0.04436479083570095,0.04658333887439134,0.04886058754057748,0.051192380317001594,0.05357419259175637,0.056001079396952515,0.05846760683369776,0.060967774602648836,0.06349493850094684,0.06604174247033866,0.06860006973250478,0.07116102170327292,0.0737149317532252,0.07625141854958366,0.07875948082027484,0.08122763216140523,0.08364407128100634,0.08599688020019179,0.08827424077467899,0.09046465873043641,0.09255718435878844,0.09454162003247786,0.09640870654525191,0.09815028256419822,0.09975941378264644,0.10123049028439844,0.10255929192665537,0.10374302216020355,0.10478031076836121,0.1056711858041378,0.10641701487913491,0.10702041620614584,0.10748514059014352,0.10781592689182957,0.10801833517858146,0.10809856353316334,0.10806325597587006,0.10791930988339392,0.10767369148007097,0.10733326739750353,0.10690465904067734,0.10639412474557496,0.10580747268477812,0.10515000538258991,0.1044264947077195,0.10364118444189384,0.10279781606405596,0.1018996723137596,0.10094963247068102,0.09995023316940445,0.09890372899699246,0.09781214808284454,0.09667733930628122,0.0955010094625039,0.09428475053056251,0.09303005884013726,0.0917383492216188,0.09041096798959686,0.08904920878329377,0.08765433488617527,0.08622761075963598,0.0847703442794144,0.08328393969443475,0.08176995975879668,0.08023019392550967,0.07866672803570339,0.07708200970209975,0.07547890270770263,0.07386072337966622,0.07223125221358992,0.07059471513619377,0.06895573074158672,0.06731922253509613,0.06569029845028423,0.06407410332976995,0.06247565326211504,0.060899663216394874,0.05935038094273288,0.05783144036134605,0.05634574655523035,0.054895402095408365,0.053481681000453626,0.05210505251991259,0.05076525255800628,0.049461396361264016,0.0481921224940721,0.04695575546642735,0.04575047291223587,0.044574463084602445,0.04342605965213146,0.04230384323359298,0.04120670256062122,0.04013385226752238,0.039084808659028185,0.03805932895561773,0.03705732303659705,0.0360787492374858,0.03512350706525338,0.03419133966439507,0.033281757535146554,0.03239399254246247,0.03152698793835191,0.030679426301078613,0.02984979335618187,0.02903647196719884,0.02823785751286643,0.027452483684347734,0.026679146637273995,0.025917015514022815,0.025165718594942016,0.02442539661155297,0.023696717823922773,0.022980853007010704,0.02227941213524538,0.021594347920882283,0.020927834108378948,0.020282128294137416,0.01965942988135909,0.019061743574832982,0.018490757675500905,0.017947744556530705,0.017433488364283867,0.01694824248528805,0.016491716931952095,0.01606309375052758,0.01566106699426891,0.01528390279801744,0.014929514622233186,0.014595548723766274,0.014279475233235634,0.013978680732420538,0.013690558794847511,0.01341259547276486,0.013142447121574419,0.012878008236478111,0.01261746717076959,0.012359347781795848,0.012102535297394728,0.011846285096207077,0.011590213707305895,0.011334272173369303,0.011078702951610819,0.010823982663613375,0.010570754127453813,0.010319752073283022,0.010071727621766323,0.009827376885178894,0.00958727886958705,0.009351847203925429,0.009121299144458845,0.008895643897243672,0.008674690700014599,0.008458075462418831,0.008245303236924257,0.0080358025257116,0.007828986537101942,0.007624316065006665,0.0074213587065486,0.007219839637321984,0.007019680064853115,0.006821020673483245,0.006624228725809764,0.0064298888536149,0.0062387788182412165,0.0060518325339518385,0.005870093352872198,0.0056946609772241235,0.005526635410582281,0.005367061141196653,0.005216874350108987,0.005076855447949128,0.004947588752808975,0.0048294306914237585,0.004722487569362862,0.004626603710661595,0.004541360579961303,0.004466087316029602,0.004399882862055372,0.004341649520274753,0.004290137252679578,0.004243997394220076,0.004201843675809743,0.0041623176436128935,0.004124154809273831,0.004086247289131432,0.004047698403547623,0.0040078648043996605,0.00396638223606434,0.00392317201867013,0.0038784267206050447,0.0038325751530539536,0.003786228619366503,0.003740112103593744,0.0036949855951089136,0.003651561845189565,0.0036104274001630683,0.003571973673422666,0.003536344091491151,0.0035034020335311623,0.0034727225001954538,0.0034436083692885168,0.0034151299282494767,0.0033861843333181127,0.003355569935392647,0.003322069200209784,0.0032845333484759283,0.003241961896208952,0.0031935709618053486,0.0031388454317665066,0.0030775716937194828,0.0030098494688353423,0.0029360831080059314,0.00285695437013468,0.002773380022656188,0.0026864584898628457,0.0025974101787990577,0.0025075160500037433,0.002418058537711565,0.0023302681653558635,0.002245278271032293,0.0021640892785771103,0.002087543032226212,0.0020163069383290965,0.0019508670748961392,0.0018915290540404677,0.001838425240211724,0.001791526904639955,0.001750659988891092,0.0017155233114973059,0.0016857082405706968,0.0016607190417771704,0.0016399932767107565,0.0016229217643445972,0.0016088677289060084,0.0015971848468234865,0.0015872339797441057,0.001578398444431578,0.0015700977246028093,0.0015617995721097322,0.0015530304711513265,0.0015433844456699934,0.001532530175800108,0.0015202163577557205,0.00150627520144942,0.0014906239240879856,0.0014732640804773077,0.001454278584999663,0.0014338263349350895,0.001412134441712103,0.001389488209313451,0.0013662191532183231,0.0013426915090954472,0.0013192878158316916,0.0012963942517993513,0.0012743864410876956,0.001253616420081981,0.001234401365565707,0.0012170145433329771,0.0012016787577981934,0.0011885623889695187,0.001177777914937041,0.00116938265506055,0.0011633813461025392,0.001159730089389405,0.0011583411839945189,0.0011590883852807988,0.0011618121915950813,0.001166324853150596,0.0011724149036456233,0.0011798511248385663,0.0011883859566483486,0.0011977584521943381,0.0012076969428120178,0.001217921618959176,0.0012281472472771009,0.0012380862314015054,0.001247452185030711,0.001255964122086992,0.0012633512840638714,0.0012693585246058557,0.0012737520644625128,0.0012763253272756808,0.001276904481184923,0.0012753532564001456,0.0012715765965147837,0.0012655227393798118,0.0012571834139497105,0.0012465919777208323,0.0012338194931584513,0.0012189689328497893,0.0012021678903506436,0.0011835603344406266,0.0011632980588267652,0.0011415325324548604,0.0011184078397484224,0.0010940553153607061,0.0010685903319812345,0.0010421115063100673,0.001014702366008365,0.0009864352903308097,0.0009573773208826109,0.0009275972568535033,0.0008971733185265435,0.0008662005967720219,0.0008347975118849758,0.0008031105831888944,0.0007713169549394594,0.0007396243209871894,0.0007082681212867003,0.000677506124518215,0.0006476107381756564,0.0006188595773395045,0.0005915249573361928,0.0005658630418810738,0.0005421033738587748,0.0005204394460800918,0.0005010208472838502,0.0004839473628751531,0.0004692652414091235,0.00045696567687812813,0.000446985420005324,0.00043920932977402875,0.00043347461333719526,0.00042957647569792103,0.0004272749023254416,0.0004263023172203746,0.00042637188423346286,0.00042718624069901457,0.00042844646315110164,0.00042986106293023125,0.0004311547970958491,0.00043207706285088585,0.00043240962900446795,0.0004319734529797203,0.0004306343416323707,0.0004283072405331538,0.00042495897754832524,0.0004206093375214657,0.0004153303987679819,0.0004092441120918791,0.00040251814418484265,0.0003953600380594459,0.00038800976623173684,0.0003807307741563248,0.0003737996408390533,0.00036749452978950177,0.00036208267339685776,0.00035780722953011965,0.0003548739662752668,0.00035343835768550196,0.0003535937923135301,0.0003553616849639682,0.0003586843174504194,0.00036342119605801694,0.0003693495887382447,0.00037616969087348747,0.000383514574046813,0.000390964719409543,0.0003980665584829191,0.0004043540792851297,0.0004093722464769759,0.00041270076919323775,0.000413976658687304,0.0004129140654948429,0.00040932007170157785,0.00040310542039063795,0.0003942895589558905,0.00038299981272206594,0.00036946494265717905,0.0003540037303402624,0.0003370095373689796,0.0003189319806120038,0.000300256940255638,0.00028148608126734545,0.0002631169408574839,0.0002456244440132163,0.00022944448918248145,0.0002149600279216981,0.00020248987060158844,0.00019228030042669494,0.0001844994748458456,0.0001792345320748195,0.0001764912890566875,0.00017619640048283262,0.00017820183167401322,0.00018229147014098656,0.00018818965643545776,0.00019557135604626364,0.00020407362800139983,0.0002133079836676337,0.0002228731831128766,0.0002323679964841642,0.00024140347001666562,0.00024961428073139364,0.00025666883508479747,0.00026227785475812056,0.0002662012850063066,0.00026825344538177956,0.000268306409855481,0.0002662916486758752,0.0002621999884826953,0.000256079955988494,0.00024803457318703105,0.00023821667892485923,0.00022682287174907647,0.00021408620752132502,0.00020026784254597026,0.00018564788361298136,0.0001705157804767616,0.00015516066113190145,0.0001398620526549804,0.0001248814393396839,0.00011045507861722011,9.678842271346431e-05,8.40523850162474e-05,7.238155487972283e-05,6.18743170275908e-05,5.259468751607017e-05,4.457555260939684e-05,3.78229027170348e-05,3.2320599678445175e-05,2.8035206419413106e-05,2.4920442805331954e-05,2.292090550036225e-05,2.197479444751991e-05,2.201551345747176e-05,2.2972145306841832e-05,2.4768930453814623e-05,2.7323991429771853e-05,3.054763208258671e-05,3.434059418362607e-05,3.85926682197349e-05,4.318202840500501e-05,4.797559552698207e-05,5.283063033590718e-05,5.7597633493476376e-05,6.2124487368303e-05,6.626163408275803e-05,6.98679579001443e-05,7.281694227173468e-05,7.500261420516638e-05,7.634477868446482e-05],\"yaxis\":\"y\",\"type\":\"scatter\"},{\"legendgroup\":\"Silver medallist\",\"marker\":{\"color\":\"rgb(44, 160, 44)\"},\"mode\":\"lines\",\"name\":\"Silver medallist\",\"showlegend\":true,\"x\":[11.0,11.124,11.248,11.372,11.496,11.62,11.744,11.868,11.992,12.116,12.24,12.364,12.488,12.612,12.736,12.86,12.984,13.108,13.232,13.356,13.48,13.604,13.728,13.852,13.975999999999999,14.1,14.224,14.347999999999999,14.472,14.596,14.72,14.844,14.968,15.091999999999999,15.216000000000001,15.34,15.464,15.588000000000001,15.712,15.836,15.96,16.084,16.208,16.332,16.456,16.58,16.704,16.828,16.951999999999998,17.076,17.2,17.323999999999998,17.448,17.572,17.695999999999998,17.82,17.944,18.067999999999998,18.192,18.316,18.44,18.564,18.688,18.812,18.936,19.060000000000002,19.183999999999997,19.308,19.432000000000002,19.555999999999997,19.68,19.804000000000002,19.928,20.052,20.176000000000002,20.3,20.424,20.548000000000002,20.672,20.796,20.92,21.044,21.168,21.292,21.416,21.54,21.664,21.788,21.912,22.036,22.16,22.284,22.408,22.532,22.656,22.78,22.904,23.028,23.152,23.276,23.4,23.524,23.648,23.772,23.896,24.02,24.144,24.268,24.392,24.516,24.64,24.764,24.887999999999998,25.012,25.136,25.259999999999998,25.384,25.508,25.631999999999998,25.756,25.880000000000003,26.003999999999998,26.128,26.252000000000002,26.375999999999998,26.5,26.624000000000002,26.747999999999998,26.872,26.996000000000002,27.12,27.244,27.368,27.492,27.616,27.74,27.864,27.988,28.112,28.236,28.36,28.484,28.608,28.732,28.856,28.98,29.104,29.228,29.352,29.476,29.6,29.724,29.848,29.972,30.096,30.22,30.344,30.468,30.592,30.716,30.84,30.964,31.088,31.212,31.336,31.46,31.584,31.708,31.832,31.956,32.08,32.204,32.328,32.452,32.576,32.7,32.824,32.948,33.072,33.196,33.32,33.444,33.568,33.692,33.816,33.94,34.064,34.188,34.312,34.436,34.56,34.684,34.808,34.932,35.056,35.18,35.304,35.428,35.552,35.676,35.8,35.924,36.048,36.172,36.296,36.42,36.544,36.668,36.792,36.916,37.04,37.164,37.288,37.412,37.536,37.66,37.784,37.908,38.032,38.156,38.28,38.403999999999996,38.528,38.652,38.775999999999996,38.9,39.024,39.147999999999996,39.272,39.396,39.519999999999996,39.644,39.768,39.891999999999996,40.016,40.14,40.263999999999996,40.388000000000005,40.512,40.635999999999996,40.760000000000005,40.884,41.007999999999996,41.132000000000005,41.256,41.379999999999995,41.504000000000005,41.628,41.751999999999995,41.876000000000005,42.0,42.123999999999995,42.248000000000005,42.372,42.495999999999995,42.620000000000005,42.744,42.867999999999995,42.992000000000004,43.116,43.24,43.364,43.488,43.612,43.736,43.86,43.984,44.108,44.232,44.356,44.48,44.604,44.728,44.852,44.976,45.1,45.224,45.348,45.472,45.596,45.72,45.844,45.968,46.092,46.216,46.34,46.464,46.588,46.712,46.836,46.96,47.084,47.208,47.332,47.456,47.58,47.704,47.828,47.952,48.076,48.2,48.324,48.448,48.572,48.696,48.82,48.944,49.068,49.192,49.316,49.44,49.564,49.688,49.812,49.936,50.06,50.184,50.308,50.432,50.556,50.68,50.804,50.928,51.052,51.176,51.3,51.424,51.548,51.672,51.796,51.92,52.044,52.168,52.292,52.416,52.54,52.664,52.788,52.912,53.036,53.16,53.284,53.408,53.532,53.656,53.78,53.904,54.028,54.152,54.276,54.4,54.524,54.648,54.772,54.896,55.02,55.144,55.268,55.392,55.516,55.64,55.764,55.888,56.012,56.136,56.26,56.384,56.508,56.632,56.756,56.88,57.004,57.128,57.252,57.376,57.5,57.624,57.748,57.872,57.996,58.12,58.244,58.368,58.492,58.616,58.74,58.864,58.988,59.112,59.236,59.36,59.484,59.608,59.732,59.856,59.98,60.104,60.228,60.352,60.476,60.6,60.724,60.848,60.972,61.096,61.22,61.344,61.468,61.592,61.716,61.84,61.964,62.088,62.212,62.336,62.46,62.584,62.708,62.832,62.956,63.08,63.204,63.328,63.452,63.576,63.7,63.824,63.948,64.072,64.196,64.32,64.444,64.568,64.69200000000001,64.816,64.94,65.064,65.188,65.312,65.436,65.56,65.684,65.80799999999999,65.932,66.056,66.18,66.304,66.428,66.55199999999999,66.676,66.8,66.924,67.048,67.172,67.29599999999999,67.42,67.544,67.668,67.792,67.916,68.03999999999999,68.164,68.288,68.412,68.536,68.66,68.78399999999999,68.908,69.032,69.156,69.28,69.404,69.52799999999999,69.652,69.77600000000001,69.9,70.024,70.148,70.27199999999999,70.396,70.52000000000001,70.644,70.768,70.892,71.01599999999999,71.14,71.26400000000001,71.388,71.512,71.636,71.75999999999999,71.884,72.00800000000001,72.132,72.256,72.38,72.50399999999999,72.628,72.75200000000001,72.876],\"xaxis\":\"x\",\"y\":[0.0002557449790943491,0.0002884889838990061,0.00032363334533842304,0.0003613728971586497,0.0004020058643697259,0.0004459543251598638,0.0004937787309785565,0.0005461833970702595,0.0006040102710218997,0.0006682192250543424,0.0007398545873148696,0.0008199995114303397,0.000909721856628519,0.001010017197102117,0.0011217560335111737,0.0012456428857292496,0.0013821944278545736,0.001531742055977261,0.001694461329081921,0.0018704268912165972,0.002059687275119336,0.002262350061543032,0.0024786649388639894,0.00270909092725249,0.0029543348707052747,0.0032153514410234786,0.003493300167206373,0.0037894618547869947,0.004105124309572091,0.004441454403407099,0.004799378988212865,0.00517949982440865,0.005582066652554925,0.0060070273646929085,0.006454165084312091,0.006923319676009506,0.007414677264720374,0.007929097747430247,0.00846843927625909,0.009035832430913625,0.009635856943549318,0.010274581208757618,0.010959439128396389,0.011698938647774899,0.012502219116179672,0.013378497086915596,0.014336458833025114,0.015383669476370028,0.016526070869121536,0.017767632230347805,0.019110199640721335,0.020553565067936052,0.02209574620224829,0.02373343938678782,0.02546258376765706,0.027278959214318242,0.029178735977956484,0.031158901113750335,0.03321750419736141,0.03535369002928218,0.037567514988361285,0.03985957221923349,0.042230474957914786,0.04468026391319402,0.04720781186548588,0.049810296065908664,0.05248279754770561,0.05521806822063145,0.058006484580843266,0.060836184402636335,0.06369336310908638,0.06656269217778256,0.06942781431557758,0.07227186925234463,0.07507800859751597,0.07782986614286472,0.08051195892120569,0.0831100023345432,0.08561112878998979,0.08800400367579829,0.09027883618443035,0.09242728678527898,0.09444227911324424,0.09631773194864082,0.09804823615554883,0.09962871048213326,0.10105407719692097,0.10231900192030616,0.1034177404522249,0.1043441282911361,0.10509173598163772,0.10565419619194326,0.1060256879485631,0.10620154185697658,0.10617891014487689,0.10595743010142945,0.10553980199063555,0.10493220507391268,0.1041444888045993,0.10319009942688019,0.10208573200845668,0.100850729765257,0.09950628127938091,0.09807448736889122,0.09657738004631093,0.0950359754603696,0.0934694323300589,0.09189437009834593,0.0903243805150345,0.08876974609629922,0.08723736154674673,0.08573084122300512,0.08425078732543662,0.08279518903856711,0.0813599210577622,0.07993930946376815,0.07852673261628597,0.0771152240591845,0.0756980434912411,0.07426918146305579,0.07282376487302646,0.0713583348730484,0.06987097736382601,0.0683612989254363,0.06683025679367953,0.06527986835432589,0.06371284094131419,0.06213217375839829,0.060540788281664204,0.058941240321307216,0.057335556047978874,0.05572521697075535,0.05411129733874275,0.052494734620622485,0.05087669274153863,0.049258961635498776,0.047644327914300774,0.0460368517239098,0.04444199467048455,0.04286656220209567,0.041318448785098404,0.03980620218087016,0.038338449955270505,0.03692325283910569,0.035567462208638406,0.03427616063994203,0.03305225485472492,0.031896270908304776,0.030806375225486307,0.02977861611945415,0.02880735307008876,0.027885819189355582,0.027006748818608792,0.026162998506158965,0.025348095554134725,0.02455666230937555,0.023784683723224596,0.023029607165044708,0.022290283796281556,0.021566777296398932,0.020860076628620182,0.020171754229591228,0.019503609978820027,0.018857335859726918,0.018234228118463106,0.017634964742164933,0.017059457677128943,0.016506782315009932,0.01597518172420717,0.015462139718650033,0.014964514635749963,0.01447872403187913,0.014000968890025226,0.01352748411244711,0.01305480010102933,0.01257999846491824,0.012100943884155078,0.011616474470614483,0.01112653501649878,0.010632241405281032,0.010135869886064039,0.009640771217552276,0.00915121597522751,0.008672182662448022,0.008209103952042968,0.0077675880668009335,0.007353132091527322,0.006970842393686248,0.006625175032511426,0.00631970676788658,0.006056945525055042,0.005838188051702573,0.005663431763896902,0.005531346889410293,0.005439313379595205,0.005383524223536846,0.005359152645853445,0.005360575512874036,0.005381639813866606,0.005415954271372782,0.005457184934460558,0.00549933276827523,0.005536973108979794,0.005565441236522292,0.005580954582550117,0.005580669251989805,0.005562675480939756,0.0055259423664674266,0.005470225958185088,0.005395956262494662,0.005304117946614137,0.0051961369394002265,0.005073781314881228,0.00493908049155325,0.004794262529793616,0.004641705701127514,0.0044838979426427865,0.004323396563827949,0.004162780767214935,0.004004591156112274,0.0038512532475749243,0.003704985728977745,0.003567698272437172,0.003440887516317645,0.0033255426670901695,0.0032220734756407987,0.003130272703171606,0.0030493225090757513,0.0029778497058293597,0.0029140291045304913,0.0028557280434383077,0.002800679596749881,0.002746667807020117,0.002691706273524299,0.002634191927441139,0.002573018793365159,0.0025076415314394416,0.002438084804823516,0.002364901064460248,0.002289085211330492,0.002211958962233364,0.002135040071683744,0.0020599116725438576,0.001988105075793713,0.0019210058971516801,0.001859789023550862,0.0018053834205635686,0.0017584637714944005,0.0017194629299678444,0.001688597450018466,0.0016658981008827985,0.0016512381533340032,0.0016443540688056274,0.0016448556695127742,0.0016522255200997324,0.0016658097250656985,0.0016848043093829967,0.001708242552120259,0.0017349889381061867,0.0017637447527506294,0.0017930688662702113,0.001821415149677826,0.0018471855456445381,0.0018687954488576994,0.0018847461012492645,0.0018936974866270427,0.001894534909393526,0.0018864230998579838,0.0018688431750534715,0.0018416098289450835,0.001804868374339695,0.0017590733447728612,0.0017049519859889046,0.0016434569409267776,0.0015757127207112268,0.0015029602500340905,0.0014265030613761843,0.0013476578043627597,0.0012677108273379597,0.001187881810344836,0.0011092948397241388,0.0010329569070629794,0.000959743542122344,0.000890391093590601,0.0008254950096983907,0.0007655133246516547,0.0007107744318133775,0.0006614881388963023,0.0006177589720296706,0.0005796007315675303,0.0005469513952874568,0.0005196875945017175,0.0004976380309925989,0.00048059533634417425,0.0004683259884477343,0.0004605779928951071,0.00045708612021334714,0.000457574580062091,0.0004617571278410006,0.0004693347503775689,0.00047999126986285405,0.0004933874325639534,0.0005091542927462883,0.0005268869325669033,0.0005461397351813371,0.0005664245043604744,0.0005872126533553522,0.000607942432434681,0.0006280317138682138,0.0006468962230592011,0.0006639723523832144,0.0006787429162048531,0.0006907635259912342,0.0006996868160898511,0.0007052816477830338,0.0007074447299634867,0.0007062028203913937,0.0007017047373590638,0.0006942036744359661,0.0006840315815135096,0.0006715684518389354,0.0006572100599331104,0.0006413379091701578,0.0006242948287294248,0.000606368850767147,0.0005877868191999525,0.0005687178057988721,0.0005492850385586779,0.0005295838790594292,0.0005097025854495037,0.0004897422771038394,0.0004698327184159225,0.0004501412307706858,0.00043087312178505244,0.00041226333151768397,0.0003945603445170962,0.0003780046058131219,0.0003628045329405977,0.00034911360965887706,0.00033701192497989863,0.00032649490707207504,0.0003174709942258213,0.0003097687419171592,0.0003031525768358011,0.0002973452685746268,0.00029205436205241857,0.0002869994093592798,0.00028193689962308506,0.00027668027727464683,0.0002711132652684562,0.0002651957266220426,0.00025896234038082585,0.0002525152784777854,0.000246012720348926,0.00023965535320152667,0.0002336729545995745,0.00022831277280981456,0.00022383078729301548,0.00022048615622973186,0.00021853836392476074,0.00021824589051618913,0.00021986474619314214,0.00022364502207722093,0.00022982375515119677,0.00023861288936534003,0.0002501818989525078,0.0002646356373332866,0.0002819890585215585,0.00030214146885727865,0.00032485373237152275,0.00034973221084777875,0.00037622304706113826,0.0004036196425858187,0.0004310848762431467,0.00045768789096975877,0.00048245336993096784,0.000504419410706128,0.0005226986860015774,0.000536536805622747,0.0005453618289447176,0.0005488197511726854,0.0005467923889804412,0.0005393961841599493,0.0005269627066581093,0.0005100037260962032,0.000489165329033095,0.0004651764772498364,0.00043879754588845097,0.00041077379662934254,0.00038179758836246776,0.00035248163526922983,0.0003233440421318457,0.00029480440866358704,0.0002671891715060588,0.00024074364207085676,0.00021564792167646263,0.00019203398827644262,0.00017000166176336202,0.00014963175461574067,0.00013099538684003696,0.00011415908893386917,9.91858602839288e-05,8.613275089055477e-05,7.504578095421828e-05,6.595312171303417e-05,5.885746616605599e-05,5.3728461488690494e-05,5.049599381902229e-05,4.904503543139453e-05,4.921269053365639e-05,5.0787997058355285e-05,5.3514932979870494e-05,5.70989088577291e-05,6.121678396279475e-05,6.553012079026476e-05,6.970101604290338e-05,7.340946346344379e-05,7.637087993641794e-05,7.835222913989419e-05,7.918516232327516e-05,7.877479217611925e-05,7.710311550261363e-05,7.422665768409682e-05,7.026854950926631e-05,6.540587026435234e-05,5.985360593125173e-05,5.384690233563597e-05,4.762339684649995e-05,4.140728466864994e-05,3.5396450652898724e-05,2.9753537718180632e-05,2.460130657412532e-05,2.0022146429101408e-05,1.6061186852846903e-05,1.2732177778827928e-05,1.0025161797424904e-05,7.914949741433856e-06,6.369498368559681e-06,5.357439988293496e-06,4.854190797996588e-06,4.846238108640236e-06,5.333359795983291e-06,6.3286591313152624e-06,7.856412910824746e-06,9.947845232134119e-06,1.2635068170965877e-05,1.5943582528167382e-05,1.988390402161516e-05,2.4443056381738206e-05,2.957682364103099e-05,3.5203742164908266e-05,4.1201800730602484e-05,4.7408675047553647e-05,5.362604028912099e-05,5.962809497805544e-05,6.517393257841957e-05,7.00228778382546e-05,7.395144238087569e-05,7.6770228276656e-05,7.833898464978562e-05,7.857813714919869e-05,7.747546130413153e-05,7.508711578703089e-05,7.1532913294088e-05,6.698638678598938e-05,6.166080550651224e-05,5.57927220303912e-05,4.9624832622484805e-05,4.338989181122509e-05,3.729716177435782e-05,3.15224543905034e-05,2.6202315218125013e-05,2.1432385372029163e-05,1.7269530239235654e-05,1.3736992992746928e-05,1.0831639063053864e-05,8.532302066115031e-06,6.808298375758982e-06,5.627310640406751e-06,4.962011546933914e-06,4.794975290075931e-06,5.121584288164147e-06,5.950775218375344e-06,7.3035864120400885e-06,9.209581297744575e-06,1.1701345376750593e-05,1.4807398338711788e-05,1.8544029677791312e-05,2.2906743615853556e-05,2.7862161920958e-05,3.334134594126204e-05,3.92355231549603e-05,4.5395105712421965e-05,5.16326508884066e-05,5.77300410840491e-05,6.344968597975078e-05,6.854902913657356e-05,7.279715144822485e-05,7.59918857437911e-05,7.797566226587189e-05],\"yaxis\":\"y\",\"type\":\"scatter\"},{\"legendgroup\":\"bronze medallist\",\"marker\":{\"color\":\"rgb(214, 39, 40)\"},\"mode\":\"lines\",\"name\":\"bronze medallist\",\"showlegend\":true,\"x\":[10.0,10.124,10.248,10.372,10.496,10.62,10.744,10.868,10.992,11.116,11.24,11.364,11.488,11.612,11.736,11.86,11.984,12.108,12.232,12.356,12.48,12.604,12.728,12.852,12.975999999999999,13.1,13.224,13.347999999999999,13.472,13.596,13.72,13.844,13.968,14.091999999999999,14.216000000000001,14.34,14.464,14.588000000000001,14.712,14.836,14.96,15.084,15.208,15.332,15.456,15.58,15.704,15.828,15.952,16.076,16.2,16.323999999999998,16.448,16.572,16.695999999999998,16.82,16.944,17.067999999999998,17.192,17.316,17.44,17.564,17.688,17.812,17.936,18.060000000000002,18.183999999999997,18.308,18.432000000000002,18.555999999999997,18.68,18.804000000000002,18.928,19.052,19.176000000000002,19.3,19.424,19.548000000000002,19.672,19.796,19.92,20.044,20.168,20.292,20.416,20.54,20.664,20.788,20.912,21.036,21.16,21.284,21.408,21.532,21.656,21.78,21.904,22.028,22.152,22.276,22.4,22.524,22.648,22.772,22.896,23.02,23.144,23.268,23.392,23.516,23.64,23.764,23.887999999999998,24.012,24.136,24.259999999999998,24.384,24.508,24.631999999999998,24.756,24.880000000000003,25.003999999999998,25.128,25.252000000000002,25.375999999999998,25.5,25.624000000000002,25.747999999999998,25.872,25.996000000000002,26.12,26.244,26.368,26.492,26.616,26.74,26.864,26.988,27.112,27.236,27.36,27.484,27.608,27.732,27.856,27.98,28.104,28.228,28.352,28.476,28.6,28.724,28.848,28.972,29.096,29.22,29.344,29.468,29.592,29.716,29.84,29.964,30.088,30.212,30.336,30.46,30.584,30.708,30.832,30.956,31.08,31.204,31.328,31.452,31.576,31.7,31.824,31.948,32.072,32.196,32.32,32.444,32.568,32.692,32.816,32.94,33.064,33.188,33.312,33.436,33.56,33.684,33.808,33.932,34.056,34.18,34.304,34.428,34.552,34.676,34.8,34.924,35.048,35.172,35.296,35.42,35.544,35.668,35.792,35.916,36.04,36.164,36.288,36.412,36.536,36.66,36.784,36.908,37.032,37.156,37.28,37.403999999999996,37.528,37.652,37.775999999999996,37.9,38.024,38.147999999999996,38.272,38.396,38.519999999999996,38.644,38.768,38.891999999999996,39.016,39.14,39.263999999999996,39.388000000000005,39.512,39.635999999999996,39.760000000000005,39.884,40.007999999999996,40.132000000000005,40.256,40.379999999999995,40.504000000000005,40.628,40.751999999999995,40.876000000000005,41.0,41.123999999999995,41.248000000000005,41.372,41.495999999999995,41.620000000000005,41.744,41.867999999999995,41.992000000000004,42.116,42.24,42.364,42.488,42.612,42.736,42.86,42.984,43.108,43.232,43.356,43.48,43.604,43.728,43.852,43.976,44.1,44.224,44.348,44.472,44.596,44.72,44.844,44.968,45.092,45.216,45.34,45.464,45.588,45.712,45.836,45.96,46.084,46.208,46.332,46.456,46.58,46.704,46.828,46.952,47.076,47.2,47.324,47.448,47.572,47.696,47.82,47.944,48.068,48.192,48.316,48.44,48.564,48.688,48.812,48.936,49.06,49.184,49.308,49.432,49.556,49.68,49.804,49.928,50.052,50.176,50.3,50.424,50.548,50.672,50.796,50.92,51.044,51.168,51.292,51.416,51.54,51.664,51.788,51.912,52.036,52.16,52.284,52.408,52.532,52.656,52.78,52.904,53.028,53.152,53.276,53.4,53.524,53.648,53.772,53.896,54.02,54.144,54.268,54.392,54.516,54.64,54.764,54.888,55.012,55.136,55.26,55.384,55.508,55.632,55.756,55.88,56.004,56.128,56.252,56.376,56.5,56.624,56.748,56.872,56.996,57.12,57.244,57.368,57.492,57.616,57.74,57.864,57.988,58.112,58.236,58.36,58.484,58.608,58.732,58.856,58.98,59.104,59.228,59.352,59.476,59.6,59.724,59.848,59.972,60.096,60.22,60.344,60.468,60.592,60.716,60.84,60.964,61.088,61.212,61.336,61.46,61.584,61.708,61.832,61.956,62.08,62.204,62.328,62.452,62.576,62.7,62.824,62.948,63.072,63.196,63.32,63.444,63.568,63.692,63.816,63.94,64.064,64.188,64.312,64.436,64.56,64.684,64.80799999999999,64.932,65.056,65.18,65.304,65.428,65.55199999999999,65.676,65.8,65.924,66.048,66.172,66.29599999999999,66.42,66.544,66.668,66.792,66.916,67.03999999999999,67.164,67.288,67.412,67.536,67.66,67.78399999999999,67.908,68.032,68.156,68.28,68.404,68.52799999999999,68.652,68.77600000000001,68.9,69.024,69.148,69.27199999999999,69.396,69.52000000000001,69.644,69.768,69.892,70.01599999999999,70.14,70.26400000000001,70.388,70.512,70.636,70.75999999999999,70.884,71.00800000000001,71.132,71.256,71.38,71.50399999999999,71.628,71.75200000000001,71.876],\"xaxis\":\"x\",\"y\":[9.19402068397645e-05,9.615433823926148e-05,0.00010021010042990187,0.00010436763291273971,0.00010892138271629966,0.0001141712263656165,0.0001203924010600331,0.00012780873450074658,0.00013657361444520822,0.000146762401375755,0.00015837861523551185,0.00017137438129875268,0.00018568355086843837,0.00020126392436928403,0.00021814341173601785,0.00023646404135369014,0.00025651766015922654,0.00027876801642947777,0.0003038556045751803,0.00033258396235817786,0.0003658887203094297,0.0004047932237060399,0.00045035659106134777,0.0005036213149513098,0.0005655677471091573,0.000637081995603868,0.0007189420244133449,0.0008118243632073965,0.0009163311881546423,0.0010330350349185852,0.0011625364181606119,0.0013055284091081244,0.0014628618591216954,0.001635605385019896,0.001825095250644431,0.0020329716130599133,0.0022611989699273354,0.0025120698253058194,0.0027881914667207968,0.0030924563199015275,0.0034279967315462194,0.00379812541118649,0.0042062633485204295,0.0046558579793814295,0.005150295763476941,0.00569281506206794,0.006286426977317364,0.0069338531783370095,0.00763749013610467,0.008399408100261177,0.009221390258226709,0.010105012861837683,0.011051761173514914,0.012063169772507447,0.01314097022913127,0.01428722556212769,0.015504430126504555,0.016795556026882135,0.01816403261751118,0.019613653404872134,0.021148413616978244,0.02277229059692277,0.024488986802229357,0.02630166049213928,0.028212671346660768,0.030223366779987496,0.03233392949856878,0.03454329836633244,0.03684916396448084,0.03924802904579562,0.04173531439831552,0.04430548436660374,0.046952164739038606,0.04966822919781001,0.05244583823043024,0.05527642463649164,0.058150630511650474,0.06105821008466991,0.06398791990839059,0.0669274222517712,0.06986322911608177,0.07278071311409647,0.07566420724244587,0.07849720789458611,0.081262684122886,0.08394348184894472,0.08652279637572065,0.08898467320799686,0.09131448921124981,0.09349936609932882,0.09552847684280419,0.0973932211929347,0.09908726552085184,0.10060646015215464,0.10194866054592278,0.1031134850451525,0.10410204176000332,0.10491665243127798,0.10556059451252796,0.10603787634950161,0.10635305515263407,0.10651110318415692,0.10651732338547056,0.10637731099106273,0.106096952764946,0.10568245137653412,0.10514036032864792,0.10447761542425957,0.10370155162916317,0.10281989800758941,0.1018407465054305,0.10077249159626352,0.09962373722993768,0.09840316640168228,0.09711936891836993,0.09578062622806485,0.09439465902824332,0.09296835282642786,0.0915074865317221,0.09001649688343771,0.0884983148461973,0.08695430780360272,0.08538435342379222,0.08378705836876935,0.08216011907071398,0.0805008043821159,0.07880652298915171,0.07707542422924236,0.07530697168195273,0.07350242673366385,0.07166518560993757,0.06980092807771027,0.06791755729933485,0.06602493468505899,0.06413443665820474,0.062258377896359476,0.060409355135579205,0.058599566460387546,0.05684015476103847,0.055140613839108815,0.05350828501106674,0.051947963807593714,0.05046163181124667,0.049048327411555785,0.04770416947637094,0.04642254711193363,0.04519448436986092,0.04400917932127983,0.0428547020309572,0.041718816839130285,0.04058987368098744,0.03945769473698579,0.03831437075740779,0.03715487975654876,0.035977451846939124,0.0347836279997939,0.03357799508585561,0.03236761986922953,0.03116124429516537,0.029968336708260004,0.028798112928772795,0.027658644044670496,0.02655615391219577,0.025494581173933398,0.024475442868268325,0.023497995470209053,0.022559650685029634,0.021656572887108493,0.02078436656273033,0.019938757311296965,0.01911617865062638,0.018314196930545673,0.017531734460864094,0.01676908197045325,0.016027720999076404,0.015310000591807007,0.014618727719204026,0.013956735806077081,0.013326490970092787,0.012729782912069075,0.01216752975025645,0.011639706740262101,0.011145390851289745,0.01068289897861192,0.010249988615764826,0.00984408653819224,0.009462513021286494,0.009102675214230683,0.008762211995396311,0.008439082293078584,0.008131597935637187,0.007838409391193084,0.007558457522060312,0.007290906473702827,0.007035072266936258,0.006790359134501989,0.006556211890137588,0.006332088410561187,0.00611745231382095,0.005911782622960955,0.005714594914996419,0.005525467304657778,0.005344064591300097,0.005170154877788494,0.005003614720914417,0.004844421078716369,0.004692630615236538,0.004548348943881922,0.004411693837234674,0.0042827571241173465,0.0041615699034640895,0.004048074941547548,0.003942108900523233,0.003843395633625784,0.003751550423744317,0.0036660939277914388,0.003586473828772559,0.0035120918166124566,0.0034423334710733822,0.0033765988064875683,0.003314331532476271,0.0032550453640130925,0.0031983458891858296,0.0031439465469074944,0.0030916772293831094,0.003041484024917441,0.0029934188136231388,0.002947617967843017,0.0029042703695256774,0.0028635763074259645,0.002825700401645778,0.0027907232585336057,0.0027585977629673653,0.0027291164511561413,0.0027018960321170435,0.002676383725917621,0.002651887712763991,0.0026276308668301924,0.0026028234719148277,0.002576747291919885,0.0025488407585333795,0.002518773663587523,0.0024864999879949962,0.0024522795164034377,0.0024166625394552903,0.0023804367960552617,0.0023445411694300203,0.002309955694395615,0.002277581332527744,0.0022481250524224953,0.0022220056165569812,0.002199293078712005,0.002179690653999984,0.002162561966910488,0.002147000551253854,0.0021319327848525207,0.0021162410366160522,0.0020988913245698028,0.0020790495624499806,0.0020561724791522368,0.0020300631438837625,0.002000886050096637,0.0019691420726982126,0.0019356084796482433,0.0019012528627198658,0.0018671319313208993,0.0018342864909947484,0.0018036428191864086,0.0017759285032085995,0.0017516081800564077,0.001730842055903607,0.0017134679919276678,0.0016990065237572109,0.001686687411533137,0.001675495985103713,0.001664237332763549,0.0016516159529012522,0.0016363276128205729,0.0016171587829952232,0.0015930873011629884,0.0015633762338507229,0.001527651736423409,0.0014859555698793399,0.0014387641893961354,0.0013869691027959426,0.0013318173113539224,0.0012748155737568735,0.001217607217028356,0.0011618343967130494,0.0011090012980127786,0.0010603542248291298,0.0010167926565817346,0.000978821376250531,0.0009465482657108307,0.0009197261648523791,0.000897831249096096,0.0008801655944952935,0.0008659686730611177,0.0008545218547001409,0.0008452316359346553,0.0008376809740333455,0.0008316431958093882,0.0008270587001629414,0.0008239802375810826,0.0008224971338767882,0.000822651794863879,0.0008243627913648217,0.0008273676776891538,0.0008311956370778744,0.0008351755373009668,0.0008384796833653962,0.0008401982465740749,0.0008394348045794195,0.0008354103066798348,0.000827561527820146,0.0008156208497573198,0.0007996668460762541,0.0007801391921665583,0.0007578161986967354,0.0007337580088453392,0.0007092224820481772,0.0006855634636996054,0.0006641222356342317,0.0006461224877392574,0.0006325774548737261,0.0006242154223303829,0.0006214271790159414,0.0006242366864828271,0.0006322945587779144,0.0006448930090591212,0.0006610005848090156,0.0006793149900361196,0.0006983322224407582,0.0007164298308945101,0.0007319611708901573,0.0007433561597128208,0.0007492224737172909,0.000748439797552613,0.0007402390770378448,0.000724259102372691,0.0007005743163053615,0.0006696904010833247,0.0006325075890589164,0.0005902552190122756,0.000544404212996752,0.0004965663407912794,0.0004483900300929961,0.00040146199548678717,0.0003572222926948062,0.000316897959982854,0.0002814576916201162,0.0002515874860257871,0.00022768528829122988,0.00020987148336146526,0.0001980116791514292,0.0001917483814084726,0.0001905386551817436,0.0001936954402629198,0.00020043065302448567,0.00020989847839237612,0.0002212373486955943,0.00023360910903610647,0.0002462338963801879,0.00025841940602950865,0.00026958352481234435,0.0002792697507460854,0.00028715531732497395,0.00029305239768270754,0.00029690309337480946,0.000298769070409673,0.0002988167033948242,0.00029729848960745856,0.0002945313889819617,0.00029087272110197014,0.0002866943612749112,0.00028235622750005774,0.00027818038575082337,0.00027442742676604703,0.00027127697015437923,0.00026881413056339417,0.0002670234759522164,0.0002657914182495956,0.0002649171635834083,0.0002641314276481151,0.00026312123745367294,0.00026155844104900337,0.0002591291502470458,0.0002555613123425938,0.00025064794195875557,0.00024426417314968557,0.00023637709316840416,0.0002270481475414604,0.00021642862492751708,0.00020474924234035547,0.00019230511796300816,0.00017943746387553646,0.00016651322856459663,0.00015390376765139972,0.0001419635127249211,0.00013100959937880136,0.00012130351102579163,0.00011303594509165449,0.00010631622290723858,0.00010116754001605633,9.752910253540395e-05,9.52656752905488e-05,9.418429902920535e-05,9.405700367157605e-05,9.464739319535615e-05,9.573817603296433e-05,9.715623066271253e-05,9.879176082414768e-05,0.00010060857494527693,0.00010264350361791395,0.00010499434439893632,0.00010779731654190727,0.00011119659036402261,0.0001153097813030825,0.00012019414437535776,0.00012581840797189458,0.00013204467445298302,0.0001386236246290274,0.0001452045390726736,0.00015135962897285237,0.0001566201496167342,0.00016052006020635012,0.00016264186560971378,0.00016265891326308445,0.00016036888469202237,0.00015571444318626673,0.00014878877920666974,0.00013982584489992395,0.00012917706232987305,0.00011727792170379279,0.0001046089264674152,9.165567528664879e-05,7.887250711658997e-05,6.665320023091937e-05,5.531091629932839e-05,4.506815896905542e-05,3.605620328321856e-05,2.8322426361365522e-05,2.1843334283929064e-05,1.6540857123378567e-05,1.2299625252670294e-05,8.983348868586707e-06,6.44898096828451e-06,4.55793707227719e-06,3.1841799718308265e-06,2.2193936958425877e-06,1.5757400700039238e-06,1.1868144058515668e-06,1.0074146479774368e-06,1.0126420876147873e-06,1.196695901704719e-06,1.571540645423271e-06,2.1654434682210627e-06,3.0212198689541306e-06,4.193913316469787e-06,5.747582165767592e-06,7.75089066391095e-06,1.027130758327158e-05,1.336790534061443e-05,1.708301092177613e-05,2.1433258826990564e-05,2.6400891605062396e-05,3.1926389952680395e-05,3.7903633063884375e-05,4.417874032827002e-05,5.055349803912428e-05,5.6793832181404275e-05,6.264319177969792e-05,6.78400347954786e-05,7.213796482583993e-05,7.532656488741965e-05,7.725071308666325e-05,7.782620631760957e-05,7.704987227050236e-05,7.500296924804121e-05,7.18474595422488e-05,6.781556623746254e-05,6.319375164903096e-05,5.830277811788265e-05,5.347576450470118e-05,4.903612780132714e-05,4.5277047113735514e-05,4.24436947723456e-05,4.0719049778317015e-05,4.0213734209222265e-05,4.096005208146447e-05,4.291027528170445e-05,4.5939180335230495e-05,4.985082895958444e-05,5.4389530582314904e-05,5.9254766914303234e-05,6.411957309477152e-05,6.86514788496528e-05,7.253468283966697e-05,7.549176007514991e-05,7.730298835354274e-05],\"yaxis\":\"y\",\"type\":\"scatter\"}],                        {\"barmode\":\"overlay\",\"hovermode\":\"closest\",\"legend\":{\"traceorder\":\"reversed\"},\"xaxis\":{\"anchor\":\"y2\",\"domain\":[0.0,1.0],\"zeroline\":false},\"yaxis\":{\"anchor\":\"free\",\"domain\":[0.0,1],\"position\":0.0},\"template\":{\"data\":{\"histogram2dcontour\":[{\"type\":\"histogram2dcontour\",\"colorbar\":{\"outlinewidth\":0,\"ticks\":\"\"},\"colorscale\":[[0.0,\"#0d0887\"],[0.1111111111111111,\"#46039f\"],[0.2222222222222222,\"#7201a8\"],[0.3333333333333333,\"#9c179e\"],[0.4444444444444444,\"#bd3786\"],[0.5555555555555556,\"#d8576b\"],[0.6666666666666666,\"#ed7953\"],[0.7777777777777778,\"#fb9f3a\"],[0.8888888888888888,\"#fdca26\"],[1.0,\"#f0f921\"]]}],\"choropleth\":[{\"type\":\"choropleth\",\"colorbar\":{\"outlinewidth\":0,\"ticks\":\"\"}}],\"histogram2d\":[{\"type\":\"histogram2d\",\"colorbar\":{\"outlinewidth\":0,\"ticks\":\"\"},\"colorscale\":[[0.0,\"#0d0887\"],[0.1111111111111111,\"#46039f\"],[0.2222222222222222,\"#7201a8\"],[0.3333333333333333,\"#9c179e\"],[0.4444444444444444,\"#bd3786\"],[0.5555555555555556,\"#d8576b\"],[0.6666666666666666,\"#ed7953\"],[0.7777777777777778,\"#fb9f3a\"],[0.8888888888888888,\"#fdca26\"],[1.0,\"#f0f921\"]]}],\"heatmap\":[{\"type\":\"heatmap\",\"colorbar\":{\"outlinewidth\":0,\"ticks\":\"\"},\"colorscale\":[[0.0,\"#0d0887\"],[0.1111111111111111,\"#46039f\"],[0.2222222222222222,\"#7201a8\"],[0.3333333333333333,\"#9c179e\"],[0.4444444444444444,\"#bd3786\"],[0.5555555555555556,\"#d8576b\"],[0.6666666666666666,\"#ed7953\"],[0.7777777777777778,\"#fb9f3a\"],[0.8888888888888888,\"#fdca26\"],[1.0,\"#f0f921\"]]}],\"heatmapgl\":[{\"type\":\"heatmapgl\",\"colorbar\":{\"outlinewidth\":0,\"ticks\":\"\"},\"colorscale\":[[0.0,\"#0d0887\"],[0.1111111111111111,\"#46039f\"],[0.2222222222222222,\"#7201a8\"],[0.3333333333333333,\"#9c179e\"],[0.4444444444444444,\"#bd3786\"],[0.5555555555555556,\"#d8576b\"],[0.6666666666666666,\"#ed7953\"],[0.7777777777777778,\"#fb9f3a\"],[0.8888888888888888,\"#fdca26\"],[1.0,\"#f0f921\"]]}],\"contourcarpet\":[{\"type\":\"contourcarpet\",\"colorbar\":{\"outlinewidth\":0,\"ticks\":\"\"}}],\"contour\":[{\"type\":\"contour\",\"colorbar\":{\"outlinewidth\":0,\"ticks\":\"\"},\"colorscale\":[[0.0,\"#0d0887\"],[0.1111111111111111,\"#46039f\"],[0.2222222222222222,\"#7201a8\"],[0.3333333333333333,\"#9c179e\"],[0.4444444444444444,\"#bd3786\"],[0.5555555555555556,\"#d8576b\"],[0.6666666666666666,\"#ed7953\"],[0.7777777777777778,\"#fb9f3a\"],[0.8888888888888888,\"#fdca26\"],[1.0,\"#f0f921\"]]}],\"surface\":[{\"type\":\"surface\",\"colorbar\":{\"outlinewidth\":0,\"ticks\":\"\"},\"colorscale\":[[0.0,\"#0d0887\"],[0.1111111111111111,\"#46039f\"],[0.2222222222222222,\"#7201a8\"],[0.3333333333333333,\"#9c179e\"],[0.4444444444444444,\"#bd3786\"],[0.5555555555555556,\"#d8576b\"],[0.6666666666666666,\"#ed7953\"],[0.7777777777777778,\"#fb9f3a\"],[0.8888888888888888,\"#fdca26\"],[1.0,\"#f0f921\"]]}],\"mesh3d\":[{\"type\":\"mesh3d\",\"colorbar\":{\"outlinewidth\":0,\"ticks\":\"\"}}],\"scatter\":[{\"fillpattern\":{\"fillmode\":\"overlay\",\"size\":10,\"solidity\":0.2},\"type\":\"scatter\"}],\"parcoords\":[{\"type\":\"parcoords\",\"line\":{\"colorbar\":{\"outlinewidth\":0,\"ticks\":\"\"}}}],\"scatterpolargl\":[{\"type\":\"scatterpolargl\",\"marker\":{\"colorbar\":{\"outlinewidth\":0,\"ticks\":\"\"}}}],\"bar\":[{\"error_x\":{\"color\":\"#2a3f5f\"},\"error_y\":{\"color\":\"#2a3f5f\"},\"marker\":{\"line\":{\"color\":\"#E5ECF6\",\"width\":0.5},\"pattern\":{\"fillmode\":\"overlay\",\"size\":10,\"solidity\":0.2}},\"type\":\"bar\"}],\"scattergeo\":[{\"type\":\"scattergeo\",\"marker\":{\"colorbar\":{\"outlinewidth\":0,\"ticks\":\"\"}}}],\"scatterpolar\":[{\"type\":\"scatterpolar\",\"marker\":{\"colorbar\":{\"outlinewidth\":0,\"ticks\":\"\"}}}],\"histogram\":[{\"marker\":{\"pattern\":{\"fillmode\":\"overlay\",\"size\":10,\"solidity\":0.2}},\"type\":\"histogram\"}],\"scattergl\":[{\"type\":\"scattergl\",\"marker\":{\"colorbar\":{\"outlinewidth\":0,\"ticks\":\"\"}}}],\"scatter3d\":[{\"type\":\"scatter3d\",\"line\":{\"colorbar\":{\"outlinewidth\":0,\"ticks\":\"\"}},\"marker\":{\"colorbar\":{\"outlinewidth\":0,\"ticks\":\"\"}}}],\"scattermapbox\":[{\"type\":\"scattermapbox\",\"marker\":{\"colorbar\":{\"outlinewidth\":0,\"ticks\":\"\"}}}],\"scatterternary\":[{\"type\":\"scatterternary\",\"marker\":{\"colorbar\":{\"outlinewidth\":0,\"ticks\":\"\"}}}],\"scattercarpet\":[{\"type\":\"scattercarpet\",\"marker\":{\"colorbar\":{\"outlinewidth\":0,\"ticks\":\"\"}}}],\"carpet\":[{\"aaxis\":{\"endlinecolor\":\"#2a3f5f\",\"gridcolor\":\"white\",\"linecolor\":\"white\",\"minorgridcolor\":\"white\",\"startlinecolor\":\"#2a3f5f\"},\"baxis\":{\"endlinecolor\":\"#2a3f5f\",\"gridcolor\":\"white\",\"linecolor\":\"white\",\"minorgridcolor\":\"white\",\"startlinecolor\":\"#2a3f5f\"},\"type\":\"carpet\"}],\"table\":[{\"cells\":{\"fill\":{\"color\":\"#EBF0F8\"},\"line\":{\"color\":\"white\"}},\"header\":{\"fill\":{\"color\":\"#C8D4E3\"},\"line\":{\"color\":\"white\"}},\"type\":\"table\"}],\"barpolar\":[{\"marker\":{\"line\":{\"color\":\"#E5ECF6\",\"width\":0.5},\"pattern\":{\"fillmode\":\"overlay\",\"size\":10,\"solidity\":0.2}},\"type\":\"barpolar\"}],\"pie\":[{\"automargin\":true,\"type\":\"pie\"}]},\"layout\":{\"autotypenumbers\":\"strict\",\"colorway\":[\"#636efa\",\"#EF553B\",\"#00cc96\",\"#ab63fa\",\"#FFA15A\",\"#19d3f3\",\"#FF6692\",\"#B6E880\",\"#FF97FF\",\"#FECB52\"],\"font\":{\"color\":\"#2a3f5f\"},\"hovermode\":\"closest\",\"hoverlabel\":{\"align\":\"left\"},\"paper_bgcolor\":\"white\",\"plot_bgcolor\":\"#E5ECF6\",\"polar\":{\"bgcolor\":\"#E5ECF6\",\"angularaxis\":{\"gridcolor\":\"white\",\"linecolor\":\"white\",\"ticks\":\"\"},\"radialaxis\":{\"gridcolor\":\"white\",\"linecolor\":\"white\",\"ticks\":\"\"}},\"ternary\":{\"bgcolor\":\"#E5ECF6\",\"aaxis\":{\"gridcolor\":\"white\",\"linecolor\":\"white\",\"ticks\":\"\"},\"baxis\":{\"gridcolor\":\"white\",\"linecolor\":\"white\",\"ticks\":\"\"},\"caxis\":{\"gridcolor\":\"white\",\"linecolor\":\"white\",\"ticks\":\"\"}},\"coloraxis\":{\"colorbar\":{\"outlinewidth\":0,\"ticks\":\"\"}},\"colorscale\":{\"sequential\":[[0.0,\"#0d0887\"],[0.1111111111111111,\"#46039f\"],[0.2222222222222222,\"#7201a8\"],[0.3333333333333333,\"#9c179e\"],[0.4444444444444444,\"#bd3786\"],[0.5555555555555556,\"#d8576b\"],[0.6666666666666666,\"#ed7953\"],[0.7777777777777778,\"#fb9f3a\"],[0.8888888888888888,\"#fdca26\"],[1.0,\"#f0f921\"]],\"sequentialminus\":[[0.0,\"#0d0887\"],[0.1111111111111111,\"#46039f\"],[0.2222222222222222,\"#7201a8\"],[0.3333333333333333,\"#9c179e\"],[0.4444444444444444,\"#bd3786\"],[0.5555555555555556,\"#d8576b\"],[0.6666666666666666,\"#ed7953\"],[0.7777777777777778,\"#fb9f3a\"],[0.8888888888888888,\"#fdca26\"],[1.0,\"#f0f921\"]],\"diverging\":[[0,\"#8e0152\"],[0.1,\"#c51b7d\"],[0.2,\"#de77ae\"],[0.3,\"#f1b6da\"],[0.4,\"#fde0ef\"],[0.5,\"#f7f7f7\"],[0.6,\"#e6f5d0\"],[0.7,\"#b8e186\"],[0.8,\"#7fbc41\"],[0.9,\"#4d9221\"],[1,\"#276419\"]]},\"xaxis\":{\"gridcolor\":\"white\",\"linecolor\":\"white\",\"ticks\":\"\",\"title\":{\"standoff\":15},\"zerolinecolor\":\"white\",\"automargin\":true,\"zerolinewidth\":2},\"yaxis\":{\"gridcolor\":\"white\",\"linecolor\":\"white\",\"ticks\":\"\",\"title\":{\"standoff\":15},\"zerolinecolor\":\"white\",\"automargin\":true,\"zerolinewidth\":2},\"scene\":{\"xaxis\":{\"backgroundcolor\":\"#E5ECF6\",\"gridcolor\":\"white\",\"linecolor\":\"white\",\"showbackground\":true,\"ticks\":\"\",\"zerolinecolor\":\"white\",\"gridwidth\":2},\"yaxis\":{\"backgroundcolor\":\"#E5ECF6\",\"gridcolor\":\"white\",\"linecolor\":\"white\",\"showbackground\":true,\"ticks\":\"\",\"zerolinecolor\":\"white\",\"gridwidth\":2},\"zaxis\":{\"backgroundcolor\":\"#E5ECF6\",\"gridcolor\":\"white\",\"linecolor\":\"white\",\"showbackground\":true,\"ticks\":\"\",\"zerolinecolor\":\"white\",\"gridwidth\":2}},\"shapedefaults\":{\"line\":{\"color\":\"#2a3f5f\"}},\"annotationdefaults\":{\"arrowcolor\":\"#2a3f5f\",\"arrowhead\":0,\"arrowwidth\":1},\"geo\":{\"bgcolor\":\"white\",\"landcolor\":\"#E5ECF6\",\"subunitcolor\":\"white\",\"showland\":true,\"showlakes\":true,\"lakecolor\":\"white\"},\"title\":{\"x\":0.05},\"mapbox\":{\"style\":\"light\"}}}},                        {\"responsive\": true}                    ).then(function(){\n",
       "                            \n",
       "var gd = document.getElementById('4ee129a2-e55a-4e5c-ada6-5a0bf2ec78ff');\n",
       "var x = new MutationObserver(function (mutations, observer) {{\n",
       "        var display = window.getComputedStyle(gd).display;\n",
       "        if (!display || display === 'none') {{\n",
       "            console.log([gd, 'removed!']);\n",
       "            Plotly.purge(gd);\n",
       "            observer.disconnect();\n",
       "        }}\n",
       "}});\n",
       "\n",
       "// Listen for the removal of the full notebook cells\n",
       "var notebookContainer = gd.closest('#notebook-container');\n",
       "if (notebookContainer) {{\n",
       "    x.observe(notebookContainer, {childList: true});\n",
       "}}\n",
       "\n",
       "// Listen for the clearing of the current output cell\n",
       "var outputEl = gd.closest('.output');\n",
       "if (outputEl) {{\n",
       "    x.observe(outputEl, {childList: true});\n",
       "}}\n",
       "\n",
       "                        })                };                });            </script>        </div>"
      ]
     },
     "metadata": {},
     "output_type": "display_data"
    }
   ],
   "source": [
    "athlete_df=S_df.drop_duplicates(subset=['Name','region'])\n",
    "x=[athlete_df['Age'].dropna(), athlete_df[athlete_df['Medal']=='Gold']['Age'].dropna(), athlete_df[athlete_df['Medal']=='Silver']['Age'].dropna() , athlete_df[athlete_df['Medal']=='Bronze']['Age'].dropna()]\n",
    "\n",
    "fig=ff.create_distplot([x[0],x[1],x[2],x[3]],['Age Distribution','Gold medallist','Silver medallist','bronze medallist'],show_hist=False,show_rug=False)\n",
    "fig.show()"
   ]
  },
  {
   "cell_type": "code",
   "execution_count": 246,
   "id": "0335de96",
   "metadata": {},
   "outputs": [],
   "source": [
    "famous_sports=S_df[S_df['Year']==2016].drop_duplicates('Sport')['Sport'].tolist()\n",
    "x=[]             # ages\n",
    "name=[]\n",
    "for sport in famous_sports:\n",
    "    temp_df=athlete_df[athlete_df['Sport']==sport].reset_index()\n",
    "    x.append(temp_df[temp_df['Sport']==sport]['Age'].dropna())\n",
    "    name.append(sport)\n",
    "    \n",
    "    \n",
    "fig=ff.create_distplot(x,name,show_hist=False,show_rug=False)\n"
   ]
  },
  {
   "cell_type": "code",
   "execution_count": 273,
   "id": "b51502db",
   "metadata": {
    "collapsed": true
   },
   "outputs": [
    {
     "name": "stderr",
     "output_type": "stream",
     "text": [
      "C:\\Users\\Asus\\anaconda3\\lib\\site-packages\\seaborn\\_decorators.py:36: FutureWarning:\n",
      "\n",
      "Pass the following variables as keyword args: x, y. From version 0.12, the only valid positional argument will be `data`, and passing other arguments without an explicit keyword will result in an error or misinterpretation.\n",
      "\n"
     ]
    },
    {
     "data": {
      "image/png": "[encoded data removed]",
      "text/plain": [
       "<Figure size 432x288 with 1 Axes>"
      ]
     },
     "metadata": {
      "needs_background": "light"
     },
     "output_type": "display_data"
    }
   ],
   "source": [
    "def weight_vs_height(athlete_df):\n",
    "    athlete_df['Medal'].fillna('No Medal',inplace=True)\n",
    "    temp_df=athlete_df[athlete_df['Sport']=='Weightlifting']\n",
    "\n",
    "fig=sns.scatterplot(temp_df['Weight'],temp_df['Height'],hue=temp_df['Medal'],style=temp_df['Sex'],s=100)\n"
   ]
  },
  {
   "cell_type": "code",
   "execution_count": 285,
   "id": "f4134319",
   "metadata": {
    "scrolled": true
   },
   "outputs": [
    {
     "data": {
      "text/html": [
       "<div>\n",
       "<style scoped>\n",
       "    .dataframe tbody tr th:only-of-type {\n",
       "        vertical-align: middle;\n",
       "    }\n",
       "\n",
       "    .dataframe tbody tr th {\n",
       "        vertical-align: top;\n",
       "    }\n",
       "\n",
       "    .dataframe thead th {\n",
       "        text-align: right;\n",
       "    }\n",
       "</style>\n",
       "<table border=\"1\" class=\"dataframe\">\n",
       "  <thead>\n",
       "    <tr style=\"text-align: right;\">\n",
       "      <th></th>\n",
       "      <th>ID</th>\n",
       "      <th>Name</th>\n",
       "      <th>Sex</th>\n",
       "      <th>Age</th>\n",
       "      <th>Height</th>\n",
       "      <th>Weight</th>\n",
       "      <th>Team</th>\n",
       "      <th>NOC</th>\n",
       "      <th>Games</th>\n",
       "      <th>Year</th>\n",
       "      <th>Season</th>\n",
       "      <th>City</th>\n",
       "      <th>Sport</th>\n",
       "      <th>Event</th>\n",
       "      <th>Medal</th>\n",
       "      <th>region</th>\n",
       "      <th>notes</th>\n",
       "      <th>Bronze</th>\n",
       "      <th>Gold</th>\n",
       "      <th>Silver</th>\n",
       "    </tr>\n",
       "  </thead>\n",
       "  <tbody>\n",
       "    <tr>\n",
       "      <th>0</th>\n",
       "      <td>1</td>\n",
       "      <td>A Dijiang</td>\n",
       "      <td>M</td>\n",
       "      <td>24.0</td>\n",
       "      <td>180.0</td>\n",
       "      <td>80.0</td>\n",
       "      <td>China</td>\n",
       "      <td>CHN</td>\n",
       "      <td>1992 Summer</td>\n",
       "      <td>1992</td>\n",
       "      <td>Summer</td>\n",
       "      <td>Barcelona</td>\n",
       "      <td>Basketball</td>\n",
       "      <td>Basketball Men's Basketball</td>\n",
       "      <td>NaN</td>\n",
       "      <td>China</td>\n",
       "      <td>NaN</td>\n",
       "      <td>0</td>\n",
       "      <td>0</td>\n",
       "      <td>0</td>\n",
       "    </tr>\n",
       "    <tr>\n",
       "      <th>1</th>\n",
       "      <td>2</td>\n",
       "      <td>A Lamusi</td>\n",
       "      <td>M</td>\n",
       "      <td>23.0</td>\n",
       "      <td>170.0</td>\n",
       "      <td>60.0</td>\n",
       "      <td>China</td>\n",
       "      <td>CHN</td>\n",
       "      <td>2012 Summer</td>\n",
       "      <td>2012</td>\n",
       "      <td>Summer</td>\n",
       "      <td>London</td>\n",
       "      <td>Judo</td>\n",
       "      <td>Judo Men's Extra-Lightweight</td>\n",
       "      <td>NaN</td>\n",
       "      <td>China</td>\n",
       "      <td>NaN</td>\n",
       "      <td>0</td>\n",
       "      <td>0</td>\n",
       "      <td>0</td>\n",
       "    </tr>\n",
       "    <tr>\n",
       "      <th>2</th>\n",
       "      <td>3</td>\n",
       "      <td>Gunnar Nielsen Aaby</td>\n",
       "      <td>M</td>\n",
       "      <td>24.0</td>\n",
       "      <td>NaN</td>\n",
       "      <td>NaN</td>\n",
       "      <td>Denmark</td>\n",
       "      <td>DEN</td>\n",
       "      <td>1920 Summer</td>\n",
       "      <td>1920</td>\n",
       "      <td>Summer</td>\n",
       "      <td>Antwerpen</td>\n",
       "      <td>Football</td>\n",
       "      <td>Football Men's Football</td>\n",
       "      <td>NaN</td>\n",
       "      <td>Denmark</td>\n",
       "      <td>NaN</td>\n",
       "      <td>0</td>\n",
       "      <td>0</td>\n",
       "      <td>0</td>\n",
       "    </tr>\n",
       "    <tr>\n",
       "      <th>3</th>\n",
       "      <td>4</td>\n",
       "      <td>Edgar Lindenau Aabye</td>\n",
       "      <td>M</td>\n",
       "      <td>34.0</td>\n",
       "      <td>NaN</td>\n",
       "      <td>NaN</td>\n",
       "      <td>Denmark/Sweden</td>\n",
       "      <td>DEN</td>\n",
       "      <td>1900 Summer</td>\n",
       "      <td>1900</td>\n",
       "      <td>Summer</td>\n",
       "      <td>Paris</td>\n",
       "      <td>Tug-Of-War</td>\n",
       "      <td>Tug-Of-War Men's Tug-Of-War</td>\n",
       "      <td>Gold</td>\n",
       "      <td>Denmark</td>\n",
       "      <td>NaN</td>\n",
       "      <td>0</td>\n",
       "      <td>1</td>\n",
       "      <td>0</td>\n",
       "    </tr>\n",
       "    <tr>\n",
       "      <th>4</th>\n",
       "      <td>8</td>\n",
       "      <td>Cornelia \"Cor\" Aalten (-Strannood)</td>\n",
       "      <td>F</td>\n",
       "      <td>18.0</td>\n",
       "      <td>168.0</td>\n",
       "      <td>NaN</td>\n",
       "      <td>Netherlands</td>\n",
       "      <td>NED</td>\n",
       "      <td>1932 Summer</td>\n",
       "      <td>1932</td>\n",
       "      <td>Summer</td>\n",
       "      <td>Los Angeles</td>\n",
       "      <td>Athletics</td>\n",
       "      <td>Athletics Women's 100 metres</td>\n",
       "      <td>NaN</td>\n",
       "      <td>Netherlands</td>\n",
       "      <td>NaN</td>\n",
       "      <td>0</td>\n",
       "      <td>0</td>\n",
       "      <td>0</td>\n",
       "    </tr>\n",
       "    <tr>\n",
       "      <th>...</th>\n",
       "      <td>...</td>\n",
       "      <td>...</td>\n",
       "      <td>...</td>\n",
       "      <td>...</td>\n",
       "      <td>...</td>\n",
       "      <td>...</td>\n",
       "      <td>...</td>\n",
       "      <td>...</td>\n",
       "      <td>...</td>\n",
       "      <td>...</td>\n",
       "      <td>...</td>\n",
       "      <td>...</td>\n",
       "      <td>...</td>\n",
       "      <td>...</td>\n",
       "      <td>...</td>\n",
       "      <td>...</td>\n",
       "      <td>...</td>\n",
       "      <td>...</td>\n",
       "      <td>...</td>\n",
       "      <td>...</td>\n",
       "    </tr>\n",
       "    <tr>\n",
       "      <th>222547</th>\n",
       "      <td>135565</td>\n",
       "      <td>Fernando scar Zylberberg</td>\n",
       "      <td>M</td>\n",
       "      <td>27.0</td>\n",
       "      <td>168.0</td>\n",
       "      <td>76.0</td>\n",
       "      <td>Argentina</td>\n",
       "      <td>ARG</td>\n",
       "      <td>2004 Summer</td>\n",
       "      <td>2004</td>\n",
       "      <td>Summer</td>\n",
       "      <td>Athina</td>\n",
       "      <td>Hockey</td>\n",
       "      <td>Hockey Men's Hockey</td>\n",
       "      <td>NaN</td>\n",
       "      <td>Argentina</td>\n",
       "      <td>NaN</td>\n",
       "      <td>0</td>\n",
       "      <td>0</td>\n",
       "      <td>0</td>\n",
       "    </tr>\n",
       "    <tr>\n",
       "      <th>222548</th>\n",
       "      <td>135566</td>\n",
       "      <td>James Francis \"Jim\" Zylker</td>\n",
       "      <td>M</td>\n",
       "      <td>21.0</td>\n",
       "      <td>175.0</td>\n",
       "      <td>75.0</td>\n",
       "      <td>United States</td>\n",
       "      <td>USA</td>\n",
       "      <td>1972 Summer</td>\n",
       "      <td>1972</td>\n",
       "      <td>Summer</td>\n",
       "      <td>Munich</td>\n",
       "      <td>Football</td>\n",
       "      <td>Football Men's Football</td>\n",
       "      <td>NaN</td>\n",
       "      <td>USA</td>\n",
       "      <td>NaN</td>\n",
       "      <td>0</td>\n",
       "      <td>0</td>\n",
       "      <td>0</td>\n",
       "    </tr>\n",
       "    <tr>\n",
       "      <th>222549</th>\n",
       "      <td>135567</td>\n",
       "      <td>Aleksandr Viktorovich Zyuzin</td>\n",
       "      <td>M</td>\n",
       "      <td>24.0</td>\n",
       "      <td>183.0</td>\n",
       "      <td>72.0</td>\n",
       "      <td>Russia</td>\n",
       "      <td>RUS</td>\n",
       "      <td>2000 Summer</td>\n",
       "      <td>2000</td>\n",
       "      <td>Summer</td>\n",
       "      <td>Sydney</td>\n",
       "      <td>Rowing</td>\n",
       "      <td>Rowing Men's Lightweight Coxless Fours</td>\n",
       "      <td>NaN</td>\n",
       "      <td>Russia</td>\n",
       "      <td>NaN</td>\n",
       "      <td>0</td>\n",
       "      <td>0</td>\n",
       "      <td>0</td>\n",
       "    </tr>\n",
       "    <tr>\n",
       "      <th>222550</th>\n",
       "      <td>135567</td>\n",
       "      <td>Aleksandr Viktorovich Zyuzin</td>\n",
       "      <td>M</td>\n",
       "      <td>28.0</td>\n",
       "      <td>183.0</td>\n",
       "      <td>72.0</td>\n",
       "      <td>Russia</td>\n",
       "      <td>RUS</td>\n",
       "      <td>2004 Summer</td>\n",
       "      <td>2004</td>\n",
       "      <td>Summer</td>\n",
       "      <td>Athina</td>\n",
       "      <td>Rowing</td>\n",
       "      <td>Rowing Men's Lightweight Coxless Fours</td>\n",
       "      <td>NaN</td>\n",
       "      <td>Russia</td>\n",
       "      <td>NaN</td>\n",
       "      <td>0</td>\n",
       "      <td>0</td>\n",
       "      <td>0</td>\n",
       "    </tr>\n",
       "    <tr>\n",
       "      <th>222551</th>\n",
       "      <td>135568</td>\n",
       "      <td>Olga Igorevna Zyuzkova</td>\n",
       "      <td>F</td>\n",
       "      <td>33.0</td>\n",
       "      <td>171.0</td>\n",
       "      <td>69.0</td>\n",
       "      <td>Belarus</td>\n",
       "      <td>BLR</td>\n",
       "      <td>2016 Summer</td>\n",
       "      <td>2016</td>\n",
       "      <td>Summer</td>\n",
       "      <td>Rio de Janeiro</td>\n",
       "      <td>Basketball</td>\n",
       "      <td>Basketball Women's Basketball</td>\n",
       "      <td>NaN</td>\n",
       "      <td>Belarus</td>\n",
       "      <td>NaN</td>\n",
       "      <td>0</td>\n",
       "      <td>0</td>\n",
       "      <td>0</td>\n",
       "    </tr>\n",
       "  </tbody>\n",
       "</table>\n",
       "<p>222552 rows × 20 columns</p>\n",
       "</div>"
      ],
      "text/plain": [
       "            ID                                Name Sex   Age  Height  Weight  \\\n",
       "0            1                           A Dijiang   M  24.0   180.0    80.0   \n",
       "1            2                            A Lamusi   M  23.0   170.0    60.0   \n",
       "2            3                 Gunnar Nielsen Aaby   M  24.0     NaN     NaN   \n",
       "3            4                Edgar Lindenau Aabye   M  34.0     NaN     NaN   \n",
       "4            8  Cornelia \"Cor\" Aalten (-Strannood)   F  18.0   168.0     NaN   \n",
       "...        ...                                 ...  ..   ...     ...     ...   \n",
       "222547  135565            Fernando scar Zylberberg   M  27.0   168.0    76.0   \n",
       "222548  135566          James Francis \"Jim\" Zylker   M  21.0   175.0    75.0   \n",
       "222549  135567        Aleksandr Viktorovich Zyuzin   M  24.0   183.0    72.0   \n",
       "222550  135567        Aleksandr Viktorovich Zyuzin   M  28.0   183.0    72.0   \n",
       "222551  135568              Olga Igorevna Zyuzkova   F  33.0   171.0    69.0   \n",
       "\n",
       "                  Team  NOC        Games  Year  Season            City  \\\n",
       "0                China  CHN  1992 Summer  1992  Summer       Barcelona   \n",
       "1                China  CHN  2012 Summer  2012  Summer          London   \n",
       "2              Denmark  DEN  1920 Summer  1920  Summer       Antwerpen   \n",
       "3       Denmark/Sweden  DEN  1900 Summer  1900  Summer           Paris   \n",
       "4          Netherlands  NED  1932 Summer  1932  Summer     Los Angeles   \n",
       "...                ...  ...          ...   ...     ...             ...   \n",
       "222547       Argentina  ARG  2004 Summer  2004  Summer          Athina   \n",
       "222548   United States  USA  1972 Summer  1972  Summer          Munich   \n",
       "222549          Russia  RUS  2000 Summer  2000  Summer          Sydney   \n",
       "222550          Russia  RUS  2004 Summer  2004  Summer          Athina   \n",
       "222551         Belarus  BLR  2016 Summer  2016  Summer  Rio de Janeiro   \n",
       "\n",
       "             Sport                                   Event Medal       region  \\\n",
       "0       Basketball             Basketball Men's Basketball   NaN        China   \n",
       "1             Judo            Judo Men's Extra-Lightweight   NaN        China   \n",
       "2         Football                 Football Men's Football   NaN      Denmark   \n",
       "3       Tug-Of-War             Tug-Of-War Men's Tug-Of-War  Gold      Denmark   \n",
       "4        Athletics            Athletics Women's 100 metres   NaN  Netherlands   \n",
       "...            ...                                     ...   ...          ...   \n",
       "222547      Hockey                     Hockey Men's Hockey   NaN    Argentina   \n",
       "222548    Football                 Football Men's Football   NaN          USA   \n",
       "222549      Rowing  Rowing Men's Lightweight Coxless Fours   NaN       Russia   \n",
       "222550      Rowing  Rowing Men's Lightweight Coxless Fours   NaN       Russia   \n",
       "222551  Basketball           Basketball Women's Basketball   NaN      Belarus   \n",
       "\n",
       "       notes  Bronze  Gold  Silver  \n",
       "0        NaN       0     0       0  \n",
       "1        NaN       0     0       0  \n",
       "2        NaN       0     0       0  \n",
       "3        NaN       0     1       0  \n",
       "4        NaN       0     0       0  \n",
       "...      ...     ...   ...     ...  \n",
       "222547   NaN       0     0       0  \n",
       "222548   NaN       0     0       0  \n",
       "222549   NaN       0     0       0  \n",
       "222550   NaN       0     0       0  \n",
       "222551   NaN       0     0       0  \n",
       "\n",
       "[222552 rows x 20 columns]"
      ]
     },
     "execution_count": 285,
     "metadata": {},
     "output_type": "execute_result"
    }
   ],
   "source": [
    "S_df"
   ]
  },
  {
   "cell_type": "code",
   "execution_count": null,
   "id": "78157780",
   "metadata": {},
   "outputs": [],
   "source": []
  },
  {
   "cell_type": "code",
   "execution_count": 324,
   "id": "d534d318",
   "metadata": {
    "scrolled": true
   },
   "outputs": [
    {
     "data": {
      "text/html": [
       "<div>\n",
       "<style scoped>\n",
       "    .dataframe tbody tr th:only-of-type {\n",
       "        vertical-align: middle;\n",
       "    }\n",
       "\n",
       "    .dataframe tbody tr th {\n",
       "        vertical-align: top;\n",
       "    }\n",
       "\n",
       "    .dataframe thead th {\n",
       "        text-align: right;\n",
       "    }\n",
       "</style>\n",
       "<table border=\"1\" class=\"dataframe\">\n",
       "  <thead>\n",
       "    <tr style=\"text-align: right;\">\n",
       "      <th></th>\n",
       "      <th>Year</th>\n",
       "      <th>Males</th>\n",
       "      <th>Females</th>\n",
       "    </tr>\n",
       "  </thead>\n",
       "  <tbody>\n",
       "    <tr>\n",
       "      <th>0</th>\n",
       "      <td>1896</td>\n",
       "      <td>380</td>\n",
       "      <td>NaN</td>\n",
       "    </tr>\n",
       "    <tr>\n",
       "      <th>1</th>\n",
       "      <td>1900</td>\n",
       "      <td>1903</td>\n",
       "      <td>33.0</td>\n",
       "    </tr>\n",
       "    <tr>\n",
       "      <th>2</th>\n",
       "      <td>1904</td>\n",
       "      <td>1285</td>\n",
       "      <td>16.0</td>\n",
       "    </tr>\n",
       "    <tr>\n",
       "      <th>3</th>\n",
       "      <td>1906</td>\n",
       "      <td>1722</td>\n",
       "      <td>11.0</td>\n",
       "    </tr>\n",
       "    <tr>\n",
       "      <th>4</th>\n",
       "      <td>1908</td>\n",
       "      <td>3054</td>\n",
       "      <td>47.0</td>\n",
       "    </tr>\n",
       "    <tr>\n",
       "      <th>5</th>\n",
       "      <td>1912</td>\n",
       "      <td>3953</td>\n",
       "      <td>87.0</td>\n",
       "    </tr>\n",
       "    <tr>\n",
       "      <th>6</th>\n",
       "      <td>1920</td>\n",
       "      <td>4158</td>\n",
       "      <td>134.0</td>\n",
       "    </tr>\n",
       "    <tr>\n",
       "      <th>7</th>\n",
       "      <td>1924</td>\n",
       "      <td>4989</td>\n",
       "      <td>244.0</td>\n",
       "    </tr>\n",
       "    <tr>\n",
       "      <th>8</th>\n",
       "      <td>1928</td>\n",
       "      <td>4588</td>\n",
       "      <td>404.0</td>\n",
       "    </tr>\n",
       "    <tr>\n",
       "      <th>9</th>\n",
       "      <td>1932</td>\n",
       "      <td>2622</td>\n",
       "      <td>347.0</td>\n",
       "    </tr>\n",
       "    <tr>\n",
       "      <th>10</th>\n",
       "      <td>1936</td>\n",
       "      <td>6038</td>\n",
       "      <td>468.0</td>\n",
       "    </tr>\n",
       "    <tr>\n",
       "      <th>11</th>\n",
       "      <td>1948</td>\n",
       "      <td>5777</td>\n",
       "      <td>628.0</td>\n",
       "    </tr>\n",
       "    <tr>\n",
       "      <th>12</th>\n",
       "      <td>1952</td>\n",
       "      <td>6773</td>\n",
       "      <td>1497.0</td>\n",
       "    </tr>\n",
       "    <tr>\n",
       "      <th>13</th>\n",
       "      <td>1956</td>\n",
       "      <td>4234</td>\n",
       "      <td>893.0</td>\n",
       "    </tr>\n",
       "    <tr>\n",
       "      <th>14</th>\n",
       "      <td>1960</td>\n",
       "      <td>6684</td>\n",
       "      <td>1435.0</td>\n",
       "    </tr>\n",
       "    <tr>\n",
       "      <th>15</th>\n",
       "      <td>1964</td>\n",
       "      <td>6354</td>\n",
       "      <td>1348.0</td>\n",
       "    </tr>\n",
       "    <tr>\n",
       "      <th>16</th>\n",
       "      <td>1968</td>\n",
       "      <td>6811</td>\n",
       "      <td>1777.0</td>\n",
       "    </tr>\n",
       "    <tr>\n",
       "      <th>17</th>\n",
       "      <td>1972</td>\n",
       "      <td>8111</td>\n",
       "      <td>2193.0</td>\n",
       "    </tr>\n",
       "    <tr>\n",
       "      <th>18</th>\n",
       "      <td>1976</td>\n",
       "      <td>6469</td>\n",
       "      <td>2172.0</td>\n",
       "    </tr>\n",
       "    <tr>\n",
       "      <th>19</th>\n",
       "      <td>1980</td>\n",
       "      <td>5435</td>\n",
       "      <td>1756.0</td>\n",
       "    </tr>\n",
       "    <tr>\n",
       "      <th>20</th>\n",
       "      <td>1984</td>\n",
       "      <td>7007</td>\n",
       "      <td>2447.0</td>\n",
       "    </tr>\n",
       "    <tr>\n",
       "      <th>21</th>\n",
       "      <td>1988</td>\n",
       "      <td>8494</td>\n",
       "      <td>3543.0</td>\n",
       "    </tr>\n",
       "    <tr>\n",
       "      <th>22</th>\n",
       "      <td>1992</td>\n",
       "      <td>8853</td>\n",
       "      <td>4124.0</td>\n",
       "    </tr>\n",
       "    <tr>\n",
       "      <th>23</th>\n",
       "      <td>1996</td>\n",
       "      <td>8772</td>\n",
       "      <td>5008.0</td>\n",
       "    </tr>\n",
       "    <tr>\n",
       "      <th>24</th>\n",
       "      <td>2000</td>\n",
       "      <td>8390</td>\n",
       "      <td>5431.0</td>\n",
       "    </tr>\n",
       "    <tr>\n",
       "      <th>25</th>\n",
       "      <td>2004</td>\n",
       "      <td>7897</td>\n",
       "      <td>5546.0</td>\n",
       "    </tr>\n",
       "    <tr>\n",
       "      <th>26</th>\n",
       "      <td>2008</td>\n",
       "      <td>7786</td>\n",
       "      <td>5816.0</td>\n",
       "    </tr>\n",
       "    <tr>\n",
       "      <th>27</th>\n",
       "      <td>2012</td>\n",
       "      <td>7105</td>\n",
       "      <td>5815.0</td>\n",
       "    </tr>\n",
       "    <tr>\n",
       "      <th>28</th>\n",
       "      <td>2016</td>\n",
       "      <td>7465</td>\n",
       "      <td>6223.0</td>\n",
       "    </tr>\n",
       "  </tbody>\n",
       "</table>\n",
       "</div>"
      ],
      "text/plain": [
       "    Year  Males  Females\n",
       "0   1896    380      NaN\n",
       "1   1900   1903     33.0\n",
       "2   1904   1285     16.0\n",
       "3   1906   1722     11.0\n",
       "4   1908   3054     47.0\n",
       "5   1912   3953     87.0\n",
       "6   1920   4158    134.0\n",
       "7   1924   4989    244.0\n",
       "8   1928   4588    404.0\n",
       "9   1932   2622    347.0\n",
       "10  1936   6038    468.0\n",
       "11  1948   5777    628.0\n",
       "12  1952   6773   1497.0\n",
       "13  1956   4234    893.0\n",
       "14  1960   6684   1435.0\n",
       "15  1964   6354   1348.0\n",
       "16  1968   6811   1777.0\n",
       "17  1972   8111   2193.0\n",
       "18  1976   6469   2172.0\n",
       "19  1980   5435   1756.0\n",
       "20  1984   7007   2447.0\n",
       "21  1988   8494   3543.0\n",
       "22  1992   8853   4124.0\n",
       "23  1996   8772   5008.0\n",
       "24  2000   8390   5431.0\n",
       "25  2004   7897   5546.0\n",
       "26  2008   7786   5816.0\n",
       "27  2012   7105   5815.0\n",
       "28  2016   7465   6223.0"
      ]
     },
     "execution_count": 324,
     "metadata": {},
     "output_type": "execute_result"
    }
   ],
   "source": [
    "def males_vs_female(S_df):\n",
    "    male=S_df[S_df['Sex']=='M'].groupby(by=['Year','Sex']).count()[['Name']].reset_index()\n",
    "    female=S_df[S_df['Sex']=='F'].groupby(by=['Year','Sex']).count()[['Name']].reset_index()\n",
    "    temp_df=male.merge(female,on='Year',how='left')\n",
    "    temp_df.rename(columns={'Name_x':'Males',\"Name_y\":\"Females\"},inplace=True)\n",
    "    temp_df.drop(columns=['Sex_x','Sex_y'],inplace=True)\n",
    "    return temp_df\n",
    "\n",
    "    \n",
    "males_vs_female(S_df)\n",
    "    # fig=px.line(temp_df,x='Year',y=['Males','Females'])\n",
    "# fig"
   ]
  },
  {
   "cell_type": "code",
   "execution_count": null,
   "id": "1630ffba",
   "metadata": {},
   "outputs": [],
   "source": []
  }
 ],
 "metadata": {
  "kernelspec": {
   "display_name": "Python 3",
   "language": "python",
   "name": "python3"
  },
  "language_info": {
   "codemirror_mode": {
    "name": "ipython",
    "version": 3
   },
   "file_extension": ".py",
   "mimetype": "text/x-python",
   "name": "python",
   "nbconvert_exporter": "python",
   "pygments_lexer": "ipython3",
   "version": "3.8.8"
  }
 },
 "nbformat": 4,
 "nbformat_minor": 5
}
